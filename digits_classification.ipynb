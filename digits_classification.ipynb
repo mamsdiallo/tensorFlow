{
  "nbformat": 4,
  "nbformat_minor": 0,
  "metadata": {
    "colab": {
      "name": "digits_classification.ipynb",
      "version": "0.3.2",
      "provenance": [],
      "collapsed_sections": [],
      "include_colab_link": true
    },
    "kernelspec": {
      "display_name": "Python 3",
      "language": "python",
      "name": "python3"
    }
  },
  "cells": [
    {
      "cell_type": "markdown",
      "metadata": {
        "id": "view-in-github",
        "colab_type": "text"
      },
      "source": [
        "<a href=\"https://colab.research.google.com/github/mamsdiallo/tensorFlow/blob/master/digits_classification.ipynb\" target=\"_parent\"><img src=\"https://colab.research.google.com/assets/colab-badge.svg\" alt=\"Open In Colab\"/></a>"
      ]
    },
    {
      "cell_type": "markdown",
      "metadata": {
        "id": "dhiffONRptb4",
        "colab_type": "text"
      },
      "source": [
        "# MNIST digits classification with TensorFlow"
      ]
    },
    {
      "cell_type": "markdown",
      "metadata": {
        "id": "LskOR0FKptb8",
        "colab_type": "text"
      },
      "source": [
        "<img src=\"https://github.com/hse-aml/intro-to-dl/blob/master/week2/v2/images/mnist_sample.png?raw=1\" style=\"width:30%\">"
      ]
    },
    {
      "cell_type": "markdown",
      "metadata": {
        "id": "Hsb3uKwY4FYT",
        "colab_type": "text"
      },
      "source": [
        "Sources:\n",
        "https://www.easy-tensorflow.com/tf-tutorials/linear-models/linear-classifier\n"
      ]
    },
    {
      "cell_type": "code",
      "metadata": {
        "id": "0Aoenxc9p3Zz",
        "colab_type": "code",
        "outputId": "2e673584-7f7b-43f1-a3e9-22e19f891c9f",
        "colab": {
          "base_uri": "https://localhost:8080/",
          "height": 323
        }
      },
      "source": [
        "! shred -u setup_google_colab.py\n",
        "! wget https://raw.githubusercontent.com/hse-aml/intro-to-dl/master/setup_google_colab.py -O setup_google_colab.py\n",
        "import setup_google_colab\n",
        "# please, uncomment the week you're working on\n",
        "setup_google_colab.setup_week2()"
      ],
      "execution_count": 1,
      "outputs": [
        {
          "output_type": "stream",
          "text": [
            "shred: setup_google_colab.py: failed to open for writing: No such file or directory\n",
            "--2019-09-01 16:07:53--  https://raw.githubusercontent.com/hse-aml/intro-to-dl/master/setup_google_colab.py\n",
            "Resolving raw.githubusercontent.com (raw.githubusercontent.com)... 151.101.0.133, 151.101.64.133, 151.101.128.133, ...\n",
            "Connecting to raw.githubusercontent.com (raw.githubusercontent.com)|151.101.0.133|:443... connected.\n",
            "HTTP request sent, awaiting response... 200 OK\n",
            "Length: 3792 (3.7K) [text/plain]\n",
            "Saving to: ‘setup_google_colab.py’\n",
            "\n",
            "setup_google_colab. 100%[===================>]   3.70K  --.-KB/s    in 0.001s  \n",
            "\n",
            "2019-09-01 16:07:53 (2.44 MB/s) - ‘setup_google_colab.py’ saved [3792/3792]\n",
            "\n",
            "**************************************************\n",
            "inception_v3_weights_tf_dim_ordering_tf_kernels_notop.h5\n",
            "**************************************************\n",
            "cifar-10-batches-py.tar.gz\n",
            "**************************************************\n",
            "mnist.npz\n"
          ],
          "name": "stdout"
        }
      ]
    },
    {
      "cell_type": "code",
      "metadata": {
        "id": "VeIB27bFptb-",
        "colab_type": "code",
        "outputId": "680cedea-0ed7-458c-975f-683b9671d9e1",
        "colab": {
          "base_uri": "https://localhost:8080/",
          "height": 51
        }
      },
      "source": [
        "import numpy as np\n",
        "from sklearn.metrics import accuracy_score\n",
        "from matplotlib import pyplot as plt\n",
        "%matplotlib inline\n",
        "import tensorflow as tf\n",
        "print(\"We're using TF\", tf.__version__)\n",
        "\n",
        "import sys\n",
        "sys.path.append(\"../..\")\n",
        "import grading\n",
        "\n",
        "import matplotlib_utils\n",
        "from importlib import reload\n",
        "reload(matplotlib_utils)\n",
        "\n",
        "import grading_utils\n",
        "reload(grading_utils)\n",
        "\n",
        "import keras_utils\n",
        "from keras_utils import reset_tf_session"
      ],
      "execution_count": 2,
      "outputs": [
        {
          "output_type": "stream",
          "text": [
            "We're using TF 1.14.0\n"
          ],
          "name": "stdout"
        },
        {
          "output_type": "stream",
          "text": [
            "Using TensorFlow backend.\n"
          ],
          "name": "stderr"
        }
      ]
    },
    {
      "cell_type": "markdown",
      "metadata": {
        "id": "frpYtxdBptcE",
        "colab_type": "text"
      },
      "source": [
        "# Fill in your Coursera token and email\n",
        "To successfully submit your answers to our grader, please fill in your Coursera submission token and email"
      ]
    },
    {
      "cell_type": "code",
      "metadata": {
        "id": "hcBfzCbFptcG",
        "colab_type": "code",
        "colab": {}
      },
      "source": [
        "grader = grading.Grader(assignment_key=\"XtD7ho3TEeiHQBLWejjYAA\", \n",
        "                        all_parts=[\"9XaAS\", \"vmogZ\", \"RMv95\", \"i8bgs\", \"rE763\"])"
      ],
      "execution_count": 0,
      "outputs": []
    },
    {
      "cell_type": "code",
      "metadata": {
        "id": "0TuLDClwptcL",
        "colab_type": "code",
        "colab": {}
      },
      "source": [
        "# token expires every 30 min\n",
        "#COURSERA_TOKEN = \"kRqeoVLNFl8m0FQP\"\n",
        "#COURSERA_EMAIL = \"\""
      ],
      "execution_count": 0,
      "outputs": []
    },
    {
      "cell_type": "markdown",
      "metadata": {
        "id": "crtXHp0VptcQ",
        "colab_type": "text"
      },
      "source": [
        "# Look at the data\n",
        "\n",
        "In this task we have 50000 28x28 images of digits from 0 to 9.\n",
        "We will train a classifier on this data."
      ]
    },
    {
      "cell_type": "code",
      "metadata": {
        "id": "VBjZ9nJLptcS",
        "colab_type": "code",
        "outputId": "a0d595da-e513-4ea2-f9d2-3dba3dc2a352",
        "colab": {
          "base_uri": "https://localhost:8080/",
          "height": 51
        }
      },
      "source": [
        "import preprocessed_mnist\n",
        "X_train, y_train, X_val, y_val, X_test, y_test = preprocessed_mnist.load_dataset()"
      ],
      "execution_count": 5,
      "outputs": [
        {
          "output_type": "stream",
          "text": [
            "Downloading data from https://s3.amazonaws.com/img-datasets/mnist.npz\n",
            " 3530752/11490434 [========>.....................] - ETA: 0s"
          ],
          "name": "stdout"
        }
      ]
    },
    {
      "cell_type": "code",
      "metadata": {
        "id": "JslHuBKvptcY",
        "colab_type": "code",
        "outputId": "37ba675a-bf44-4185-c169-ec75ebfe9aef",
        "colab": {
          "base_uri": "https://localhost:8080/",
          "height": 691
        }
      },
      "source": [
        "# X contains rgb values divided by 255\n",
        "print(\"X_train [shape %s] sample patch:\\n\" % (str(X_train.shape)), X_train[1, 15:20, 5:10])\n",
        "print(\"A closeup of a sample patch:\")\n",
        "plt.imshow(X_train[1, 15:20, 5:10], cmap=\"Greys\")\n",
        "plt.show()\n",
        "print(\"And the whole sample:\")\n",
        "plt.imshow(X_train[1], cmap=\"Greys\")\n",
        "plt.show()\n",
        "print(\"y_train [shape %s] 10 samples:\\n\" % (str(y_train.shape)), y_train[:10])"
      ],
      "execution_count": 6,
      "outputs": [
        {
          "output_type": "stream",
          "text": [
            "X_train [shape (50000, 28, 28)] sample patch:\n",
            " [[0.         0.29803922 0.96470588 0.98823529 0.43921569]\n",
            " [0.         0.33333333 0.98823529 0.90196078 0.09803922]\n",
            " [0.         0.33333333 0.98823529 0.8745098  0.        ]\n",
            " [0.         0.33333333 0.98823529 0.56862745 0.        ]\n",
            " [0.         0.3372549  0.99215686 0.88235294 0.        ]]\n",
            "A closeup of a sample patch:\n"
          ],
          "name": "stdout"
        },
        {
          "output_type": "display_data",
          "data": {
            "image/png": "[encoded data removed]",
            "text/plain": [
              "<Figure size 432x288 with 1 Axes>"
            ]
          },
          "metadata": {
            "tags": []
          }
        },
        {
          "output_type": "stream",
          "text": [
            "And the whole sample:\n"
          ],
          "name": "stdout"
        },
        {
          "output_type": "display_data",
          "data": {
            "image/png": "[encoded data removed]",
            "text/plain": [
              "<Figure size 432x288 with 1 Axes>"
            ]
          },
          "metadata": {
            "tags": []
          }
        },
        {
          "output_type": "stream",
          "text": [
            "y_train [shape (50000,)] 10 samples:\n",
            " [5 0 4 1 9 2 1 3 1 4]\n"
          ],
          "name": "stdout"
        }
      ]
    },
    {
      "cell_type": "markdown",
      "metadata": {
        "id": "px4jBZykptcc",
        "colab_type": "text"
      },
      "source": [
        "# Linear model\n",
        "\n",
        "Your task is to train a linear classifier $\\vec{x} \\rightarrow y$ with SGD using TensorFlow.\n",
        "\n",
        "You will need to calculate a logit (a linear transformation) $z_k$ for each class: \n",
        "$$z_k = \\vec{x} \\cdot \\vec{w_k} + b_k \\quad k = 0..9$$\n",
        "\n",
        "And transform logits $z_k$ to valid probabilities $p_k$ with softmax: \n",
        "$$p_k = \\frac{e^{z_k}}{\\sum_{i=0}^{9}{e^{z_i}}} \\quad k = 0..9$$\n",
        "\n",
        "We will use a cross-entropy loss to train our multi-class classifier:\n",
        "$$\\text{cross-entropy}(y, p) = -\\sum_{k=0}^{9}{\\log(p_k)[y = k]}$$ \n",
        "\n",
        "where \n",
        "$$\n",
        "[x]=\\begin{cases}\n",
        "       1, \\quad \\text{if $x$ is true} \\\\\n",
        "       0, \\quad \\text{otherwise}\n",
        "    \\end{cases}\n",
        "$$\n",
        "\n",
        "Cross-entropy minimization pushes $p_k$ close to 1 when $y = k$, which is what we want.\n",
        "\n",
        "Here's the plan:\n",
        "* Flatten the images (28x28 -> 784) with `X_train.reshape((X_train.shape[0], -1))` to simplify our linear model implementation\n",
        "* Use a matrix placeholder for flattened `X_train`\n",
        "* Convert `y_train` to one-hot encoded vectors that are needed for cross-entropy\n",
        "* Use a shared variable `W` for all weights (a column $\\vec{w_k}$ per class) and `b` for all biases.\n",
        "* Aim for ~0.93 validation accuracy"
      ]
    },
    {
      "cell_type": "code",
      "metadata": {
        "id": "je61-Czgptcd",
        "colab_type": "code",
        "outputId": "ade05857-e126-4d22-bb19-1f567f079532",
        "colab": {
          "base_uri": "https://localhost:8080/",
          "height": 51
        }
      },
      "source": [
        "X_train_flat = X_train.reshape((X_train.shape[0], -1))\n",
        "print(X_train_flat.shape)\n",
        "\n",
        "X_val_flat = X_val.reshape((X_val.shape[0], -1))\n",
        "print(X_val_flat.shape)"
      ],
      "execution_count": 7,
      "outputs": [
        {
          "output_type": "stream",
          "text": [
            "(50000, 784)\n",
            "(10000, 784)\n"
          ],
          "name": "stdout"
        }
      ]
    },
    {
      "cell_type": "code",
      "metadata": {
        "id": "kFQSEupKptch",
        "colab_type": "code",
        "outputId": "cb52e105-e2f6-449f-c18e-b7d40a5695ec",
        "colab": {
          "base_uri": "https://localhost:8080/",
          "height": 85
        }
      },
      "source": [
        "import keras\n",
        "\n",
        "y_train_oh = keras.utils.to_categorical(y_train, 10)\n",
        "y_val_oh = keras.utils.to_categorical(y_val, 10)\n",
        "\n",
        "print(y_train_oh.shape)\n",
        "print(y_train_oh[:3], y_train[:3])"
      ],
      "execution_count": 8,
      "outputs": [
        {
          "output_type": "stream",
          "text": [
            "(50000, 10)\n",
            "[[0. 0. 0. 0. 0. 1. 0. 0. 0. 0.]\n",
            " [1. 0. 0. 0. 0. 0. 0. 0. 0. 0.]\n",
            " [0. 0. 0. 0. 1. 0. 0. 0. 0. 0.]] [5 0 4]\n"
          ],
          "name": "stdout"
        }
      ]
    },
    {
      "cell_type": "code",
      "metadata": {
        "id": "2Zj6h8nJptcn",
        "colab_type": "code",
        "outputId": "9c6d63cc-8e8e-4e76-ef6a-265fb4b29fde",
        "colab": {
          "base_uri": "https://localhost:8080/",
          "height": 244
        }
      },
      "source": [
        "# run this again if you remake your graph\n",
        "s = reset_tf_session()"
      ],
      "execution_count": 9,
      "outputs": [
        {
          "output_type": "stream",
          "text": [
            "WARNING: Logging before flag parsing goes to stderr.\n",
            "W0901 16:08:12.256508 139734450648960 deprecation_wrapper.py:119] From /content/keras_utils.py:68: The name tf.get_default_session is deprecated. Please use tf.compat.v1.get_default_session instead.\n",
            "\n",
            "W0901 16:08:12.258930 139734450648960 deprecation_wrapper.py:119] From /usr/local/lib/python3.6/dist-packages/keras/backend/tensorflow_backend.py:79: The name tf.reset_default_graph is deprecated. Please use tf.compat.v1.reset_default_graph instead.\n",
            "\n",
            "W0901 16:08:12.261621 139734450648960 deprecation_wrapper.py:119] From /usr/local/lib/python3.6/dist-packages/keras/backend/tensorflow_backend.py:82: The name tf.placeholder is deprecated. Please use tf.compat.v1.placeholder instead.\n",
            "\n",
            "W0901 16:08:12.282639 139734450648960 deprecation_wrapper.py:119] From /usr/local/lib/python3.6/dist-packages/keras/backend/tensorflow_backend.py:84: The name tf.get_default_graph is deprecated. Please use tf.compat.v1.get_default_graph instead.\n",
            "\n",
            "W0901 16:08:12.284187 139734450648960 deprecation_wrapper.py:119] From /content/keras_utils.py:75: The name tf.ConfigProto is deprecated. Please use tf.compat.v1.ConfigProto instead.\n",
            "\n"
          ],
          "name": "stderr"
        }
      ]
    },
    {
      "cell_type": "code",
      "metadata": {
        "id": "RwKd-_Mzptcs",
        "colab_type": "code",
        "colab": {}
      },
      "source": [
        "# Model parameters: W and b\n",
        "initer = tf.truncated_normal_initializer(stddev=0.01)\n",
        "W = tf.get_variable('W',dtype=tf.float32,shape=[784, 10],initializer=initer)\n",
        "initial = tf.constant(0., shape=[10], dtype=tf.float32)\n",
        "b = tf.get_variable('b',dtype=tf.float32,initializer=initial)\n",
        "#W = ### YOUR CODE HERE ### tf.get_variable(...) with shape[0] = 784\n",
        "#b = ### YOUR CODE HERE ### tf.get_variable(...)"
      ],
      "execution_count": 0,
      "outputs": []
    },
    {
      "cell_type": "code",
      "metadata": {
        "id": "4ZgJY26Zptcz",
        "colab_type": "code",
        "colab": {}
      },
      "source": [
        "# Placeholders for the input data\n",
        "input_X = tf.placeholder(tf.float32, shape=[None, 784],name='X')### YOUR CODE HERE ### tf.placeholder(...) for flat X with shape[0] = None for any batch size\n",
        "input_y = tf.placeholder(tf.float32, shape=[None,10],name='Y') ### YOUR CODE HERE ### tf.placeholder(...) for one-hot encoded true labels"
      ],
      "execution_count": 0,
      "outputs": []
    },
    {
      "cell_type": "code",
      "metadata": {
        "id": "CQ8lQ2ofptc2",
        "colab_type": "code",
        "outputId": "908ff44d-eaf8-4ac8-f340-41c03409e0a1",
        "colab": {
          "base_uri": "https://localhost:8080/",
          "height": 213
        }
      },
      "source": [
        "# Compute predictions\n",
        "logits = tf.matmul(input_X, W) + b ## YOUR CODE HERE ### logits for input_X, resulting shape should be [input_X.shape[0], 10]\n",
        "probas = tf.nn.softmax(logits, name = 'Predictions') ### YOUR CODE HERE ### apply tf.nn.softmax to logits\n",
        "classes = tf.argmax(probas, 1)### YOUR CODE HERE ### apply tf.argmax to find a class index with highest probability\n",
        "\n",
        "# Loss should be a scalar number: average loss over all the objects with tf.reduce_mean().\n",
        "# Use tf.nn.softmax_cross_entropy_with_logits on top of one-hot encoded input_y and logits.\n",
        "# It is identical to calculating cross-entropy on top of probas, but is more numerically friendly (read the docs).\n",
        "loss = tf.reduce_mean(tf.nn.softmax_cross_entropy_with_logits(logits=logits, labels=input_y))### YOUR CODE HERE ### cross-entropy loss\n",
        "\n",
        "# Use a default tf.train.AdamOptimizer to get an SGD step\n",
        "step = tf.train.AdamOptimizer().minimize(loss) ### YOUR CODE HERE ### optimizer step that minimizes the loss"
      ],
      "execution_count": 12,
      "outputs": [
        {
          "output_type": "stream",
          "text": [
            "W0901 16:08:12.391801 139734450648960 deprecation.py:323] From <ipython-input-12-14d175ab7c82>:8: softmax_cross_entropy_with_logits (from tensorflow.python.ops.nn_ops) is deprecated and will be removed in a future version.\n",
            "Instructions for updating:\n",
            "\n",
            "Future major versions of TensorFlow will allow gradients to flow\n",
            "into the labels input on backprop by default.\n",
            "\n",
            "See `tf.nn.softmax_cross_entropy_with_logits_v2`.\n",
            "\n"
          ],
          "name": "stderr"
        }
      ]
    },
    {
      "cell_type": "code",
      "metadata": {
        "scrolled": false,
        "id": "PJOUWXqbptc5",
        "colab_type": "code",
        "outputId": "a055806b-bbcb-4be1-f6bd-e98f6d0cdb66",
        "colab": {
          "base_uri": "https://localhost:8080/",
          "height": 309
        }
      },
      "source": [
        "s.run(tf.global_variables_initializer())\n",
        "\n",
        "BATCH_SIZE = 512\n",
        "EPOCHS = 40\n",
        "\n",
        "# for logging the progress right here in Jupyter (for those who don't have TensorBoard)\n",
        "simpleTrainingCurves = matplotlib_utils.SimpleTrainingCurves(\"cross-entropy\", \"accuracy\")\n",
        "\n",
        "for epoch in range(EPOCHS):  # we finish an epoch when we've looked at all training samples\n",
        "    \n",
        "    batch_losses = []\n",
        "    for batch_start in range(0, X_train_flat.shape[0], BATCH_SIZE):  # data is already shuffled\n",
        "        _, batch_loss = s.run([step, loss], {input_X: X_train_flat[batch_start:batch_start+BATCH_SIZE], \n",
        "                                             input_y: y_train_oh[batch_start:batch_start+BATCH_SIZE]})\n",
        "        # collect batch losses, this is almost free as we need a forward pass for backprop anyway\n",
        "        batch_losses.append(batch_loss)\n",
        "\n",
        "    train_loss = np.mean(batch_losses)\n",
        "    val_loss = s.run(loss, {input_X: X_val_flat, input_y: y_val_oh})  # this part is usually small\n",
        "    train_accuracy = accuracy_score(y_train, s.run(classes, {input_X: X_train_flat}))  # this is slow and usually skipped\n",
        "    valid_accuracy = accuracy_score(y_val, s.run(classes, {input_X: X_val_flat}))  \n",
        "    simpleTrainingCurves.add(train_loss, val_loss, train_accuracy, valid_accuracy)"
      ],
      "execution_count": 13,
      "outputs": [
        {
          "output_type": "display_data",
          "data": {
            "text/html": [
              "<img src=\"data:image/jpeg;base64,/9j/4AAQSkZJRgABAQEASABIAAD/2wBDAAIBAQEBAQIBAQECAgICAgQDAgICAgUEBAMEBgUGBgYFBgYGBwkIBgcJBwYGCAsICQoKCgoKBggLDAsKDAkKCgr/2wBDAQICAgICAgUDAwUKBwYHCgoKCgoKCgoKCgoKCgoKCgoKCgoKCgoKCgoKCgoKCgoKCgoKCgoKCgoKCgoKCgoKCgr/wAARCAEgA2ADASIAAhEBAxEB/8QAHwAAAQUBAQEBAQEAAAAAAAAAAAECAwQFBgcICQoL/8QAtRAAAgEDAwIEAwUFBAQAAAF9AQIDAAQRBRIhMUEGE1FhByJxFDKBkaEII0KxwRVS0fAkM2JyggkKFhcYGRolJicoKSo0NTY3ODk6Q0RFRkdISUpTVFVWV1hZWmNkZWZnaGlqc3R1dnd4eXqDhIWGh4iJipKTlJWWl5iZmqKjpKWmp6ipqrKztLW2t7i5usLDxMXGx8jJytLT1NXW19jZ2uHi4%2BTl5ufo6erx8vP09fb3%2BPn6/8QAHwEAAwEBAQEBAQEBAQAAAAAAAAECAwQFBgcICQoL/8QAtREAAgECBAQDBAcFBAQAAQJ3AAECAxEEBSExBhJBUQdhcRMiMoEIFEKRobHBCSMzUvAVYnLRChYkNOEl8RcYGRomJygpKjU2Nzg5OkNERUZHSElKU1RVVldYWVpjZGVmZ2hpanN0dXZ3eHl6goOEhYaHiImKkpOUlZaXmJmaoqOkpaanqKmqsrO0tba3uLm6wsPExcbHyMnK0tPU1dbX2Nna4uPk5ebn6Onq8vP09fb3%2BPn6/9oADAMBAAIRAxEAPwD9/KKKKACiiigAooooAKKKKACiiigAooooAKKKKACiiigAooooAKKKKACiiigAooooAKKKKACiiigAooooAKKKKACiiigAooooAKKKKACiiigAooooAKKKKACiiigAooooAKKKKACiiigAooooAKKKKACiiigAooooAKKKKACiiigAooooAKKKKACiiigAooooAKKKKACiiigAooooAKKKKACiiigAooooAKKKKACiiigAooooAKKKKACiiigAooooAKKKKACiiigAooooAKKKKACiiigAooooAKKKKACiiigAooooAKKKKACiiigAooooAKKKKACiiigAooooAKKKKACiiigAooooAKKKKACvPfjt%2B1J8FP2b5NGsfil4g1Maj4ilnTQNB8OeF9R1zVNR8lVed4bHTbee5kjiVkMkixlI96biu5c%2BhV4N%2B0P8D/j5/wANJ%2BDv2tv2bLLwfrWueH/B2seFNX8KeOdcutLtLywv7mwuxcQXtraXj288U2noCpt3WVJSCUKK1ABpf/BTL9izWLvxPb2nxXv0h8FWsk/jLUrvwXrEFjoIS0iu9l5dy2iwWsrQzRskMjrJIWKorMrKL2n/APBQ/wDZK1HwBrXxFTx/q9vB4f1ay0vVdE1DwNrNrrkV5ebfscC6PNaLqEr3AYGER27eaAxTcFYjy2b9gH4y%2BMf2a/jn8NfGHinwppHin4o/FS38daHc6U1xeWFpeW0OiywQ3IkihkkiN3pRRwoyYHGDuJVaPi79i/8AaV%2BLmr/Ef45fG34S/CjWvFnjWx8KaPp/gKy%2BI2s2Wm6fY6Hcaldw3qa7b6al5DqDXOqTOksVoPJSKNFZiWcgHsviH9vv9mzwv4a8OeI9XvvG3meK0v5NE8P2vwm8SXGuSRWUscV3NJpMWntf28MLzQq8s0CIpmiy37xM%2Bmaz8RPBHhv4e3XxX8T%2BJbbSvDljo76rf6vqrfZYbSySIzPPMZdvlKsYLNvxtAOcYNfGHin9hH9s/WPgX4X8Nay3hfxV470a58RHRfGV/wDHbxNpGr%2BCLW%2BuUktLO11q1sJLzXIYkjhEy3qw/aTbReYCFGPUfjR/wTotfj1%2Bzb4n%2BHHxD%2BOfjW78d%2BMPhfH4Z17xS3jbWho818tpDE2oJoS3y2FuzzQLK3kRRSEPIBIrSM5AOkg/4KUfsZf8K58V/FbWPite6Jo3giysr7xQ/ifwdq%2Bk3NlZXkxhtb37LeWsVxJaSyK6pcxxtC3luQ%2BEYjj/AI3f8FZP2d/hn8ENU%2BMfgPRfFXiqbQfiD4X8L674Y/4QXXbHU7A6zqVrax3T2cmnNdeV5Fw88DeT5d48aW8MhknjB8r1T/gmJ8ZPHfwq8faR4i8DeG9G8Y%2BI9D0fR7DxDqv7RfjPxut3aWusW%2BoTRyf27AfsEZ8likUSzHe%2BGkxknv8A9qH9gz40/GD4g/F/4g%2BBfEPheOTxfB8LbzwlZ6tfXMSvf%2BE/EdzrUsN40dvJ5ENwGt4VljEzrl2MfyKrgHqFh/wUE/Zb1H4m2XwZh8T%2BJo/Fd5oun6xLoF38N9egudO0%2B9adILu/SSyU6dDut5VeS68pYiFEhQum6j4a/wCCmH7FPi3wZ4s%2BIWkfGC4TR/Bfgi68Zaxe6h4S1W0Fx4et0Z5tWsVntUbVLNVQ4nsxPGxZArEugbB0P9kP4ofEP4mfG74g/G9fD2gxfGj4O%2BHfCF1Y%2BE9duNRl0u4tE11Ltlnns7XzYwNViMT7FZikm6OPA3fN37Y37Kn7UOj/ALDHxS%2BJv7TF34AtIfhD%2BxT8QfBHhePwFqF5cNrzXukWxn1G6W5toBYqE0i3CWcbXAVppCZ22oKAPrPw9/wUl/Yy8TaHrHiPT/i1dQWehppU1/JqnhLVbJmtNSu1s7HUIUuLVGubCWdgovoQ9qoDO0qorMPT9E%2BLvw88R/FLX/gvofiH7T4k8LaXp%2Boa/YR2k22zgvmuBa7pinlF3%2ByzHy1cyKoRmVVkjLfJOofsz%2BIPFegeKfjb/wAFIvF/wz8J%2BBbf9nu5%2BHUlx4f8QTLay6beyQyXmq3k17BbpYOTBbCG2QzCAmT/AEiQsuOw/wCCPngP4u2f7I9r8f8A9pDUDf8AxJ%2BL15H4n8V6g9nJbtJCLSCy01fKl%2BeH/iX2lpI0TYKSzTZAYtkA%2BqqKKKACiiigAooooAKKKKACiiigAooooAKKKKACiiigAooooAKKKKACiiigAooooAKKKKACiiigAooooAKKKKACiiigAooooAK8R0j/AIKMfse6ld69Z6n8Urzw83hzw5c%2BINQk8a%2BEdV0GObSbd0jnv7WTUrWBb63R5IlaW2MqAyxjOXXPtN7FczWcsNndCCZ4mWKYx7/LYjhtp64POO9fmJq//BHL9uX4v6t4X1z43fHHQ31vw14P1Cz1DxRqHxW8TeJx4h1v7ZpV9a6idLvoobLSbaS50xfPsLIBRHJtWWQKgUA%2B2X/b/wD2YbX4aN8WNY8QeKtK0ttcg0axs9c%2BGWv2GqanfzIZIYLLTbixS9v2kQM6/Z4ZAyo7AkIxHReA/wBqz4H/ABH1%2By8J%2BHPEOqQ6vf8AhSfxJDpGteFdS0y7TTYbv7JLLLDeW8UkDrP8hhkVZe%2BzbzXk3xO%2BDn7bvxib4e/G3XPBvwq0P4h/Cjx1NrHh/wAM2vjjUr/Rdcs7jSbvTLmO4vn0qGaxmKXskkbpa3AjMQU%2BYJGxV%2BJPwG/bg1/4y%2BHf2mvA%2BjfCu08WX3ww1XwX4x0LUvFepSWGkLcX8N1a39lcJpwk1AxCN1kt5YrQSlxiWLHIB3Gk/wDBRv8AZA8R694F8LeFfiNqus6n8SfBuleLfBunaJ4H1m9nvND1F9lrqMiQWjNa2%2B7HmSTiNbcMpm8oMCdj4a/tufs3fFf4jXPwn8M%2BL9Ws9ft9LudThsvE/gzVtEW/sbeRI57uyl1G1gjv4I3liDy2zSIvmISQGUnyj9hT9hL4sfsw6/8ADjWfHniDw1dnwd%2Byl4R%2BGN%2B%2BkXM8rNq2lvM1zNF5kEe61bemxmKu235o0wK8a%2BGn/BKv9sbxP8UfC/ib9qb4w2eqRaf4A8V%2BF/GniaD4v%2BJNavPEUur2KW39p2umX0Men6EcqWNpaKUXKgTOI1WgD6l8J/8ABRf9kfxrosfirQfHeuf2Hcarpen6f4lvfh/rdrpWoy6lex2VlJaX09mlteQS3M0UYuIJHhBlQs4VgT6X4W%2BLvw88a/EDxT8LvC/iH7XrnguSzj8T2iWkwWxkuoPtEEZlZBG7tCVkKIzMiyRlgokTd8w%2BOPAnxF8K/wDBPbxp8CP%2BChnif4VeCPAWg/DSLQLb4meHfFt2GadI0trXUntLqzgTTZlmFvJDBHcXTGcoiOTtDdr/AMEr/h98WPDf7ImlfFX9oqwS3%2BJ3xYvpfHXxEhW3aL7Pf36xmG02N8yfZbGOys9pyQLXBoA%2BjaKKKACiiigAooooAKKKKACiiigAooooAKKKKACiiigAooooAKKKKACiiigAooooAKKKKACiiigAooooAKKKKACiiigAooooAKK5b42%2BCLH4jfCjXfBupa/r2lwXdiS994Z1%2B60u%2Bj2ESDyrq0kjmhJKBS0bqxUsMjNeQ/s2%2BI9G8Zf8EsPhn45/aB%2BLWsadZXnwP8P6r4y8aS%2BLLiwvVT%2Byrae6u5dRSRZ4nbDs84kWT5mO4E5oA%2Bh68X%2BPXj/9ov8A4aL8C/Aj4C%2BM/BXh9Nf8FeJde1fU/F/gu71ok6dd6Hbwwwx2%2BpWPlhv7UlZmZnz5aABeSaf/AAT%2B0/4hR/CTW/Efim48Wp4b17xfc6j8NNK8e6td32t6d4deC3SBLya9d7kvLPHdXaR3DtNDFeRQybWiKLz2t/EzxBqv/BVL4feBdb%2BEuv6FaWvwa8fLpmvarc6e9trZGq%2BDyWtVtruWZFQZ3faYoG%2BZdob5tqbS3LhCVR2j2b%2B7VnX/APCD/wDBQv8A6Og%2BDP8A4YfVv/moo/4Qf/goX/0dB8Gf/DD6t/8ANRXs1FMg8Z/4Qf8A4KF/9HQfBn/ww%2Brf/NRR/wAIP/wUL/6Og%2BDP/hh9W/8Amor2aigDxn/hB/8AgoX/ANHQfBn/AMMPq3/zUUf8IP8A8FC/%2BjoPgz/4YfVv/mor2aigDxn/AIQf/goX/wBHQfBn/wAMPq3/AM1FH/CD/wDBQv8A6Og%2BDP8A4YfVv/mor2aigDxn/hB/%2BChf/R0HwZ/8MPq3/wA1FH/CD/8ABQv/AKOg%2BDP/AIYfVv8A5qK9mooA8Z/4Qf8A4KF/9HQfBn/ww%2Brf/NRR/wAIP/wUL/6Og%2BDP/hh9W/8Amor2aigDxn/hB/8AgoX/ANHQfBn/AMMPq3/zUUf8IP8A8FC/%2BjoPgz/4YfVv/mor2aigDxn/AIQf/goX/wBHQfBn/wAMPq3/AM1FH/CD/wDBQv8A6Og%2BDP8A4YfVv/moq1r/AMb/ANkT4U2mkaT8dPjD8OfDmuahosGoG28XeIbC0u7iOTI8/bcOrsjOkgDdMowzwQM3/hr/AP4Jwf8AR0XwR/8AC20f/wCO1zTxmDpycZ1Ypro5RT%2B5yTPaw/DfEmLoRrUMDXnCSupRo1pRa7qUaMotaPVNrTcsf8IP/wAFC/8Ao6D4M/8Ahh9W/wDmoo/4Qf8A4KF/9HQfBn/ww%2Brf/NRVf/hr/wD4Jwf9HRfBH/wttH/%2BO16doGi/CzxXoVl4p8LaT4f1LTNStI7rTtR0%2BCCaC6gkUPHLHIgKujKQyspIIIIODV0sTh67apzjK3aSf5NnPjsmznK4RnjcLVpKTsnUp1Kab3snOnBN21sm3bW1tTzn/hB/%2BChf/R0HwZ/8MPq3/wA1FH/CD/8ABQv/AKOg%2BDP/AIYfVv8A5qK88%2BH3/BRr9i/xf4Hs/GHiH4e%2BJ9Bn1TxxrXhbRNGufg9rc95q17p1xfxyLaRQ6ez3RMOnzzssSuYQDHJskVlHZfEL9qj9lrwLZePbS80SLT9Y8BeENa8Q3lt4s8CatpNnd2emL/pc9vdSac4vbeJmiEktkl0VE0bBH3or7Hmmj/wg/wDwUL/6Og%2BDP/hh9W/%2Baij/AIQf/goX/wBHQfBn/wAMPq3/AM1FVbD9qz9jDUPjPJ%2Bz9DeW/wDwlFv4gj0G6j/4Qa/FhDqr6dHqUdi2oNaC0Wd7SVJkjMoZwcKCwKjZ%2BNfxV%2BCvwk/Z5139ofR/COjeKNO0uwaTTbfQ1tpBqt00oggtYpgCgaS4ZIdxO1WYluhoAof8IP8A8FC/%2BjoPgz/4YfVv/moo/wCEH/4KF/8AR0HwZ/8ADD6t/wDNRT/2cPiBbfFy88ZeB/ij8CvDfhXxh4D8QQ6Zr%2BlaPqK6rYyLPY217b3NtdSWls8sbxXKqd8EbLLFKuGUK7%2BSfEz9tHxD8BvDPxPl%2BOX7IfgjTvEHgD4WDx3ZaboXjoX1ndWRnngEF5dSaXA1hNvgblYbiNlWQo7%2BUwoA9Y/4Qf8A4KF/9HQfBn/ww%2Brf/NRR/wAIP/wUL/6Og%2BDP/hh9W/8AmoryX4ofty%2BHPhf8Bvh/8Yr7wL%2Bz5er8QPiI/hm11y1%2BNaf8InYxLpuo332qXWzo/wB4tp7QeULbHmTIPM6ivQPH/wAY9b%2BH3jb4L6Jc/s5eBtR0T4o6tFpGs%2BIdK8WiVNIv5NMvL9RaRnTh/aNuRZyKJma1JV0cR8lAAbX/AAg//BQv/o6D4M/%2BGH1b/wCaij/hB/8AgoX/ANHQfBn/AMMPq3/zUV59B%2B2h4Ct/jsngTxL8DPC2meDLr4m33w/0/wAUT69GdTfXbTS5tRk8zTPsgWO0aO3mRJRcvKxMTmBY5PMXkbf/AIKK6Vpnwivvi14%2B/ZA0bR7fUvhrYePvAMMfiFJ1v9BuryC2M%2BpyGxT%2BymtVu7S4ugouo4YJXdZJTE60Ae3/APCD/wDBQv8A6Og%2BDP8A4YfVv/moo/4Qf/goX/0dB8Gf/DD6t/8ANRXjU/8AwUV%2BHVt%2Bxp4m/aesf2fvCniHV9K17UtG8LaJ4L8Tw6lpHi%2B4s7ZrqW407Vvscfm2ccEdy81x9nzF9hu1VJTGok1PHv7dPgzwP4pZrj9nnwwnhTQtP8H3HjvXNS8RRW15px8RXX2a0%2Bx2f2NxfRxuVMrvNbkjesSzOhjoA9R/4Qf/AIKF/wDR0HwZ/wDDD6t/81FH/CD/APBQv/o6D4M/%2BGH1b/5qK868eftrfD74NfH/AMT/AAg%2BLfwo%2BHp0/wAN%2BDNb8VX1x4L8Xpq%2BsaTpenQJci41bTGsIP7NSeF/3TCeYPJhASDuFrwb%2B1xpGmaL4zg/aQ/Zg0jwf4m8K%2BF9B8QWnhvw/qsestq1rrUt1a6baQyPa2v/ABMJL2yntDbhWQSmLbM6yBgAd3/wg/8AwUL/AOjoPgz/AOGH1b/5qKP%2BEH/4KF/9HQfBn/ww%2Brf/ADUV5jpv7YPiHU/2dPg9%2B0XF%2Bx74UjsPiF4w0nQPGFhJ4vXzPDUl/rNvpMT2zDTiNSxNOXIYWo2Rn5skCtLx1%2B2J4M8D/H3U/h1ffAbwuvhHw/8AEjw94C1zxLd67FDqX9ua1bWU9iLXTfsjC5tSdRtI2mNzG4b7QVidbdiQDvP%2BEH/4KF/9HQfBn/ww%2Brf/ADUUf8IP/wAFC/8Ao6D4M/8Ahh9W/wDmorzP4P8A7aNj8XvFNj4Z079mbwhay%2BNvDHiXWfhNbv4tje51kaNew2c8GoxfYQNLkd7iFh5bXYRRKJNkkYjf0n9mv4kx/GDXvHfw9%2BJvwH8L%2BHPFHw98QW2l63B4d1YazpspuLC3vojDdSWdrIXEVygeJ4EZDtI3K6MQB/8Awg//AAUL/wCjoPgz/wCGH1b/AOaiqHgfxx%2B1Z4O/as8OfBH43fEf4e%2BJtG8TfD3xDrkM3hX4eX2i3VpdabfaJborPcavfJLG6apKSoRGDRIQ2Mg%2BoeLPCfhbTfC2palpvhyxtrm2sZZbe4t7REeN1QsrKygEEECvPvHH/KQv4X/9kZ8ef%2BnbwhQB7NRRRQAUUUUAFFFFABXzj8JvFX7d/wAddH17x34X%2BN/wk0DS7f4heKtD0vSr/wCD%2BqX9xFa6Xr1/pkLS3CeIoFlkeOzV2ZYo13OQFAAr6Orxn9g//kiGuf8AZZviP/6mut0AH/CD/wDBQv8A6Og%2BDP8A4YfVv/moo/4Qf/goX/0dB8Gf/DD6t/8ANRXs1FAHjP8Awg//AAUL/wCjoPgz/wCGH1b/AOaij/hB/wDgoX/0dB8Gf/DD6t/81FezUUAeM/8ACD/8FC/%2BjoPgz/4YfVv/AJqKP%2BEH/wCChf8A0dB8Gf8Aww%2Brf/NRXs1FAHjP/CD/APBQv/o6D4M/%2BGH1b/5qKP8AhB/%2BChf/AEdB8Gf/AAw%2Brf8AzUV7NRQB4z/wg/8AwUL/AOjoPgz/AOGH1b/5qKP%2BEH/4KF/9HQfBn/ww%2Brf/ADUV7NRQB4z/AMIP/wAFC/8Ao6D4M/8Ahh9W/wDmoo/4Qf8A4KF/9HQfBn/ww%2Brf/NRXs1FAHjP/AAg//BQv/o6D4M/%2BGH1b/wCaij/hB/8AgoX/ANHQfBn/AMMPq3/zUV7NRQB4z/wg/wDwUL/6Og%2BDP/hh9W/%2Baij/AIQf/goX/wBHQfBn/wAMPq3/AM1FezUUAeM/8IP/AMFC/wDo6D4M/wDhh9W/%2Baij/hB/%2BChf/R0HwZ/8MPq3/wA1FezUUAeM/wDCD/8ABQv/AKOg%2BDP/AIYfVv8A5qKP%2BEH/AOChf/R0HwZ/8MPq3/zUV7NRQB4z/wAIP/wUL/6Og%2BDP/hh9W/8Amoo/4Qf/AIKF/wDR0HwZ/wDDD6t/81FezUUAeM/8IP8A8FC/%2BjoPgz/4YfVv/moo/wCEH/4KF/8AR0HwZ/8ADD6t/wDNRXs1FAHjP/CD/wDBQv8A6Og%2BDP8A4YfVv/moo/4Qf/goX/0dB8Gf/DD6t/8ANRXs1FAHjP8Awg//AAUL/wCjoPgz/wCGH1b/AOaij/hB/wDgoX/0dB8Gf/DD6t/81Fei%2BMvi58KPh0pb4g/E7w9oQUZJ1nWoLXA9f3rrXmWt/wDBSj9gDw9ctaaj%2B2N8O2dPvC08U29wB7ZiZhmuerjMJQdqlSMfWUV%2BbRyVsfgcM7VqsI%2Bsor85L8ix/wAIP/wUL/6Og%2BDP/hh9W/8Amoo/4Qf/AIKF/wDR0HwZ/wDDD6t/81Fcprn/AAV8/wCCbHh6IzX/AO1r4ckA7WMNzdH8oYmNc5/w%2B%2B/4JzTkvpXxa1y/h/hubPwFq7Rt9CbYH9K5JZ1k8HZ4iH/gUf0bOKfEWQU3aWLp/wDgcf0bPTv%2BEH/4KF/9HQfBn/ww%2Brf/ADUUf8IP/wAFC/8Ao6D4M/8Ahh9W/wDmory9v%2BC1f7E17%2B78I/8ACf8AiGcDm20b4dai8n5SRIP1rmPEn/BdH4H6C7RRfsofHV8dJ73wVb2cJ/4HNdLj8RWU%2BIMlgruvH5Xf5RZph86yzGT5MNU9rLtTjUqP7qdKoz3f/hB/%2BChf/R0HwZ/8MPq3/wA1FH/CD/8ABQv/AKOg%2BDP/AIYfVv8A5qK%2BWb7/AIOK/wBnHQZyvij4B%2BNLZOy22q6PPMB/tRC8BU%2BxqG9/4OWf2JkgB0z4PfFOeYj/AFcuk6dGAfTIvm/QVzvirh1b4mK%2B/wD%2BRPZjhc0la2CxOu3%2ByYzX0/2PU%2BrP%2BEH/AOChf/R0HwZ/8MPq3/zUUf8ACD/8FC/%2BjoPgz/4YfVv/AJqK%2BTYf%2BDhPQ/Ef/JN/2EPihre7/V7Y1Xd/36SWtPSv%2BCzf7WviE7vDv/BHL4t3cZPySo16FI92/swgfnQuKcjm/cquXpCo/wAoMKmEzakrzwOIS88NXX/pVOH5H0//AMIP/wAFC/8Ao6D4M/8Ahh9W/wDmoq3%2Byt8RvjT4w1j4oeBPjpr/AIX1bVPAPxCi0Oz1Xwn4audJt7q1l0HR9TVnt7i9vGWRZNRlQsJdpWNDtU5z8523/BR3/gpp4yj8vwH/AMEdvEdm5%2B7L4j8bpbDPus1rDj/vqvSP%2BCZniv44%2BN5fjp4p/aQ%2BF9p4M8Z3fxmiOseGrHUo7uKyC%2BE/DiwgTRu6uWgWKQ4Y4LkcEEDvwmaYXHVHCkpbXu4TivvlFa%2BRyQq1JzcZUqkPOcHBf%2BTO7%2B63mfT9FFFeibBRRRQAUUUUAFFFFABRRRQAUUUUAFFFFABRRRQAUUUUAFFFFAGN8Qfh18Pvi14Ovvh38VPAmjeJvD%2BqRrHqWheINLivbO7QMHCywzKySAMqsAwPKg9RXHaT%2Bxl%2Bx9oHw%2BufhJoX7KPw1svCl5ZNZ3nhm08C6fHp89s0wmaF7ZYRG0ZlVZChXBdQ2MjNelUUAcx8KPgn8GvgP4dm8H/A74SeGPBmk3F615caX4U0G3062luGREaZo7dEVpCkcalyMkIozgCvBP2hda/sv/grR%2BzNY78f2l8MfiZbY9cSeGJsf%2BQv0r6ir4x/bO1dtI/4LGfsW7mxHd%2BH/idbSHP96w0cqP8AvpVrlxk/Z0Obzj%2BMor9T3eHMN9bzT2XenWf/AIDQrS/9tPs6iiiuo8IKKKKACiiigAooooAKKKKACiiigAooooA8z1L9mT9m340aPoPin4xfs9%2BB/Fmp2/h%2B1tYNR8S%2BE7O/njgVS6xLJPGzBAzuwUHALscZJql/wwP%2Bwr/0ZZ8Jf/Dc6Z/8Yrk/i9/wUg/Yv/Y%2Bl8OfDT9ov4y/8I7rd94Us9TtbL/hHdRu99q%2B%2BJZN9rbyIMvDKNpYN8ucYIJ5D/h%2Bb/wSy/6Oi/8ALJ1z/wCQq8XEYvh2nXlGvOkpp683s7387q9/U0XiHiMqX1SOcTpKnpyLE1IKPWyiq8VHfZRW%2B2p63/wwP%2Bwr/wBGWfCX/wANzpn/AMYr07QNA0LwpoVl4W8LaLaabpmm2kdrp2nafbLDBawRqEjijjQBURVAVVUAAAADAr5W/wCH5v8AwSy/6Oi/8snXP/kKvp7wD468K/FDwJovxL8C6p9u0TxFpFtqej3vkPF9otbiJZYpNkiq6bkdTtZQwzggHiujA4jJ605LByptpa8nLe3nypaX7ilxdV4k/dTzGWJ5NbOvOry30vaVWpa%2B10lfa/Q8J%2BGH7C/ivwB488Ka1qfxn03UNB8D/FDxV4v8NaXD4Qkguwuu/wBrPPaXFyb10lMUuqsUlSGL93CEZCzGQeR61/wRhl17xT498SXnx28OxXHjLwF4/wDC/wDbVr8L0TW7mPxNIri41XUTfF9Uey2iOFAtunljbtTAYe7WH7fnwj1fTrGbSfCniOa%2ButF8W6ld6TL9gt5dLTw5erYajHdyT3aQQMLt0gRml8tiSxdY1d14Twb/AMFPvA/x2m%2BHGo/ASCzlsdd%2BM%2Bo%2BBvG8F/fWOpS6ebfwbq/iFDbXOlX1xZyuxtLA70nmQJNNGwSVT5XpEHXSfsMB/EOq6%2BPihg6n8ddJ%2BI5iGif6v7FpGn6b9gz5/wA2/wCweZ52Bt83b5bbdzd58a/gdqH7QH7POu/BLx/4xit7/WrBo08QaHpZgFldJKJrW6igllly0MqQvtZ2V2jOcBsD548W/wDBVaV/gh4U8a/CL4U6/wCI73VIPh7J4j8Uy%2BH4LfRtFbxJd6cqQXMA1JrmO4a1vfNVIDdRQNNB5szKSW%2BkPjD8ePD/AMJPgF48%2BPt1o2pXNj4C8P6xql9ZXGnzWktwNOhlllWMTopZW8lgkqho3BDIzKQSAc78Bf2f/ih8KdX8ReO/Gvxa0PxD4q8ceLYtW8aajZeD5rC0ktYNMisLeysbdr6ZrTZ9nglMkstyWZrgbVEqeTxf7OP7Jf7U/wAD9F8cX/iz9pj4f%2BLPGPjW7Oo3fjO5%2BEV7BPNfBwIRcxnXZFls4IALeG0hNuI1AYOXaRn2/wBlr42fH7xD8VPE3wG/aVHhG58RaN4K8O%2BK7XUvBelXNlaC11WTUoDZNHc3Nw7y28%2BlzZnDosqTRkRRkMtc14y/aJ/ao%2BGXx41/4R31z4G8aSyfC/xF4u0fSvC/hS/t73w8bSaGPTIb9mvpxei8Mk0aGNLV2eym8tHVXMQBt%2BBv2Wv2hvhh4d8W6v4I%2BPngYeNvH/j5/E/i3VtV%2BFdxNo5Y6Xa6asNnp0WrxS258qyt2aSS6nZ3acsMSKI%2Bb1n9gb4w%2BHPhp8C/hX8CP2ivDOi6d8FdUi1MSeK/htPqsur3aWV3Z8fZdVsktIPLvrgiFUfaREFYKhVoPgl%2B3N4zvv2ddT8ZfErxHo3ib4lR3Om6bZfDrTvhpq/g2/t9Zv4VNrp09nq9zcXOx5C7fbNqxCCGaXBSGRhy3i79uH9qfw//AME6PC/7Z0mpeDoddTRtRl8TaHp/wn1zWbPVL6BphFHFLaX4Oh2jfZpBJfXvnQQ%2BajSOgXDgHqPjD9hLRviX%2B1tp/wC0n8Qz4CmtNDvTeaVb6N8NUs9evJf7Plski1LWWu5GvbaNbiaRIEggw4gJZvJ%2BfgtM/wCCXPi4/DuHwP4q/aaj1Cbwn4Q0Lwx8Lb%2BHwZ5I0jTdJ1Wz1OFdSja8cas88mnWEN0VNrHNDAyrHEZXaoPFf/BQL436N%2B2lY/AuHw74ftdAl8ZaBoTWU3hnULkXMOoaVHeSXZ8RRXA02yuI5ZHij0yaI3NyIY3j%2BW7hIq/sq/8ABQj4uftG/FK3%2BBtx41%2BHVp4u8VfDrWvElnolh4YvZrj4dXun39havpGuxNqCm8uf%2BJlGSENkc2sxCbJInoA3fFn/AASi8D/F3wD44/4Xh8T9TvPH3jW%2B129bxb4Gv9X8MWOmT6npen6bKkWn2Op5ntzFpVlJJBczzCWVZmJXzmFaXxE/4JraB8SD8OfCXiDXfCV74W8BaVpFo95rngWXVPFt19huVuGih1%2B7v5JLW2uDHEksRhlkMZmVZlMgZODT9uf9qjw78O9Q8TfEH4h/CbT9HuPj9feA9M%2BLN74Jv7HQdI02w0%2B5%2B16lf2smsOTu1myudKjP2yGPe8LliWETaWq/t3/tB%2BI/2JNG/bb%2BGOq/D9bWCO60%2B88G6l4X1Ca78Ya7b6tNpa6fpcwvYjYm7uINluJYLpw1wm9cIxIB6N8Vv2KvHP7SHj%2B4vf2jvjJouqeD7fSPEmlaJ4d8LeC5dLvls9YtXspYb2%2Blv7kXSpbSEBY4LdXlWOVlJjRRk%2BGv%2BCcNj4zv73xX%2B178XL7x54ke18P2ek634Nk1PwbJYW%2BjJqIs3D6fqTTm5Z9W1CSWVZkjkMqBYYxEoqtpf7deoeK/23Ne%2BAVr8QPDfhzw94T8ZWvhS4s9W8A6teXGvanLpNvqOyLWIp4tP0yQi7SOK1nSaec28rKArxmvIPh3/wAFXP2hNa0PxLqfiHwZ4Ynv28Hx33h7SX8K6po8enatc67b6PaWgvLq4ki8SWQlu0aXUtNVIEEajrcxAAHpj/8ABNr4oeCP2SfAX7KnwJ/aY03TYfB3jiw8T32ueO/CmqeJJdQuLHWYNWtYoxJrcL20XmwKki%2BZIGRmKeUxLHtPi3%2Bw2fjv8fvCnxe%2BJ%2BpfD2ey8MX%2Bk6l5mn/C5YvEVzeadOl3bxf2zJeyNFYi9iiufsywbyYghmZS27mNX/aZ/aU8O/CX4xX/AI1%2BK/w20DWvgPrE7%2BL/ABS/w31C80zV9IGhWurpNb2A1qKW0mCXRiZXupwWtywAEqhMn4j/ALcH7UPwv%2BGvwZ0LXfA3hGX4lazqPgF/jjapY3Sad4ctNe17TtFkgtk%2B0GRbp57y4%2Bz%2BZI67dNuXcHCI4B1Nh%2BwR4o0v42%2BMf2k9A8d/Drw/451Hw9reneC9b8K/B9LL7Dc6g8TjUtXBv5H1y6i%2BzwKrF7ZCpuBsHnZTuf2Lv2dPH37L/wAJ2%2BGXjv4i%2BHfFM/217yTXdF8JXWl3WpXUxL3V7fvc6jetd3U0paRpQ0Y52hAoUDzfwp%2B2J8d/EHxv0WS4sfCUfw88ZfF7xN8NfDdkmlXX9r2Oo6PZ6pK2o3NybryZoJZ9FvohbpBG6LLbv5zfOBxGv/8ABSP4x/CLRfivpHxKfw9rWpeDNV8IaPoGvL8NNb8NRS6jruqz6YRJpN5c3N7eWtu0cVwl1auY74SSW9uTLC5oA%2ByfHP8AyJOsf9gq4/8ARbV5b44/5SF/C/8A7Iz48/8ATt4Qqz8Dfive/GL9nDVfFGsfErRfFGo241Kx1O90XwVf%2BHBbzxb1a2n0zUbie6s54xgPHM%2B48NtUMBVbxx/ykL%2BF/wD2Rnx5/wCnbwhQB7NRRRQAUUUUAFFFFABXjP7B/wDyRDXP%2ByzfEf8A9TXW69mrxn9g/wD5Ihrn/ZZviP8A%2BprrdAHs1FFFABRRRQAUUUUAFFFFABRRXA/FX9qr9mf4GiQfGD4%2B%2BD/DcsY5tdX8Q28M7eyxM%2B9j7BSazqVaVGPNUkoru2kvxaMq1ajh4c9WSiu7aS%2B9tI76ivk7Uv8Ags1%2Bx/qmoS6L8DNH%2BIfxYv4W2PZfDbwDeXrBvQNKsSN9VYioj/wUH/bA8XDb8If%2BCT/xNuy/%2BpPjPXrDQB7bvOL7a8553lbdoVOf/ApT/wDSYtfieS%2BIsmbtTq8/%2BCM5/jCEl/5MfW1FfJH9u/8ABaj4ojbpvgX4IfCyyl%2B%2BdX1O91vUYR/s%2BQBbsR78Ug/4J6/ta/Ew%2Bf8AtH/8FSfiXdK/L2Hwy0%2B08Lxx/wCwHhWRnXtlgCR1o/tKvU/g4apLzlywX/kzv/5KH9r4mr/u%2BEqy85KNNf8Ak8m//JT62nngtYXubmZI441LPI7AKoHUknoK8a%2BK/wDwUU/YZ%2BCXmx/Ef9qfwZaXEOfOsbPWEvbpMesFt5ko/wC%2Ba8yi/wCCLX7F%2BryrP8V7r4heP2DBmPjP4iahcCQg5ywikiB5/CugHhn/AIJQfsPDdcab8G/At9a9HvDYrqRI7BpC1xIR6DJrKric2jDmmqVKPeU3L8lBf%2BTHZgcHxlnWIWHwOEi5vpH2teX/AIBSp/rbzRzi/wDBYL4TeMG8z9nz9mD44/E6z6/2v4Q%2BHExs9vr5lw0R57DbTm/4Ke/E%2B9H2XQP%2BCXv7RUt5JxBHqHhGG1hLf7crTEIPcin3/wDwWU/ZQ1y8k0f9n/wp8R/i1fxts%2By/DrwDeXQD%2BheZYlx6sCRjnmof%2BGp/%2BCofxZO34K/8E8dK8HWcn%2Bo1v4r%2BOI16/wB%2BxtB56Y78mvO/tCdT%2BHjHN9qVFSXyeq%2B%2BR9pHwh8TYR58yrwwSfXEfVsNZeUK1aVb/wAot%2BTFH7Qv/BXL4kHzPh7%2BwR4H8C27f6m4%2BInxGW8Zx2ZorBQ6f7p5pR4E/wCC13iL/TtX%2BO/wD8OyDkWOheGNSu4j7F7khvyoX9nT/grT8Sz9r%2BJH/BQHwf4DVuZNK%2BG/w3jvY/oLjUGEq49cU7/h2f8AGTxL/wAlM/4KifHu8Df6xfDWuW%2BjBvYCKJsCj2ePq68leXrUp0l90U2g/wCIb8NUf%2BRjxVFy6qjHE1F8nSw9CD%2BUrDX%2BHH/BaIqbeX9pf4HRQkfPer4PvTKg9QpbYfxrzj4gaj%2B0x4UZ4fjz/wAF4/hz4OC587StF8FaJFOfUI00/nAj2UmvSR/wRg/ZC1xgfi34l%2BJvj9c5kj8ZfEi/nWU/7QheLNejfD//AIJsfsD/AAxVP%2BES/ZI8CiSLHl3GpaDFfzKfUSXQkcH3zmj%2BzM0q7ppf3q9WX4U4w/8ASg/1T8JcL/vGaZjivKnCNGP/AIFWryl/5IfCWv8Axj/Y0N%2BbHX/%2BC3P7SHinWv4bT4d3F3Cj%2Bu1ILJov/H6ojU4df4%2BF/wASf%2BCmfilG/wBXe6fL5VqfrJKi4/75r9WvDvhTwv4QsRpfhPw3YaXbDpb6dZpBGP8AgKACr9H%2BrlWfx1Yr/DGb/Gdd/kH1Xwew38HI69Z962YVlfzaw8IfdzP1PyX/AOFU/tm638%2BgeEP2%2BLi3PT%2B0/jvp2myH6q1uxFNf9kX9srxoRputfshftH%2BKIH%2B/D8Q/2tLJbQD1ZIYEdvopBr9aqKP9VMPL4q0n8o/q5fqH1vw7h8HDGGf%2BPEZhU%2B9PFxT%2Bas%2Bx%2BWvg3/glL%2B0bERL4V/YC/Zj8M723SzePvE%2BveI7nJ6n/AFrxs31G2vTtC/4JfftipbLDb/FX9nnwYv8Az7eE/wBnfTblEPqDcqCx9zX35RXRS4Xyukvtfeo/%2Bkwj%2BZ10eK8BgFbL8jy2gv7uBpTf/gVeVZv5o%2BJ9D/4Jd/tV2swm1T/go4LU9z4T%2BCGhaO4%2Bjw5I%2BtdGP%2BCWfifXwP8AhZH/AAUj/aM1Rf47bTfHaadA/s0cUJyPbIr61orrjkOVxVuRv1nN/wDt6O2HiXxbQVsLKjQ/69YTB0v/AEnCM%2BS1/wCCKv7DurNv%2BJVh458aNnLt4p%2BIepTbz6nypY811Ph7/gkn/wAE4PDCqmm/skeF5QnT%2B0Vmuz%2BJnkfP419F0VrDJcng7rDwv/hTf3u7M8R4m%2BI2KhyVM4xPL2VapCP/AIDTdOK%2BSR5Z4c/Yb/Yt8Issnhr9kn4a2ci9JofBFiJP%2B%2B/K3H8673w/4D8DeE1CeFfBmk6Yqj5Rp%2BnRQgf98KK1qK7aeGw1H%2BHCMfSKX5JHzOMzrOsx/wB7xVWr/jqVJ/8ApdSQUUUVseYFeM/sv/8AJb/2jv8Ass1j/wCoV4Xr2avGf2X/APkt/wC0d/2Wax/9QrwvQB7NRRRQAUUUUAFFFFABRRRQAUUUUAFFFFABRRRQAUUUUAFFFFABRRRQAUUUUAFfBn/BS7VP7C/4KrfsQaruxnVPGNrn/rv/AGHFj/x6vvOvzr/4LH3suj/8FBv2Jdfj4Sz8e6ibhs/difVPDcbH/wAfrzM4lyZbOXblf/k9M%2B48N6CxPGmFov7arx%2B/C4v/ACR%2BilFFFemfDhRRRQAUUUUAFFFFABRRRQAUUUUAFFFFAGV4G/5EnR/%2BwXb/APota1ayh4M0NMrA19CmSRFb6tcxovsqrIFUewAFL/wh%2Bk/8/eq/%2BDy7/wDjtAGpRWX/AMIfpP8Az96r/wCDy7/%2BO0f8IfpP/P3qv/g8u/8A47QB4f4g/wCCaf7PniXxH8ZvEuoav4mEvxt062s9ct01GHydEESktJpqGEiBppyLmYS%2BaksyqWUr8hf4K/4J3fDnwt4uj%2BIXiD4xePvFPiA/E6Tx3eax4gvdP8y71NvCs/hfy2S1soYktxYTlljiSPEyI2dm6Nvbf%2BEP0n/n71X/AMHl3/8AHaP%2BEP0n/n71X/weXf8A8doA%2Bcv%2BHUnwYs/C%2BgeAfDnxn%2BJGkeHdIsfCEOqaDp2p6eIPEE3hprU6Zd3jPYtKJttlbJL9neCOVIlDJ8q4%2BgdY%2BHWkeLfA%2Bu/Dr4hX1z4j0nxFDfW2pWuqRwqGsroOr2Y8iOMGJY3MalsyFQN7u2WNz/hD9J/5%2B9V/8Hl3/wDHaP8AhD9J/wCfvVf/AAeXf/x2gDzP4Hfse6X8C5NS1nTvjn478Qa/qkOi2N14o8TT6bPfHSNKkle00keXZRxfZh9ouwzmM3LG8mcz%2BYVkXO%2BEv7E1x8HvHfj/AMf6D%2B1X8S766%2BIuoXt/rMerQeH5Tb3Uy%2BXBJDOukrcbbSIJFbQyyyQxogDRvzn13/hD9J/5%2B9V/8Hl3/wDHaP8AhD9J/wCfvVf/AAeXf/x2gDyPSf8Agn/8BdYPiC9/aOsj8bdR8Sz6e%2Bp6j8XNB0jUAEsEuEs44rW3sYLSEQ/bLwqyQBybqUs7buMPQf8Agmt8Mfh/%2Bz3p/wCyz8Evi74z%2BHvgWCx1Cz1rRPBlpodsNdivXZp/tLyaZI8blXeMS2pgkCt97cqsvvH/AAh%2Bk/8AP3qv/g8u/wD47R/wh%2Bk/8/eq/wDg8u//AI7QB4y3/BPP4Rw/Ef8A4S/R/Hfi/TvD0vinRvEt98ObO8tP7EvNY0q1s7awvHL2zXitEmn2B8qO5SFns43eNiXL9Z8P/wBmW18H/Fa%2B%2BNfiz4x%2BMPGniKTSLjSdCvPFB05V8P6dPPHPNaWcdlZ26bZJILYvJOJpn%2BywhpCE57r/AIQ/Sf8An71X/wAHl3/8do/4Q/Sf%2BfvVf/B5d/8Ax2gDz7wv%2ByvbfDf9nDw1%2Bzf8G/jd408HQeGbWGGHxVpI0u51a%2BKhvOluTfWNxbSSzyO80riBSZGLLsziuI1//gm/4MuNT%2BHOo/D79of4keDk%2BF%2BmXcHhuz0d9FvoXvLssbnVp11XTbzzNQkDzKbkFWAuLgLt8%2BXf7x/wh%2Bk/8/eq/wDg8u//AI7R/wAIfpP/AD96r/4PLv8A%2BO0AeWeI/wBiD4c%2BJfjVL8Xrjx34qt7K98Xaf4r1jwPa3Fmuj6nr1jbQW1rqM2bY3YkjjtbP93HcJCzWkTNEzbi3H%2BHP%2BCWnwN0bwgfh/rnxJ8ea9oumeAZvBfgWw1bU7Nf%2BEM0aSezuBBp0ltaRSF45dO01kmunuJV%2BwQfPw2/6D/4Q/Sf%2BfvVf/B5d/wDx2j/hD9J/5%2B9V/wDB5d//AB2gDySP9hH4d33wm8R/Cvxt8SfGHiR/GvjXTvE3jnxJq9xYpf8AiG4s5LDZbXAtrSK3S1e3061tHihhi3QK4BDu0hk/ai/4J3fsbfth3NtrPx1/Z98I6vrdtq%2Bi3o8TXPhTTrjU5ItN1KC/jsXubi3kc2krQmCaHOHguJ0BXfuHq/8Awh%2Bk/wDP3qv/AIPLv/47R/wh%2Bk/8/eq/%2BDy7/wDjtAHktj%2Bwn8PNN%2BMc3xb0/wCJXjKKCPXtT8Q6H4SS7s/7K0PXtQs5bS71a1H2X7QLh4ri7%2BWWaSBWvJ2WINITVKf/AIJ/%2BDfENr4l1H4n/HDx94w8T%2BIodDji8a63JpUN/o/9jX76jpjWcVlYQWiNBeyPcZe3kMjELL5karGPZ/8AhD9J/wCfvVf/AAeXf/x2j/hD9J/5%2B9V/8Hl3/wDHaAOF%2BHvwG0D4A/CXxZpGm%2BLNb8Q6lr91qGteI/EniOS3a91W/mhVGmkFtDDAmIooYlSKKNFSJAFzknH8cf8AKQv4X/8AZGfHn/p28IV6ifBmhvhZ2vpkyCYrjVrmRG9mVpCrD2IIry7xx/ykL%2BF//ZGfHn/p28IUAezUUUUAFeIft/eJPEWhfBPRtI0TxXqWgWniT4l%2BFfD%2Bv65o%2BoSWd1Z6dfa1aW1wIrmJle2eZZPswmRleP7RuRkcKw9vrN8Y%2BDPB/wARPC1/4H%2BIHhTTdd0TVLZrfU9H1ixjurW8hYYaOWKQFJEI6qwINAHyn4Qi/aB8cfsa/Ff4X/Bfx/r2q6j4X%2BK%2BpaB4S1m98VSf2rqOi2uqW7XdhHqlw5k%2B1iI3%2BmxXcsnmJJFGzy70aSuB8BfEnTL74J/FTTPj8vxj0zS/Bvxubw58J/BumfGHUX8U6zczaFpc6aQ2p6dqLSX84v7q/G17yaG3WNhNIEs3aP7Ht/2a/wBnO08Fv8N7X4A%2BCovDsmh/2LJoEfhWzWybTfMaT7EYBH5Zt97u/lY2bnY4ySazfEP7HP7Ivi7wDonwp8V/sr/DjU/C/hmd5vDfhvUfA9hPYaVI4YO9tbvCY4GYO4JRVJDtnqaAE%2BD6fG/4V/so%2BE7b4wWN/wCPfiHofgrTofFMWgT2i3Gs6rHbxrctDJdSW0BLSh23O8St1wuQtcn/AME6dWv9e/Zuvtb1XwxfaJc3nxb%2BIc1xo%2BpyQPc2Lt4z1omGVreWWEuhO0mOR0yDtZhgn2Twp4T8K%2BA/DVj4L8D%2BGdP0bR9LtUttM0nSbJLe2tIEGEiiijASNFAACqAAOgryn9g//kiGuf8AZZviP/6mut0AezUUUUAFFFFABRXmn7TX7Xv7Pv7Ifg9fGHx0%2BIFtpguCV0vSoQZr/U5egjtrdMvKxJAyBtXcNzKOa%2Bch8PP20f8AgpmwvvjW2s/A/wCCNwd0Hgewn8vxP4og7fb5h/x4wuOsC/MQWVg3yyV52KzGnRq%2BwpR9pV/lXTzk9oLzer6RZ5OMzalQrfV6EXVrfyRtp5zltCPnLV/ZjI9c%2BPn/AAU0/Yy/Z41Q%2BE/E3xct9c8TNIYrfwh4NhbVtTmm/wCeXlW%2B4ROewlZK8zTxN/wU/wD22nU%2BDdBg/Zs%2BH05yNU162TUPFt/D6pbHEVjuGQQ%2BJEOCCwr6D%2BAn7JH7NP7L%2BlDSfgJ8FdA8NAxCOW7sbIG7nX0luX3TS/8AA3NeikgDJNY/U8fi/wDeqvLH%2BWndffN%2B8/8At1Q9TD6hmmO/32tyx/kpXjfylUfvv/t1QT7nyQf%2BCRPgTxZ8/wAdf2wPjz4%2B3/66y1v4jSRWZ9QsMCJsB9A1d78Kv%2BCXv/BP34NNHN4K/ZT8JvcRHKXmuWR1SdW/vCS9aVlPuCKofHH/AIKi/sm/BvxJ/wAK40HxPqHxD8ayMUt/BHw009tY1B5BwUbyT5cTA4yrurD%2B6a4sfEn/AIK2/tKnb8Nvgx4O%2BA3h6f7us%2BOr3%2B2dbMfaSOzhAhif1jn6Y61wW4foVnGjRVWov5Yuo0/OUnKMfnNeh%2BgZb4OYpUIY/G4ejg6MleNXFyVNyXeEavtMRUXZ06DT6SPrO1s9E8M6SLaytbTT7C0iO2OJFihhQcngYVQPyrwv4xf8FRP2DfghctpXiv8AaP0K/wBUD%2BWmjeF5G1a7eXoIvLsxJscnjDla4W1/4JK%2BFPibcR6x%2B21%2B0z8R/jNdBw8mlatrb6XoiuDndHYWbKI%2Be3mEcDivfPg9%2By7%2Bzj%2Bz9arbfBT4H%2BF/DBCbWuNI0WGKeQdPnmC%2BZIfdmJrvVTOa69ynCkv7zc5f%2BAwtFfOTPf8AqXhlk6tXxWIx010oQjhqXp7Wv7Ss15xoQ8kungKft7ftj/G9gn7I/wDwTp8U/wBnSH5PFPxb1GLw/bbezpaktNMh7FSDjnHpI3gX/gtJ8SVKeIvjr8EvhtBLwr%2BEvDN7rF1Ap7kXxETMPb5a%2BtqKf9mVqmtfE1JeUWoL7oK//k1/MT45y7Be7lWS4Skls6sJ4qp6uWIqcjfpRUf7p8jj/glPcfEj/SP2sv23vjB8Ry//AB8aRH4h/sbSJfX/AEO0Hy/g/SvQ/hV/wTL/AGBfguY5fAn7KnhATw4MV5rGnf2ncIf7wlvDK4PuDXutFaUsnyulPnVJOXeXvP75uT/I48d4j8dZhh3h55hUhSf/AC7pNUKf/guhGhD71L1ZDYafYaVZx6dpdlDbW8K7YoLeIIiL6BRwB9Kmoor0tj4ttyd27sKKKKBBRRRQAUUUUAFFFFABRRRQAUUUUAFFFFABRRRQAUUUUAFeM/sv/wDJb/2jv%2ByzWP8A6hXhevZq8Z/Zf/5Lf%2B0d/wBlmsf/AFCvC9AHs1FFFABRRRQAUUUUAFFFFABRRRQAUUUUAFFFFABRRRQAUUUUAFFFFAHNfGKT4mw/DLWJ/g5rWg6d4litd%2BmXvibSpr6xiKsC5lggnt5JR5YfCrLH8xXLYzXjcf7YPj6H/gml4O/bDn8MaRceL/FvgDwzfW2loJYtOGs6ytlDCpBd5Ftlur1MjeziNSNxbmvbPiZ4O1T4g%2BA9T8F6N8QdZ8K3Go2/kp4g8Pw2cl5ZgkFmiW9t7i3JIBU%2BZC4wxwAcEeUeCf2D/Cnhj9la1/Y78TfHDx54q8Iaf4Qg8PaW2uNpUN7ZQW3lizuI5rGwtyLi2EMXlyEHmNWcO%2BWIBs/stfF34o%2BOdY%2BInwq%2BNk%2BgXnif4b%2BMIdIu9a8L6VPYWOqwXGl2OpQXCWs9xcyW7Bb0wtGZ5ctAXDAOFX4f/wCC0fxc%2BFHir9pr4RWPgn4neHtY1z4brqN54l0jStaguLvR3bxF4RSMXMUbl7ctl8BwpO046Gvv34Bfs/6P8BNN14x%2BOdf8V654r186z4p8VeKGtPt2qXf2a3tEZ1s7e3t41jtrW2hVIoY1CwgkFmZm%2BJ/%2BC%2BdpM/hzTtXtFzPpXwj8RXsHsyeLfAmT/wB8lq8rPf8AkTYh9oN/dZ/off8AhU1/xEvJ4vaeIpw/8GOVP/3IfotRUdndw39nFfW7ZjmjWSM%2BqkZFSV6u58C007MKKKKBBRRRQAUUUUAFFFFABRRRQAUUUUAFFFFABRRRQAUUUUAFFFFABRRRQAUUUUAFFFFABRRRQAUUUUAFFFFABRRRQAV4z44/5SF/C/8A7Iz48/8ATt4Qr2avGfHH/KQv4X/9kZ8ef%2BnbwhQB7NRRRQAUUUUAFFFFABXjP7B//JENc/7LN8R//U11uvZq8Z/YP/5Ihrn/AGWb4j/%2BprrdAHs1FFFABXyz%2B1N%2B2/491L4myfsZ/sH6HaeKvixPGP7e1q4%2BfSPA9u3Bur6QAqZh/BByScbgTtjkb%2B3R%2B038TdZ8c6d%2BwT%2Bxzfqfip4vtPO1vX0y0PgnRTgS6hMR92YqcRJw2WVuCYw/rn7KX7Jvwi/Y8%2BFlv8MPhPo5Xewn1vW7s773Wbwj95dXMp5kkY5OOig7VAAxXj161fH15YbDS5Yx0nNbp/yQ6c1vilryXSScn7vg4jEYnM8TLCYSXJCGlSot0/5KfTnt8UteS6STm/d4L9mL/gnH8K/gf4tPxx%2BKniHUfif8V7tQ2ofEPxi3nzwvj7llCcpZRDJChPmCnbu24A%2Biax/iB8QvA/wp8Gaj8RPiR4qstE0PSbYz6jqmoziOGCMdyT3JwABySQACSBXxxP4x/aW/4Ku3L6T8Kb3XPhT%2Bzy8hjvfF5jNtr/jiIHDJZKwzaWbDIMrDLg4%2BbLxK51cHlMFh8PTvOWqhHd95SbvZfzTk/vdkfoHCHAv17CVMQpRwuBpP97XmnyqTV%2BVbzr15rWNODlOXxSlTppzXpv7QH/BTH4SfDXxs/wADPgT4X1T4vfE9iUj8E%2BB8TC0YHBa9uwDFaIp4YtuZOCygc1xK/sZftlftnMNV/wCCgPx0PhfwlOdw%2BDnwsvHt7eSM/wDLPUNQyZLnI4aNCUyMoy19G/s/fsy/Aj9lrwSnw/8AgJ8M9M8OacApn%2BxxZmu3AwJJ5mzJO/8AtOzHt04ru6X9nYjGa4%2Bd1/JG6h/289JT%2BbUf7p9M%2BMsp4b/d8KYb2c1/zFV1CpiW%2B9KNpUcMu3s41Kq61k9Vw/wN/Zp%2BAX7NHhz/AIRT4D/CXRPC9mVAm/syyVZbjHQzTHMkzf7UjMfeu4oor1adKlRgoU4qMVskkkvkrHwONx2NzLFTxOMqyq1Ju8pTlKUm%2B7lJyb%2Bb%2B7YKKKKs5QooooAKKKKACiiigAooooAKKKKACiiigAooooAKKKKACiiigAooooAKKKKACiiigArxn9l//kt/7R3/AGWax/8AUK8L17NXjP7L/wDyW/8AaO/7LNY/%2BoV4XoA9mooooAKKKKACiiigAooooAKKKKACiiigAooooAKKKKACiiigAooooAKKKKACvhD/AILRaL/b2mXljsz5f7N/j65x/wBcdc8FzZ/8cr7vr48/4Kb6N/wkHiPUtKCbmk/ZL%2BLLRr6us/hZ1/8AHlFcOZw9pllePeE//SZH1PA2J%2Bp8b5XX/lxOHf8A5Xpf5n0z8Cda/wCEj%2BCHg3xDv3fb/CunXO71320bZ/Wuqryj9g/Wf%2BEh/Yi%2BD%2Bss%2B55/hjoRlOf4xp8Ib/x4GvV62wk/aYSnPvGL%2B%2BMX%2Bp5vEGG%2BpcQYzD/yVq0f/AatWP8A7aFFFFdB5AUUUUAFFFFABRRRQAUUUUAFFFFABRRRQAUUUUAFFFFABRRRQAUUUUAFFFFABRRRQAUUUUAFFFFABRRRQAUUUUAFeM%2BOP%2BUhfwv/AOyM%2BPP/AE7eEK9mrxnxx/ykL%2BF//ZGfHn/p28IUAezUUUUAFFFFABRRRQAV4z%2Bwf/yRDXP%2ByzfEf/1Ndbr2avGf2D/%2BSIa5/wBlm%2BI//qa63QB7NXkf7cn7UGn/ALIX7NXiD4xmzF7q8cS2PhXSApZ9S1ac%2BXa26qOXy53MF52I5HSvXK%2BM7n/jPH/gpalkP9J%2BGf7NUwkm7wap4ymX5R6N9jQZ9UlUjpJXnZniKtKgqdF/vKj5Y%2BTe8vSMby%2BSXU8nOMVWoYZUcO/3tV8kPJveXpCN5PzUV1PT/wDgn9%2ByLcfsz/DCfxZ8S9Qk1r4qePJE1j4meJ7xxJNc37jd9mVhwIINxjRVwvDMAN2B6Z8fvjt8N/2aPhBrvxv%2BLOtCx0LQLMz3TqAZJWyFSGNSRvkkcqirkZZhyOtdg7Kil3YBQMkk8AV8R%2BHVf/gqn%2B1anjm7U3H7P3wb11l0CBxmDxr4li4a6I6S2ltnCdVcnqwd1XCtKOWYWnhcIrzlpBPvvKcutldyk922lvLT73gPhPLsRGdbGN08uwcVOvNfFJN2jSg3vXxE7xje9r1Ksvdpu9j4bfs2fGj/AIKJ%2BLNK/aO/b10R9D%2BH9nMl/wDD34FrMWiIIzFfawePPmKnIgI2qDhguZEf7Stra2sraOzs7dIoYkCRRRIFVFAwFAHAAHGKfRXXgsDSwcW03KctZSfxSfn2S6RVlFaJbtriXinHcSVqcZRjRw1FONGhTuqVKLe0U9ZSlo6lWblUqy96cvhjAooortPmQooooAKKKKACiiigAooooAKKKKACiiigAooooAKKKKACiiigAooooAKKKKACiiigAooooAKKKKACvGf2X/8Akt/7R3/ZZrH/ANQrwvXs1eM/sv8A/Jb/ANo7/ss1j/6hXhegD2aiiigAooooAKKKKACiiigAooooAKKKKACiiigAooooAKKKKACiiigAornfi58UvBvwP%2BFviL4x/EO/e10LwtotzqmrTxQtLItvBE0j7EXLSOQpCooLMxAAJIriPh3%2B2B4I8YeCfHPi3xt4E8UeA7z4bRNP408N%2BLba1e/0%2B3%2BxLfJcAWFxdQzRvA25TFK53JJGQskboAD1mvmn9r3Rf%2BEj/aN0fw9s3fb/ANmn4n223133nhRcfrXe/s0/tdeF/wBpXVNY8OWXwz8VeEtW0bRtJ1iXS/FS2DPPpuprcNZXcclhd3UJWT7LcDy2kWVPLy8ah0LZfxN0%2BHVv29/hvpdwP3dz8EvH8Un%2B62q%2BEQf51FWHtKUod0196a/U6sDiHhMdSxC%2BxOMv/AZRl/7aZH/BKPWf7e/4Jz/CG%2B37tnhCG3z/ANcXeLH/AI5X0JXyn/wRJ1Ca8/4Jl/De1uz%2B/sDq9nOufutHq14oH/fO2vqyuDJp%2B0yfDy704f8ApK/yPrPEvDrCeI2c0VtHFYhf%2BVqj/wDbgooor0j4kKKKKACiiigAooooAKKKKACiiigAooooAKKKKACiiigAooooAKKKKACiiigAooooAKKKKACiiigAooooAKKKKACvGfHH/KQv4X/9kZ8ef%2BnbwhXs1eM%2BOP8AlIX8L/8AsjPjz/07eEKAPZqKKKACvn7/AIKXHTB%2BzXa/8Jp5f/CFf8LC8L/8LI%2B0f8e//CPf2zafbftWePsfl/8AHzu/d/ZvP8z93vr6BooA%2BC/BFp8L/H37AXxa%2BF/w/wDjL4K8LeBI/Hepat4CbVtajtdEPhGHWIpHidkb9zod1PBqFmJowYRazHyg0YRT5N8Opfhhd6Xpmq/tO6B8LdJ/ZhvP2htYk0XTdLvY7nwBBbDwfapbCOe4ggt59POrpq7JK8McD37K0a7jbk/qbRQB4N%2BxDd/GKy/4J7fDy8tdBGqeJ08FWx0fT/GerXFg09vj/Q1vLj7PcTxSfZvJ3s0Mkm/O9d26pf8AgnTceJbv9m6%2BuvGWk2Nhq8nxb%2BIbanY6ZqL3dtbznxnrXmRxTvDC0yBsgO0UZYAEoucD3SvGf2D/APkiGuf9lm%2BI/wD6mut0Abn7Yvx1tf2Z/wBlvx38dZ5kSXw54bubjTxJjbJeFfLtozn%2B9O8S/wDAq5L/AIJqfAB/2dP2NPBvhPWbeT/hItYsBr3jC6uCWnudVvQJ52lY8s67liye0S15z/wVBP8Awuv4hfA79hazPmxfET4gpq3iu3HIfQtJX7Vcxv8A3Q7eXtJ4LR45r6e%2BKfxK8JfBr4a698V/HeoC10bw5pM%2Bo6lPxlYYYy7BR3YgYC9yQB1rx4ShVzWrWk/doxUb9E5e/N/KKimeRgcPWzXiaUaMXN01GlBJXbqVWpSSXdp0ofOx84/8FKvi1458WyeG/wDgn3%2Bz/qzW/jv4vF4dV1KHJPh7w2uRfX74%2B6WQPEmcbiZApDBc/Q/wa%2BEXgT4CfCzQfg38M9GSw0Lw7psdlp9uoGdqjl3IHzO7ZdmPLMzMeTXzt/wTN%2BFnjHxtD4h/4KF/HbTvL8cfGLy7nSLGQ7v7A8NLg2FjGT03oEmcjG/MZYbg2fq%2BnlkJYmcsfUVnNWin9mnvH0cvjl6xXQ/XON8TQybD0eE8FJShhZOVeUXdVcW1y1XdfFCgl9XpdLQrTX8S7KKKK9c/OgooooAKKKKACiiigAooooAKKKKACiiigAooooAKKKKACiiigAooooAKKKKACiiigAooooAKKKKACiiigArxn9l//kt/7R3/AGWax/8AUK8L17NXjP7L/wDyW/8AaO/7LNY/%2BoV4XoA9mooooAKKKKACiiigAooooAKKKKACiiigAooooAKKKKACiiigAooooA8//ar%2BCt1%2B0Z%2Bzd42%2BB2na9HpV54n8OXVjp2pzQmWO0umQmCZ0BBdFlCMyAgsoIyM5ryvwp%2Bz5%2B1brcPxd8X%2BOdT8I%2BEPF/wAWdBOlW9/4P8R3eox%2BFFtdMNtYXELXFjbm9lNzPdXD7lgEa%2BTGPNKs5%2BlKKAPmb/gn/wDsceLf2W/EXi3XdQ%2BGPw5%2BHmka9oOg6fbeA/hZqFxc6Y19Yi8FzrUrzWdpi7u0uLaJwImbZp8RkmmYjZpX/wAMfDfg7/gpt4L8Z6TqXiGa88Q/B7xxJfw6r4u1G%2BtIimreEsC2tbmeSCyB3HK26RhsDcDtXH0PXjPjj/lIX8L/APsjPjz/ANO3hCgDzH/gjL/oH7J2t%2BEOn/CPfFTxLp23%2B7tvnfH/AJEr60r5L/4JO/8AEss/2hfCDcf2T%2B054rjhT0hc2zofxy1fWleTkWmUUV2TX3Smv0P0DxU18RMyqfzzjP8A8GUcPU/9yMKKKK9Y/PwooooAKKKKACiiigAooooAKKKKACiiigAooooAKKKKACiiigAooooAKKKKACiiigAooooAKKKKACiiigAooooAK8Z8cf8AKQv4X/8AZGfHn/p28IV7NXjPjj/lIX8L/wDsjPjz/wBO3hCgD2aiiigAooooAKKKKACvGf2D/wDkiGuf9lm%2BI/8A6mut17NXhX7HPiGy8Jfs0%2BLvFepHFvpnxX%2BJt3cHOMJH4y1x2/RTSbUVdik1GLb2R5v%2Bzz/xkP8A8FUPjB8epf32jfCjw9ZfD7w1IeUN7Ixu9RZR0EkcmIiepVwKj/4KR3t5%2B0n8XPhp/wAE2fDF1J5PjXUV8R/E17dyDbeGbCUOY2I5X7RcIsat2aMA8NWj/wAEddJTwz/wT60b4veMrpU1bx1qmseMPFmoy8CW4uLuUmZj6eRFFn6VS/4Jf6Tqfx28RfET/go/40spEu/iprTWPgi3uVw9h4YsXaC2QA/caV0Z3A4Yoj/xV8pSUsVgKOH64lupPyg2pSXzXs6fzkfV%2BEMP7HyfE8Y1l71Bc9K/XF4rnWH/APBFNSrvs6NPyPriysrPTbKHTtOtY4Le3iWOCCFAqRoowqqBwAAAABUtFFfWbHyzbk7vcKKKKBBRRRQAUUUUAFFFFABRRRQAUUUUAFFFFABRRRQAUUUUAFFFFABRRRQAUUUUAFFFFABRRRQAUUUUAFFFFABXjP7L/wDyW/8AaO/7LNY/%2BoV4Xr2avGf2X/8Akt/7R3/ZZrH/ANQrwvQB7NRRRQAUUUUAFFFFABRRRQAUUUUAFFFFABRRRQAUUUUAFFFFABRRRQAUUUUAFeM%2BOP8AlIX8L/8AsjPjz/07eEK9mr51%2BMvj%2B08Kf8FRfgJ4TvHUf8JR8JPiPZ2oPUzRXnhO6GP%2B2cEvH%2BFTOcYK78vxdiJzjTjeW2i%2B92X4s5X/AIJ0/wDEo/ab/ar8IdPI%2BMEeo7f%2BvuzR8/jsr60r5L/Y7/4k3/BTf9rbw23CTzeCtRtx/e8zSZRIf%2B%2BgBX1pXl5LpgeXtOovuqT/AMz9D8Tfe4qVb/n5h8FP/wACwWG/%2BRCiiivWPz8KKKKACiiigAooooAKKKKACiiigAooooAKKKKACiiigAooooAKKKKACiiigAooooAKKKKACiiigAooooAKKKKACvGfHH/KQv4X/wDZGfHn/p28IV7NXjPjj/lIX8L/APsjPjz/ANO3hCgD2aiiigAoorN8YeMvCHw88L3/AI48f%2BK9N0PRdLtmuNT1jWL6O2tbOFRlpJZZCEjQDqzEAUAaVFc5pvxh%2BEes/DIfGvR/in4cu/Bh0978eLbbXLeTTPsiAl7j7UrmLylCtl920bTk8Vz11%2B15%2BydY/C6D44Xv7T/w7h8FXV8bK28Xy%2BNbBdLmuRuBgW7MvlNINj/IG3fK3HBoA9Er4z8R%2BNv%2BFd/8Eo/jz4rSby5YvEvxbgt5M42zTeLdegjP/fci19iaVqul67pdtreialb3lleW6T2d5aTLJFPE6hkkR1JDKykEEHBBBFfnh%2B13fXVz/wAEmPG/w602Yx3njf8AaN8VeH7Rl6l5viPqjkD1ykTj6E15%2BbVXRyqvNbqErerTS/Fo8rPa0sPkuJqR3VOdvVxaX4yR6H8ePEV3%2Byp/wQ9tdF0tHTV2%2BEWkeHLKGEYlkvr%2B3gtHKDrvDTySevyn0r6f/Zv%2BE1p8B/2fvBXwYs1Tb4X8L2OmyMnSSSGBEkf3LOGYn1Y187f8FBrG1%2BJP7RX7M37Hmlwg2WofEBvFWsWqfdXT9EtjKscn%2BxIz7RnqUHevr6uTL6S/tCpbalCnSXyXNL/20/UMxoxyPwzyfLI6OvKtiZf4YKGEo/hSryXq/UKKKK9s%2BECiiigAooooAKKKKACiiigAooooAKKKKACiiigAooooAKKKKACiiigAooooAKKKKACiiigAooooAKKKKACiiigArxn9l/8A5Lf%2B0d/2Wax/9QrwvXs1eM/sv/8AJb/2jv8Ass1j/wCoV4XoA9mooooAKKKKACiiigAooooAKKKKACiiigAooooAKKKKACiiigAooooAzfGfjHwr8O/B%2BrfEDxzr9rpWiaFps%2Boaxql7KEhs7WGNpJZpGPCoiKzE9gDXNfBf9ov4SfH/AMPan4l%2BG2u3zQ6LffY9atNe8P32j3unzeRHcBZ7TUIYbiHdDNFKpeMB45FdSVINY/7anwh8VfHz9kz4h/B3wK9qNb8QeFLy10eO%2BlKW810YyYopWAJWJ3Co7YOFZjg4wfIvDnwh%2BOXxqHx41fxv8HNe%2BHcnxp8MDw/o9tqeq6XdTaIltpD2y3t4bG8mTfLPdzCNYGmIjtEaQxFwgAPcvgf%2B0f8ACn9ozTbrXPhJe63e6dbLDJFqmo%2BENT020v4ZQxinsp7y3ijv4HCFlmtmljKlSGw6k/HP/BVXxrc/Cz/gpf8AsV/E6IskFjrPijT9QnHSG21CfQLGR29FAnwfrXr/APwTv%2BFf7R/wx1DV9P8Aif4a8a%2BHvC8Pgvw/YWuiePPHUGvTzeILcXa6nf2Tw3VyLWwljaxWODdCoMLlbW2GfM%2Bfv%2BCy3wR8aar4ovPF8Pxc8R61caf8FvFviTw7pGpWunLbeHm0/wAQeDbiQ2rW1pFOwaJZNxuJZyNo2lfmz5ucc6yurKG8VzL/ALdal/7a18zyM/8AaLJq86fxRjzL/txxn%2BPI18z274M/8ST/AILGfGjTOn9ufCzw5qOP73ku9vn9cV9aV8T%2BJvHtl4U/4KL/AAB/az01gnh348/C%2BTwrfS5zHDcbU1OwbJ/ilMnlLjspr7YrHJ5x5a8F0qSfynyzi/mpH6tx5KOMpZRmVN3p18Dh7P8AvUVUoTXrGUI/KUX1QUUUV7B8AFFFFABRRRQAUUUUAFFFFABRRRQAUUUUAFFFFABRRRQAUUUUAFFFFABRRRQAUUUUAFFFFABRRRQAUUUUAFFFFABXjPjj/lIX8L/%2ByM%2BPP/Tt4Qr2avGfHH/KQv4X/wDZGfHn/p28IUAezUUUUAFeIft/eG/EWu/BPRtW0TwpqWv2nhv4l%2BFdf8QaHo%2BnSXl1eabY61aXNwYraJWkuXhWP7SIUVpJPs%2B1Fdyqn2%2BigD4S8R%2BFfGnjD9hn40%2BH9F%2BD3jWI%2BNfiTeeKvDWgv4Qv7bUdP0afXLYyajDbSQqTfK0F3q0enOPPkZ41lhzMyHzmH4bfFS1v4fiPeXnxy07RpPjvrmsWvxs0z4USTeNbuGbwlZWKXFz4f/smSOKOSdbiwEv9lRqIdOt38tGnN236Z0UAeIfsc%2BBvi14N/wCCfnw0%2BHFjoOleA/F2k/DjSrCHTtX0ie%2BttJmito4wk1sLuOVyFX5o/tO5WJBkbGT8ieJLfxL4k8Afs5fBDxhq9jqOr6n%2B2r4y1bW7jS9Oe0trz%2BzPFuvzXDRwSTTNFEzOCI2lkKjALsRuP6VV%2BcPwZli8Z/8ABQP4N%2BFZpB5PgjxZ8cPE1yrH5VFz4w1ixR2%2BjKcHsa8rOvewSp/zzpx%2B%2Bcb/AIRZ4nEHv5eqK/5eTpQ%2B%2BpC/4RZ7L8Jf%2BL2/8FgPif8AERv32nfCH4caX4SsG6xi%2B1CRr%2Bd1/wBtUUxN6AgHtX1zXyT/AMEc4JvGn7PXiv8Aak1KM/bPjF8T9d8TBpB88dr9qa1gh9lQW77R6PX1tSyX38Aq73qylP5Sb5f/ACVRP1zxOaw3Fcsrj8OBp0cL/wBvUKcVV%2B%2BvOu35r0CiiivWPz4KKKKACiiigAooooAKKKKACiiigAooooAKKKKACiiigAooooAKKKKACiiigAooooAKKKKACiiigAooooAKKKKACvGf2X/%2BS3/tHf8AZZrH/wBQrwvXs1eM/sv/APJb/wBo7/ss1j/6hXhegD2aiiigAooooAKKKKACiiigAooooAKKKKACiiigAooooAKKKKACiiigAooooAK%2Bef2kPAdh8VP2uPCnww1Tb9m8R/s8/EjS7jcMjy7i/wDCcTZ/BzX0NXjPjj/lIX8L/wDsjPjz/wBO3hCpnGM4OMtnp9%2Bn6kzhGpBwkrppp%2BjTT/BnxdaxeLfjB/wQh8HfErQomXxv8CL6HV9PRuWs7rQL%2BSFgccjFkrtge1fo18LviFoPxa%2BGnh74p%2BFpd%2Bm%2BJNEtdUsGznMM8Sypn3wwr5X/AOCePh7R9J%2BIv7U/7H/iWyWbT9N%2BK11qn9nyfdXTNdtBMkIH9zakmP8AeNa3/BIDxDrGjfs567%2BzB4vvXm1z4LeO9U8JXTzffmtY5zLazY/uNFLtU9xFXy%2BTSlQrUVL7dNwf%2BOg3H73D8j6zhqcs78F6dObvVyyuk%2B/ssRejL5RxOGg/J1fM%2Br6KKK%2BqPlQooooAKKKKACiiigAooooAKKKKACiiigAooooAKKKKACiiigAooooAKKKKACiiigAooooAKKKKACiiigAooooAK8Z8cf8AKQv4X/8AZGfHn/p28IV7NXjPjj/lIX8L/wDsjPjz/wBO3hCgD2aiiigAooooAKKKKACvyo/Zp8X%2BR%2B07%2B1V8YfN%2BX4U/D/4i6ar54ikuPGviLUx9GIT64r9V6/HfwJIfA/7J3/BR74zE7P7Z%2BN3iLwyJfXbrt5AVz/3EenvXgcQzdPDwl/K5S/8AAKVSS/Fo68iyuWecc5Fl1rqrjaCa8lJf5s/Q7/gl14Q/4Qj/AIJ5fB/RfK2ed4Hs78rjHN0v2rP/AJGzXvVcv8EPCH/Cvvgt4Q8BeVs/sPwvp%2Bn7Mfd8m2jjx/47XUV6uBo/V8FSpfyxivuikelxRmP9r8T4/HXv7avWn8p1akl%2BDQUUUV1HhBRRRQAUUUUAFFFFABRRRQAUUUUAFFFFABRRRQAUUUUAFFFFABRRRQAUUUUAFFFFABRRRQAUUUUAFFFFABRRRQAV4z%2By/wD8lv8A2jv%2ByzWP/qFeF69mrxn9l/8A5Lf%2B0d/2Wax/9QrwvQB7NRRRQAUUUUAFFFFABRRRQAUUUUAFFFFABRRRQAUUUUAFFFFABRRRQAUUUUAFeM%2BOP%2BUhfwv/AOyM%2BPP/AE7eEK9mrxnxx/ykL%2BF//ZGfHn/p28IUAeReNNSb9lL/AIKz6b8Q/EkQh8I/tBeFLbw6NTBwlv4ksCfs0cvb97Awjj7s7EdFJqv8SdXm/YM/4KNt8c/EMax/DH9oOPT9E8RaoMrHofiW0jaOzlm/hWKeLchbj5tzMQE%2Bb2z9ur9l6z/a7/Zq174Rw3n2HXFVNR8IaurlH03V7c%2BZazq45T5xsYjnZI%2BOteefATxN4K/4KlfsCX3w9%2BPmg%2BTrMsM/hn4jaS0apPpOvWhCySqvIjkWRY7iMchdyg5wRXzFfDVaeKnQpu0rutSb25v%2BXkH5O/8A4DNv7J6HAGe4PhbifEZdmUXLA46E41Evi5Jyg6jh09pQqxp4mmn8VpQekm19RUV8r/8ABOr9orxnHLrX7C37Tuux/wDC1/hcwtBdTybW8UaKAPsmqQ7jmTMe1ZOpDbS5DOQPqivdwWLp43DqrDTo094taOL807p/fs0d3EvD%2BM4YzmpgMQ1K1pQnG/JVpyXNTqwfWFSDjKL6XcXaUJJFFFFdR4IUUUUAFFFFABRRRQAUUUUAFFFFABRRRQAUUUUAFFFFABRRRQAUUUUAFFFFABRRRQAUUUUAFFFFABRRRQAV4z44/wCUhfwv/wCyM%2BPP/Tt4Qr2avGfHH/KQv4X/APZGfHn/AKdvCFAHs1FFFABRRXO/Ff4r%2BAfgj4CvfiZ8TdcbT9HsHgjmmis5rmWSWaZIIIIoIEeWeaWaWOKOKNGkkkkREVmYAgHRUV55ZftWfAW/%2BBV3%2B0knjl4vCGntcR397eaRdwXNtcQXDWstrJZSRLdJdLcKYPszRCbzcRhCxCnGj/bn/Zpl%2BH8nxGTxbrX2eLxP/wAI4%2BinwPrA1z%2B1/IFz9gGjm0/tAz/ZiLnyxb7vIPnY8r56APXK/Kfx94Bn0j9gP4heA7izeM/GP9vnxNaCN0I%2B0K/jS7iH1BGncfSv1J8K%2BJNN8ZeGdO8XaNHeJZ6pYxXdqmo6bPZ3CxyIHUS29wiTQPgjdHIiuhyrKCCB%2BefjL/iqtV/Z0%2BFH3vtv7aXxD18xeo0vxXr8278PNrxs%2BpxqZbO%2B7tFf9vyhB/g2feeF9KP/ABELL8W/%2BYZ1a/p7HD4ipf5OED9G6KKK9k%2BDCiiigAooooAKKKKACiiigAooooAKKKKACiiigAooooAKKKKACiiigAooooAKKKKACiiigAooooAKKKKACiiigAooooAK8Z/Zf/5Lf%2B0d/wBlmsf/AFCvC9ezV4z%2By/8A8lv/AGjv%2ByzWP/qFeF6APZqKKKACiiigAooooAKKKKACiiigAooooAKKKKACiiigAooooAKKKKAPHv8AgoOfHI/Yc%2BLB%2BG/9p/2x/wAIFqf2f%2BxN/wBu2fZ3837N5fz%2Bf5XmeXs%2Bfft2/NivDf2RviH8J/A118dv%2BGAdF8I%2BIfB7Q2158I/BfhHWbKy0rX9ft9Fje/ttNfetusbO2nJPJGfLjnkmaQiTza%2B06KAPib/gkfaePPDvxT/aK8L/ABF%2BEvjPQ9ck8f6PqniTV/GF1pDy6jq1z4c0x7ptunajeLHl/wB6kYYxRQTQRI2Y2jj9Sv8AUvivd/8ABTbwXZ%2BNvBfh7T9Ct/g944HhrUdK8Tz3l3fodW8JeY1zbSWUKWhGEwEmuA245K7Ru%2Bh68Z8cf8pC/hf/ANkZ8ef%2BnbwhQB7NXxl%2B0d4P%2BK37AH7QfiD9vX4G%2BFp/E3w78Xrbt8bfAunxZu7RoVKjXLIZwzKhJmTjcNzMcMZIfs2kdEkUo6hlYYIIyCK48bg1jKaSk4zi7xkt4vv5prRp6NNrs1wZjgI4%2BkkpOE4vmhJbxlte2zTTalF6Si2n0a%2Bb/jr%2Bzz8C/wDgo98J/DH7QHwR%2BJY0nxTp8A1D4a/FTw02LrT5Of3Ug4MkO7cktu%2BCDvGFbNYX7OX/AAUJ1Lw541h/ZS/4KBadZ%2BAPirav5Gn6pNmLRPGEYwEu7G5YCMM%2BRmFiCGO1RuzGmN4y/Y8/aR/Yz8d618bf%2BCbl7pl/4e1q9OoeKvgRr0gg0%2B7nI/eTaXP0spmA/wBWcR5xnKqkY1/C/wC1B%2Bwn/wAFHfDN1%2Bzb%2B0R4LttG8WJL5Gr/AAt%2BI9uLLVrG7xjdasxVnbBJWWBg%2B05ITOK8J1KtPFc2lHEPRp39lWts0/5uz0qR2lGcVc%2Bw4d8Qcvq5fT4b4xoydKLfsZwaVSi27yeGnP3KlKb96eEqyj73vQdOpec/rCivjWz/AGcv%2BChf7EMZg/ZD%2BKNj8Xfh/anNr8NPiXemHVbCEf8ALCx1QfKwHAVZwERRgKTyeh8B/wDBXL9nEa9F8O/2n9C8R/BLxex2SaL8RtLktraRhjLQ3wUwSRcjEjGMHqBivThm9CnJQxcXRl/e%2BF/4Zr3X83F%2BR9DiPDrNMXTlieHqscxoLX9xf20V/wBPcLL9/Brq4xrU%2B1S1j6poqh4Z8U%2BGPGmiQeJfB3iOw1bTrpN1tqGmXiTwTL6rIhKsPoav16qakrp6HwFSnUpTcJpqS0aaaaa3TTSafk0n5BRRRTICiiigAooooAKKKKACiiigAooooAKKKKACiiigAooooAKKKKACiiigAooooAKKKKACiiigArxnxx/ykL%2BF/wD2Rnx5/wCnbwhXs1eM%2BOP%2BUhfwv/7Iz48/9O3hCgD2aiiigAryD9tf4b%2BPviH8J9Ivvhl4ZbXdY8J%2BP/DvieHw6l3DA%2BrRafqdvcT20ck7pEsxhSQxea6RmVYw7opLr6/RQB8Za98Af2iPGv7IPxd8D3fwHvbPXfiX42uPFY8NXutaZvt7CTU7ZX02O5iunjg1VrC0adJ1Jt4Lq5jZbhjEXHn1p%2BxB8crWHTfiQPg/8U4vD%2BlfGzVtetfh5ZfFa3XxtNo974at9PM1zrv9qgz3C6jDJIu7U2lWxkSHzisYtK/Q6igDyz4DeBPj2f2SPDHw/wDjV8TdU0v4gDwzBb634m0mSyu761uQB82%2B4t5baedVwjyNCyO4dguGFfEf7PdvJ/w218DPBfiPxde6y/gDxF8bdavtX1SKBbi8e48XatYC4lS2iii8x3XOIo0Xc2ERRgV%2Bl9fmh%2Bwn/wAVl/wUr%2BIms/fi8GReKtJx2Sa7%2BKerXWfYlBj6V5Obe9ChT/mq0/wbl/7aj9A8Pf3OIzPGf8%2BcDi386kKdBff7eSP0a/4TDSf%2BfTVP/BHd/wDxql/4TDSf%2BfTVf/BHd/8Axqvnbx9/wWR/4JvfC/x3rXw08c/tG/Ydb8O6tc6ZrFl/wiGsS/Z7q3laKWPfHaMj7XRhuUlTjIJHNZP/AA/L/wCCWn/R0P8A5ZOt/wDyFVSzzJYScZYmmmv78f8AMzo%2BFviZiKMatLJMXKMkmmsPVaaaTTTULNNNNPqmn1Pp/wD4TDSf%2BfTVf/BHd/8Axqj/AITDSf8An01X/wAEd3/8ar528A/8Fkf%2BCb3xQ8d6L8NPA37Rv27W/EWrW2maPZf8IhrEX2i6uJViij3yWiom53UbmIUZySBzXfft/fGD4mfs%2B/sTfFP44/Bu002bxP4S8D6hqujrq8zJbrLBC0m99scm7aoZgm3DsoQsgYuvXhcbg8bFyw9SM0t%2BVp29bHz%2BecM8ScMVoUs4wVXDSmm4qrTnTcknZtKaTaT0bXXQ9L/4TDSf%2BfTVf/BHd/8Axqj/AITDSf8An01X/wAEd3/8ar571P8Abc%2BNvhX4h%2BOfBfxC%2BBXgTQtP%2BGXw8tPE3jnxPd/FS6Njbvdxao1vbW2NHEs6h9PjEsrpEUS4LRxzOgik5n4bf8FKtX%2BKuqeGdD1b4T6v4X1uL40S%2BDvEOkLLeW0MiHwfqGvwz7dY0e0vXhdIYk2/Z7SQSoGWWSFStx0nhn1V/wAJhpP/AD6ar/4I7v8A%2BNUf8JhpP/Ppqv8A4I7v/wCNV88/slft8/En9ofT9EuPHP7MH/CP3fiz4TaL8QfCel%2BHvGsOqz3WnXzBHgnNxBZRW9xCXiYqHkR0fIcMpjrqf2q/FnxV1L4tfC/9nj4W/FfUPAjeNrrWLrVvFejabY3V7Fb2FkJFtoFv7e4t1aSaaFmZ4nPlQSqu1mEiAHrv/CYaT/z6ar/4I7v/AONUf8JhpP8Az6ar/wCCO7/%2BNV85QftCftI/E/8A4JkeEPj/APD60uf%2BE513SPDs3iG78K6Gt7cW9pLf2kWsahp1lIsgnlSzN5c28BWXcyxrsnOI34vwF8cf2lfjR%2BzV8QdQ8C%2BLvjbqGu/DP4lX%2Bh6Vc%2BHfCnhfTPEniizFjaXlvLeWevWcNpBsF6EZI4raZvIH7tXLRUAfYP8AwmGk/wDPpqv/AII7v/41R/wmGk/8%2Bmq/%2BCO7/wDjVfC0H7aH7TPjLwFD%2B0FpPxx0%2BOy8DeBPhpqureHvDeiWzaV4zuNdkR9SlL3lubyGFoZBHZrE8DxyqzTCYHylsaz%2B2T%2B0h4J0O4/aE1X456cmj%2BK774paZZeGPEmj2sej%2BEP%2BEc/tVrC/aa2txeuoTSG%2B2CWWYM90fKWLy1VgD7g/4TDSf%2BfTVP8AwR3f/wAaq/YX9pqdol9YziSKQZVgCO%2BCMHkEHIIPIIr5f/4J1fGT9o3xt4y8efDX9pG/8Zw6noeieG9VsNE%2BJWm6JBrtvFfxXiyXBbQkWyaxkns5Y4FJN0j2t0Jwv7sV9I%2BD/wDkEzf9hS%2B/9K5aANWiiigAooooAKKKKACiiigAooooAKKKKACiiigAooooAKKKKACiiigAooooAK8Z/Zf/AOS3/tHf9lmsf/UK8L17NXjP7L//ACW/9o7/ALLNY/8AqFeF6APZqKKKACiiigAooooAKKKKACiiigAooooAKKKKACiiigAooooAKKKKACiiigArxnxx/wApC/hf/wBkZ8ef%2BnbwhXs1eM%2BOP%2BUhfwv/AOyM%2BPP/AE7eEKAPZqKKKACvM/2i/wBjj9mX9rHRRo3x9%2BD2ka%2B0cey11KWExX1qOv7m5iKzRjPOFYAnqDXplFZ1qNHEU3TqxUovdNJr7mY18PQxVJ0q0FKL3TSafyaZ8fw/sUft5fs2Lt/Yw/bhbXNCtzmz8BfGzTzqUEa9o01GHFzHGPuqiqABjJOM1m%2BNP2uv2kNF8OzeB/29P%2BCU2ueI9EPy3upfDxLTxVp10vQymykxJEgyeHJYDmvtKivLeUKnG2Gqygv5XacPTlnzWXkpJeR5tHKq%2BX1Y1ctxVShKLurS5opraym7xt05KkbdLH5daL/w5S8V%2BJ7jUvgR%2B1D4y/Zz8XyS7r230nXNR8OGKXss0V4jWwXoCiFVxxxXtvgTQf8Ago9plmL79l//AIKMfCL43aVGu62tPG2jRpJ5X903elSO0rf7bYyevFfXPjz4U/C74p2H9l/E74baB4jtdpX7Nr2jwXkePTbKrCvB/HP/AAR7/wCCcPjy7OpXX7MWlaTdht8V14Zv7vSzE395VtZY0H0249q8x5LjaDvRUF/glUov7k6lP/yU%2B8h4meKEYKnmNTDZlBaWxdFVJWXRVJxlUWnav6WRz6/tjf8ABR/4afuvjX/wTJutbtov9brXwz8d2l8JfXZZygTD8Wpw/wCCyf7Nfhj5Pjt8Jfi98MWXic%2BOPhrdxJGe53W4myPfHSkH/BJXQfC3z/Bj9uL9oPwaE/1NhYfEZriyX0Bhmjbdj3aj/hjH/gpH4TH/ABbv/gq7f3UCfdsfF/wr02%2B3j0acOH/IUX4jobKT9fY1PxToy/Ur/Xjh/E/8jLhRRfWWExk6f3Qre2h8tuyO68Ef8FSv%2BCePxBCHw/8Ate%2BCoTJjYus6oNNP0xdiIg%2Bxr1vwh8XfhP8AEFVfwF8T/DuthxlDpGtQXIYe3luc18ZeN/2M/wDgpF4i3nxX4c/ZE%2BJAY/O/jn4bXUUsvvmFGAb39a8k8Xf8E3PjjqTM/jD/AIJJ/ALXGzlm8C/EfUdDyfVQZE20f2tnlL48Pf8A7cqL/wBJdRC/tnwoxHx0M0wr86OFxMV84VKMn9yP1Jor8lh%2Bx1%2B0T4KG3Qf%2BCb3xw8Fon3J/hx%2B1dbTY90jkR2H0JNAt/wBt7wMMaVB%2B3fp2zoLq703xQF/MR76P9Za8P4mFkvTm/wDbqSD/AI1bW/h59UpeVfLcZD73SdaP4M/WmivyW/4ay/4KK%2BEOV%2BN/7TdnGn/Lv4y/ZA06RfqZ4rsuR74o/wCHqv7d3hP/AI//AIw6FPt6/wDCZfATXLLP%2B99jD4/Cj/W7AR/iU5x%2BSf6oP7N4Lq/wOJsA/wDG8XR%2B/wBtgUl95%2BtNFfkwn/BeX9o7w4Qni3xf%2Bz/dNnHl2/h7xlZM3/f6zYA/pWrp/wDwcPfEG3x9q%2BDvwz1n1/s74h3Fhu%2Bn2uzGPxqlxlkL3m16x/ykyo8O5dW/3fPMsqemY4eP/p1UfxsfqlRX5n6T/wAHEryqG179kvRbcdzZ/HHR5v0aNK27b/g4q%2BCVuA3iL9n/AFiAfxf2f420W6/LFyua2jxZw9L/AJfpeqkv0NY8G5lUdqOJwdT/AAZhgJfljIn6K0V%2Bfemf8HHn7GF3KLe8%2BEPxSR%2B7WukabcoP%2BBR3x/lXT6X/AMF%2B/wBhrUQGn8O/EmzB73Hg0tj/AL9ytW0OJuH57YmH3v8A%2BRNJcA8WR2oRl/hr4SX/AKRjZfkfbtFfHtp/wXU/4J4ygHUPHXiewHf7X4H1Dj/viJq0rL/guD/wS/vG8p/2mfs8ndLrwfrEZH4m0x%2BtbrPskf8AzE0//AkvzsJeH/G8/gy6tL/DFT/9InM%2BsKK%2BaLD/AILEf8E09Rx9n/ax0Nc/897G9i/9DgFbVj/wVN/4J3ajj7P%2B1/4JXP8Az31URf8AoYFaxzfKZbYiH/gcf/kiZcAcdxV3lWJ/8EVn%2BVNnvtFeNWX/AAUU/YI1DHkftmfDFc/89/G1lF/6HIK1rL9tz9jDUcf2f%2B118MJ89PJ8fac38pq2jj8BLatD/wADj/8AJHFU4S4so/xMuxC9cPXX/uE9PorhbP8Aai/Zn1DH2D9onwLPnp5Pi6ybP5S1qWnxq%2BDd/j7D8WvDM2enk69btn8nrVYjDy2nF/Nf5nBUyfOKP8TDVI%2BtOovzpo6aisy08a%2BDb/H2Hxbpk2enlX8bfyatCG4guF328yOvqjAj9K1Uoy2ZxTpVaT9%2BLXqmvzSH0UUUzMKKKKACvGfHH/KQv4X/APZGfHn/AKdvCFezV4z44/5SF/C//sjPjz/07eEKAPZqKKKACiiigAooooAK/N7/AIJGaHPeftO/theO7rLoP2hrjSbJj/yzWLxNqksij6tMpr9Ia%2BH/APgk34UbSPCH7Rniq4jxLrX7aHjVo3x96GHxEIlH4Osn515%2BMpupisN/dlJ/dCS/U%2Bv4dxqwWQ5yutWhSpr/ALexVGT/AAp6%2BR9wUV8xeP8A/gpr/wAIF471vwL/AMO%2Bf2nta/sXV7mw/tjQPhP9psL/AMmVo/PtpftI82F9u9HwNyspwM1kf8PYf%2Bsan7Wn/hm//uqs5Z1lkZOLqar%2B7P8A%2BVn5vLiHJoScZVdVp8NTpp/z6PrSsX4j/DzwZ8XPh9rnwq%2BI2gxar4f8S6Rc6XrmmTsypdWlxE0U0RKEMAyMwypBGcgg818%2BeAf%2BCmv/AAnvjvRfAv8Aw75/ae0X%2B2tXtrD%2B2Nf%2BE/2awsPOlWPz7mX7SfKhTdvd8HaqscHFezftJ%2BMPid8PPgF4v%2BIPwZ8OWms%2BJ9B0C51LR9FvYXdNSkgQym1AR0IeVUaNG3YV3ViGAKnrw2Mw2Mi5UZXS30kv/Sox/U7cHj8HmEXLDy5ktHpJef2ox/C5jQfsa/s8L4V8U%2BDtT8Ialq9n418N2%2Bg%2BKpfEXivU9TutSsIPtPkxyXN3cyT70%2B1z4lDiUbl%2Bf5E253gf9gr9lr4e6kuueH/AWpTakPFw8US6trXjHVtSvLjVxpE2jC7muLy6llnYafPLb4kZl2lTjciMvhviP/go/wDE34keFrnxj%2By42h6rYeI/Hc2kfCiWLwkuqN4g06w0hbrVb2RrnW9KtoY4rvz4A7XC7RZuAkrSDy%2BJ8G/t1fEb4ueI9E%2BPFl9ptdO8efDL9nfVY/Cja/e/YdKn8ReLtdtr%2BSD7NPFucxeSjMcpOtrCsySxL5R6TsPsPwx%2Byd8CPBNjolh4O8J3ulL4c8DWng7RJtO8R6hDNaaLavG8FqsqThztMUeZCxkYAhnYMwOj8b/2evhT%2B0Tomn6H8UtH1GYaRqJvtIv9E8RX2kX1jcGGWBnhvLCaG4i3QzTROEkAdJGVgVJFfJvwT/ap/ag%2BN37Unwg8Yan4q8I/2J47%2BFvj/W/Dnw90q6vdPa1ks7/RoLaDVpTNcJdSx%2BaUa4S2iNtI9wixSZyfbv239W8ST6Z8KPhvL4q1Xw7pHjv4r2Gh%2BM9S8N67cafdQ2Z0%2B/ukghvbdop7fz721s7XzI2jkZbgqpUuKAPQpP2d/hYngMfDDRrHWNF0CLw5YaFZaZ4Z8V6jpUen2NmSbdLT7HcRGzdQdplgKSuiIjOyxoq87d/sS/s/T/DzTvhbY2Hi3S9I026vLkHQPiXr2m3d7PduZLmW9u7W9juL95XJd2uZJSzHcSTzXl/wi1H9oX4p/wDBNvxvofwn%2BJN3P40s9S8d%2BHPAPizWNVLXFxb6fr2qafplxJeShy0ptbaAfa3Dl2xO2/cc8V%2Bz7Z/FX4s6d8b/AIFnwX4%2BsLDwl4p0Y%2BCfD3jj9oTVrTVYb%2BXSop7vT7vxBpN1fXSRjcl0IVmutq3SblVWWKIA%2BhNT/YX/AGVtT8S%2BF/FDfClLSXwdpuk6foVhpesXtnp4tdLmM%2BmQz2MEyW14lnKTLbi4jkEDkvHsY5pYv2Gv2WV8Z%2BJPHVz8K1vLrxZY6pZ61Y6lrF7daa0OplTqQhsJpmtLVrsoGuHgijadsmQuWJPwpP8AGr4ueL/2aNS1/wAYftJeMtM1f4Xfs1%2BIvFPhq/0vxZd2wvfE%2BnaxqNnM1w8Mw/t2CzewsrZftHmxXaXglkjL3C7fpH4vp8R/h/8Atq/Bb4kWGs6to%2BgeOfFL6V4o2/FXV9QS9vm0LUnGlDw7P/xL7SBXtorg31uxnWS3KtCElmmAB7p8Dv2Y/g3%2Bzq2qXHwv0XVVu9ZS2j1PVPEHinUdavZ4bZXW3gN1qNxPMIYhJJ5cIcRoZZCqguxPV%2BD/APkEzf8AYVvv/SuWtSsvwf8A8gmb/sK33/pXLQBqUUUUAFFFFABRRRQAUUUUAFFFFABRRRQAUUUUAFFFFABRRRQAUUUUAFFFFABXjP7L/wDyW/8AaO/7LNY/%2BoV4Xr2avGf2X/8Akt/7R3/ZZrH/ANQrwvQB7NRRRQAUUUUAFFFFABRRRQAUUUUAFFFFABRRRQAUUUUAFFFFABRRRQAUUUUAFeM%2BOP8AlIX8L/8AsjPjz/07eEK9mr5w/aP1f416P%2B3h8J5/gd8P/C3iLUm%2BEfjtbu08V%2BMLnRYI4P7U8JEuktvp96zvu2jYY1GCTvyApAPo%2BivGf%2BE4/wCChf8A0a/8Gf8Aw/Grf/MvR/wnH/BQv/o1/wCDP/h%2BNW/%2BZegD2aivGf8AhOP%2BChf/AEa/8Gf/AA/Grf8AzL0f8Jx/wUL/AOjX/gz/AOH41b/5l6APZqK%2BcdJ/aO/bt1j4z6/8Drf9lD4SLqnh3wvpGu3ly/x11TyJINRudSt4UQjwxuLq2lzlgVAAePBYlgvUf8Jx/wAFC/8Ao1/4M/8Ah%2BNW/wDmXoA9morxn/hOP%2BChf/Rr/wAGf/D8at/8y9H/AAnH/BQv/o1/4M/%2BH41b/wCZegD2aivGf%2BE4/wCChf8A0a/8Gf8Aw/Grf/MvXL%2BAf2jv27fiJ4r8b%2BENH/ZQ%2BEkNx4D8URaFqslz8ddUCTzyaVp%2Bph4tvhgkp5OowqSwU70cYwAzAH0dRXjP/Ccf8FC/%2BjX/AIM/%2BH41b/5l6P8AhOP%2BChf/AEa/8Gf/AA/Grf8AzL0AezUV4z/wnH/BQv8A6Nf%2BDP8A4fjVv/mXo/4Tj/goX/0a/wDBn/w/Grf/ADL0AezUV84/CL9o79u34y%2BFLvxf4c/ZQ%2BEltb2fijW9CkjvfjrqiuZ9L1W60ydxt8MMNjTWkjIc5KMpIU5UdR/wnH/BQv8A6Nf%2BDP8A4fjVv/mXoA9ldEkUpIgZT1DDINZOofD/AMB6vn%2B1fBOkXWev2jTYnz%2BamvMP%2BE4/4KF/9Gv/AAZ/8Pxq3/zL0f8ACcf8FC/%2BjX/gz/4fjVv/AJl6TjGW6uTKEJq0lc7S/wD2dP2fNUz/AGn8CfBtznr5/hi0fP5x1j3v7GH7HmpZ/tH9lD4a3Gevn%2BBNPfP5w1h/8Jx/wUL/AOjX/gz/AOH41b/5l65f4I/tHft2/Hj4MeEPjj4V/ZQ%2BElrpfjPwvp%2Bu6bbah8ddUWeGC7to7iNJAnhhlDhZAGCswyDgkc1jLC4WXxU4v/t2P/yJhLBYKfxUov1jF/8Atp1t5/wT2/YNvs%2Bf%2Bxh8LBnqYvAWnx/%2Bgwisu7/4Jjf8E973PnfsdeAFz/zy8Owx/wDoIFX/APhOP%2BChf/Rr/wAGf/D8at/8y9H/AAnH/BQv/o1/4M/%2BH41b/wCZesnl2XS3ow/8Aj/8iYSynKZb4en/AOAQ/wDkDnrr/gk5/wAE47zPnfsieEhn/nlbyR/%2BguKzrn/gjp/wTRu/9b%2ByboYz/wA87%2B9T/wBBnFdl/wAJx/wUL/6Nf%2BDP/h%2BNW/8AmXrl/jd%2B0d%2B3b8B/gx4v%2BOPir9lD4SXWl%2BDPC%2Boa7qVtp/x11Rp5oLS2kuJEjD%2BGFUuVjIUMyjJGSBzWTyjKXvh4f%2BAR/wAjJ5Dkct8LT/8ABcP/AJExrn/gih/wTBus%2Bb%2BytZDP/PPxJqqf%2Bg3QqlN/wQz/AOCW8x3L%2BzEYz6x%2BNNaH/t5ivTv%2BE4/4KF/9Gv8AwZ/8Pxq3/wAy9H/Ccf8ABQv/AKNf%2BDP/AIfjVv8A5l6h5Hkr3w1P/wAAj/kZPhzh5/8AMHS/8Fx/yPJbj/ghB/wTEnGE%2BAl9H/ueM9VP/oVyapT/APBAv/gmbL/q/hFrMX%2B54vv/AOspr2f/AITj/goX/wBGv/Bn/wAPxq3/AMy9H/Ccf8FC/wDo1/4M/wDh%2BNW/%2BZeofD%2BRP/mFp/8AgKNYZHk9P4KEV6Jr8pI8Nm/4N%2Bv%2BCbMv3PAHiSP/AHPFlz/Umq0v/BvV/wAE5JPueG/F0f8AueKpP6qa9T%2BLv7R37dvwa8KWni/xH%2Byh8JLm3vPFGiaFHHZfHXVGcT6pqtrpkDnd4YUbFmu42c5yEViAxwp6j/hOP%2BChf/Rr/wAGf/D8at/8y9Q%2BHMgf/MLD/wABR0Ry/CQ%2BGLXpOovyqo%2Be5f8Ag3d/4J3SfctPG6f7vicf1iNV3/4N0v8Agn3ndBqXxBhPYx%2BJos/rbmvoz/hOP%2BChf/Rr/wAGf/D8at/8y9H/AAnH/BQv/o1/4M/%2BH41b/wCZepfDPDz/AOYWH3f8E2jQUfhnUXpVrr8sQj50T/g3i/Ylg/48fiV8V7bHTyPFluMf%2BSlWIf8AggD%2Byva/8eP7Q3xvt8dPI8bWy4/8k6%2Bg/wDhOP8AgoX/ANGv/Bn/AMPxq3/zL1y/j79o79u34d%2BK/BHhDWP2UPhJNcePPFEuhaVJbfHXVCkE8elahqZeXd4YBCeTp0ygqGO90GMEsouGsgW2Gj%2BP/wAkEqClvOp/4Or/APzQeYW//BCj4EWf/Hj%2B15%2B0Lb46eT8Qrdcf%2BSVX7f8A4IrfDyyGLD9u79pmD08r4nxL/Kzr2j/hOP8AgoX/ANGv/Bn/AMPxq3/zL0f8Jx/wUL/6Nf8Agz/4fjVv/mXq1w9ksdqC%2B%2BX/AMmc88twlT4ud/8AcWv/APLzyGL/AII%2B2Fp/x4f8FGv2pIcdNnxVA/lbCk%2BBX7JV5%2By3/wAFC/Bouf2nPir8Rl1z4MeMtg%2BJviw6p/Z3k6t4Wz9myi%2BV5nmjf13eVH/dr1//AITj/goX/wBGv/Bn/wAPxq3/AMy9UPA/gf8Aas8Y/tWeHPjd8bvhx8PfDOjeGfh74h0OGHwr8Q77Wrq7utSvtEuEZkuNIsUijRNLlBYO7FpUAXGSOihlOXYWqqlKFpLzn%2BTm1%2BBNHKsBh6yq04vmXVzqP8JVJL8Ge60UUV6J6IUUUUAFFFFABXzl%2BxB4Y03wt%2Bzz4svbEORfftDeP9Tv3YZwR481Te3A6KkY/Ba%2Bja%2BSv2SvFn7Z2n/D3xRZ/DH4B/DDV9CT40/EX%2Bz9R174u6jpt3Mv/CZ6yWMltFoFykRDbgAJnyADkE7Qmk2n2LjUqRhKCekrX87O6%2B56n1B/wnPgn/ocNL/8GEf/AMVS/wDCc%2BCf%2Bhw0r/wYR/8AxVeW/wDCcf8ABQv/AKNf%2BDP/AIfjVv8A5l6P%2BE4/4KF/9Gv/AAZ/8Pxq3/zL0yD1L/hOfBP/AEOGlf8Agwj/APiqP%2BE58E/9DhpX/gwj/wDiq8t/4Tj/AIKF/wDRr/wZ/wDD8at/8y9H/Ccf8FC/%2BjX/AIM/%2BH41b/5l6ANS%2B%2BBn7FGqfDjSfg7qfwd%2BFtx4R0C9%2B2aF4Vn8Paa%2Bm6bc7pG86C2KeVDJullO9FBzI5z8xzoaf8OP2UdJtbWy0rwH8PbaGytNJtLKG30uxRbeDS55LjTIkAUBEtJ5ZZbdRgQSSO8YVmJPmfwR/aO/bt%2BPHwY8IfHHwr%2Byh8JLXS/GfhfT9d0221D466os8MF3bR3EaSBPDDKHCyAMFZhkHBI5rqP%2BE4/4KF/9Gv8AwZ/8Pxq3/wAy9AGrY/A/9irS/FOt%2BOdM%2BEHwut9b8SwXUPiPWIPD%2BmpdarHdY%2B0pcyhN86y7V8wOSHwN2cV0HjfSvgB8TPBFz8MviRpvg7xB4bvIUiu/D2uQ2l3YzxoysiPBKGjZVZVIBXAKgjoK4r/hOP8AgoX/ANGv/Bn/AMPxq3/zL0f8Jx/wUL/6Nf8Agz/4fjVv/mXoA6oeCf2YR4et/CI8I%2BAxpNp4bn8PWul/YLL7PDpE4jWbTkj27VtZBDEHgA8thEgKnaMYd1%2Bz5%2BwxffC21%2BB178EPhPN4Ksr831n4Pl8NaY2lwXR35nS0MfkpJ%2B8f5wob5255NcT8bv2jv27fgP8ABjxf8cfFX7KHwkutL8GeF9Q13UrbT/jrqjTzQWltJcSJGH8MKpcrGQoZlGSMkDmuo/4Tj/goX/0a/wDBn/w/Grf/ADL0AbviD4TfsgeLLHwxpfir4afDbU7bwTLHL4Mt9Q0bT5o9AdAgRrJXQi1KiNMGLaRsXHQU/Svhb%2ByPoXxVu/jtonw6%2BHFn43v1Zb7xla6RYR6rcKyqjCS7VRM4KqqnLHIUDoBXP/8ACcf8FC/%2BjX/gz/4fjVv/AJl6P%2BE4/wCChf8A0a/8Gf8Aw/Grf/MvQB6j/wAJz4J/6HDS/wDwYR//ABVHgw79DM6g7Jr67liJGNyPcyMrfQqQR7GvLv8AhOP%2BChf/AEa/8Gf/AA/Grf8AzL1y/wAXf2jv27fg14UtPF/iP9lD4SXNveeKNE0KOOy%2BOuqM4n1TVbXTIHO7wwo2LNdxs5zkIrEBjhSAfR1FeM/8Jx/wUL/6Nf8Agz/4fjVv/mXo/wCE4/4KF/8ARr/wZ/8AD8at/wDMvQB7NRXjP/Ccf8FC/wDo1/4M/wDh%2BNW/%2BZej/hOP%2BChf/Rr/AMGf/D8at/8AMvQB7NRXzj4%2B/aO/bt%2BHfivwR4Q1j9lD4STXHjzxRLoWlSW3x11QpBPHpWoamXl3eGAQnk6dMoKhjvdBjBLL1H/Ccf8ABQv/AKNf%2BDP/AIfjVv8A5l6APZqK8Z/4Tj/goX/0a/8ABn/w/Grf/MvR/wAJx/wUL/6Nf%2BDP/h%2BNW/8AmXoA9morxn/hOP8AgoX/ANGv/Bn/AMPxq3/zL1y%2BrftHft26P8Z9A%2BB1x%2Byh8JG1TxF4X1fXbO5T466p5EcGnXOm28yOT4Y3B2bVICoCkEJJkqQoYA%2BjqK8Z/wCE4/4KF/8ARr/wZ/8AD8at/wDMvR/wnH/BQv8A6Nf%2BDP8A4fjVv/mXoA9morxn/hOP%2BChf/Rr/AMGf/D8at/8AMvR/wnH/AAUL/wCjX/gz/wCH41b/AOZegD2aivnHSf2jv27dY%2BM%2Bv/A63/ZQ%2BEi6p4d8L6Rrt5cv8ddU8iSDUbnUreFEI8Mbi6tpc5YFQAHjwWJYL1H/AAnH/BQv/o1/4M/%2BH41b/wCZegD2aivGf%2BE4/wCChf8A0a/8Gf8Aw/Grf/MvR/wnH/BQv/o1/wCDP/h%2BNW/%2BZegD2aivGf8AhOP%2BChf/AEa/8Gf/AA/Grf8AzL1y/gH9o79u34ieK/G/hDR/2UPhJDceA/FEWharJc/HXVAk88mlafqYeLb4YJKeTqMKksFO9HGMAMwB9HUV4z/wnH/BQv8A6Nf%2BDP8A4fjVv/mXo/4Tj/goX/0a/wDBn/w/Grf/ADL0AezV4z%2By/wD8lv8A2jv%2ByzWP/qFeF6P%2BE4/4KF/9Gv8AwZ/8Pxq3/wAy9W/2Vvhz8afB%2BsfFDx38dNA8L6Tqnj74hRa5Z6V4T8S3OrW9raxaDo%2BmKr3FxZWbNI0mnSuVEW0LIg3Mc4APW6KKKACiiigAooooAKKKKACiiigAooooAKKKKACiiigAooooAKKKKACiiigAr5X/AGnv2tPi58MPjH4s1rwD4d8HyeGPg/4f8P3vjU61pFxNquqW%2Br38qXMFhcR3EaWXkW1nHcZkinFzIUjIh8vzT9UV4z8Z/wBiH4cfG74pH4ma5458VaXFqNrpFr4v8NaNdWqad4pg0u9kvbGK%2BWW3kmCxzTS5%2BzywGWOQxTGWMKgAPZqKKKACiiigD5j8OftK/EyH9v8A8UfB/wCI2seHvCfhtfEFpongyLUfhFrKXXjGAaBBqOIPEbXa6c0sd3c6gBaCF5PLtJgFBZpF%2BnK8r8WfstQeP/jJpHxT8e/G/wAa6vpXh7XY9a0DwBcHTItGsdQjt3gjnDQ2SXsuzzJJFSa6kjEj7tnyIF9UoAKKKKAPF/8AgoL8Xfjh%2Bz9%2ByP40%2BPXwCvfCkeseCdCu9cuoPGGi3N9bXdpa20sz26JbXVsySuyIokLlUBYlH4Fef%2BPP2tPi54L%2BPHi3U/Cnh3whF8PPCHxj8I/D7xlZzaRcHW9V1XXYNFSPUIbtLhYY44P7c0mMxSW8ryJDPiWPagr2H9rH9nGy/a0%2BBGvfs%2B618VfFPhHSfE9lLY65f%2BEF077Xc2UsTxTW26/tLqNEdX5ZEWQFRtdec8XB%2BwD4On%2BItn8RfFXxx8fa6x1nSdc8TaNqEulRWPifXNMSNLHVr2O2sImW4iEFphbZoIGNjbF4mMeSAe90UUUAFeL/ALZPxd%2BOHwStfAPjH4WXvhT%2BxtQ%2BJnhzw94vsfEGi3NzdXNrqus2Omg2csN1CltJGtzLJvkSdSURdnJNe0V5V%2B1d%2By2/7VXhvQvC8/x98b%2BBrfQvElhrqN4Lh0dnu72xvILyzaU6lp94NsVxbxuFjCBuVk3qdoAPOP2ef2lfiZrf7VXi34I/FDV/D3hPTofFOt2/gnwlJ8ItZ0y5162hdJTf2%2BtXF39g1B2Mk0ssVtAX5LsVwxP05Xkuk/soh/jJovxl%2BI/7QHjvxrN4Xu7y78J6F4hGkw2Gj3VzbyWslxEthp9tLK/2eaeFfPklVFnfaASCPWqACiiigDw/9u74ufHj9n74Nav8dfhR4x8C2On%2BFtFuby90XxZ4Zvb%2B58Q3uUWz0yzktr2D7PNcSkW6N5V0zSzxBYWPyt5/8Ef2vvjPrnxL8Ff2t4M8JaR8NPG/xP8AFHw28K%2BGtO0uaPV9Ev8AQIdW3zz3IuGt5oJG8P6miwx28RjVrY%2BZJlgPT/2lf2QYP2kvHngj4gTftA%2BO/CFz4Bu7m90Wx8MRaNPZyXsqCNbyaDU9OvEeeGPzFhkAUxieUj5myKvgP9hr4e%2BA/jLb/F2H4i%2BLtSg07XdT17RPCGpXNl/ZOla3qMbx6hqkCRWqT%2BfOJ7ssrzPCjX1yY4o/M4APa6KKKACvl/8Aa5%2BPH7S/wW%2BImn%2BFNKh8AeNdH8cw61baL8OYvB99JrCWtpod1dyX9xOL14rq2F1Fb20kItYgft8KCYyMiSfUFeHTfsTXEf7R/iv9prRP2q/iXp2r%2BLdNh0650uGDw/PaafZwwNHDbWbXOky3NvEsrvdbFm2vO5dw4O2gBn7CH7Qfjf49/D28uviv4%2B0a%2B8XacLNtf8N2Xwu1fwjeaA89ssogubLV7qe4cFt/l3ACRyKh2htpNe6V5v8AA79m7Tvgz4n8SfEPWPil4p8ceKvFcVjb6x4n8XNYLcvaWYm%2By2qRafa2ttHFG1zcuNsIZmuJCzNkY9IoAKKKKAPjn/goJ%2B3H8VP2MPHP9p65ougeMfCL6NqOt2/hWX4c6nZS26abo19qSSf8JFNdPpk939r00bLFYEuhHMsoG2FpG9e/Zo%2BLvxz1b4qeN/2ev2jrnwpqHifwjpOh61HrXgrSLmwsbmx1QXkaRGC5ubl1liuNOu1L%2BbiRDE2yMkqK3x1/YS8EftOa1dWvx/8Ai3418UeC7mS4kX4ZXkmmw6LFJNYzWTNvt7KO%2BkAjuJmCS3ToHfdt%2BRAvT/s%2BfszaR8A7zXvEV38UPFnjjxH4kNnHq3irxrcWb30ttaRGK1tR9jtreFYog8rDEe9nnld2dnJoA9KooooAK%2BI/2p/2yv2s/g38avEHwo8HeG/DnjXU7DRbjXfDAT4H%2BII5NFA1HTLVDC325x4mkFjqlx539l%2BU8LQlZRGJhHX25Xh%2BvfsW6n4l8en4na1%2B1z8UZtb0%2BC8i8G3hTQAPCq3U0Mk/2SMaTsnZo4Ft916t0yxM4Uq7s5AOq/ZY%2BLD/ABk%2BEcHiy9%2BJmjeKr%2BHUbqy1S%2B0bwZfeHRbXEUrK1rNpuoXE91ZzxjCvHM4fPzbVDAV6NXDfAP4C%2BHvgB4Z1PRtK8U634g1HX9euNb8SeJPEc0DXuq38wRGnlFvFDAmI4oYlSGKONUiQBRgk9zQAUUUUAFFFFABRRRQAUUUUAUfFHiGw8JeGtR8V6qHNrpljNd3IiXLeXGhdsDucKa%2Bc/wBib9pP41%2BP/FOj%2BDPjZ4e8GWY8dfC2y%2BI3hmHwZpVxaDTI7y4Ju9PuzNcSi7mje5tn%2B2IIBO0sxMEe0F/pa7tLW/tZbG9t0mhmjaOaKVQyupGCpB4II4xXkP7M37FfgL9mDVX1fQPiD4t8Sy23hix8M%2BHR4svbWYaBoVm8j2%2Bm2pt7eEtGpk%2BaWczXEgji8yZ/LXAB7FRRRQAVwv7UHjz4i/Cz9mj4ifE74P8AhRde8W%2BHPAur6p4W0NrGa6Go6jb2csttbGGBllmEkqInlxsHbdhSCQa7qs7xbol/4l8Mah4f0vxXqOhXN7aSQ2%2BtaQsDXVi7KQJohcRSxF1PIEkbpkfMrDIIB5d%2BxT8Wp/ih8M76y1b4heH9Z1Pw7qq6deaZonww1Pwc%2BhoLaCSKzuNK1S5nuYXCOJFdvLR4pYtiYG9/Yq88%2BA/7O2k/A688S%2BI7n4ieJPGPiTxfqMN54i8U%2BK3sxd3Rht0t4IhHY21tbRRRxoAqxwpks7MWZmY%2Bh0AFFFFAHy5%2B1R%2B1j8UP2cPi944sviVo3hLxF8L7D9nfxf49ttCt9EuE1V20QaWs9tcXMly9vNFOt9OAgtkKhEy75YV2/wCzP8X/AI%2Bap8XPGX7Ov7Sz%2BErzxR4Y8MeHvEseq%2BCtJubGykstWfUrdbYw3NzcuZYbjSLsGUSBZEeJvLjO5ag%2BMf7Cvh346fHVvjL48%2BO3jmXTZvBWp%2BEb74ewwaL/AGJd6NqS232%2B0kL6a16RO1pA7OLoOpQhGRGZD0n7O/7Luh/s%2B32teI5/ih4t8b%2BIdftbCyv/ABP42ubSS9NhYpItnZj7JbW8flRGe4cEoZHe5ld3dmzQB6fRRRQAV8ifGv8AaX/a28Ga7%2B0B4Et/CvgzxZe%2BAvD/AIU8SfDax0n4f6nfzrHqOq6lCEvLWK8eXUZ4F02OdTbC3JckKvyq1fXdeFy/sUeIYvjp42%2BP%2BhftofFbStW8b6RY6Zc2NlZ%2BGGtNNtrK4uZ7NLYS6K8n7o3l0oMzyl1nIk8wqhUA6v8AZU%2BLc3xl%2BFI8Taj8TtG8U6ja6rc2OrXWj%2BCL/wANmzuIm%2Ba1n0zUbie6tJ0UruSZgxDK21VYV6TXCfAP4B6B8AdC1mx0/wAW654j1XxN4gl1zxP4m8SS27Xuq38kMMHmyC2hhgjCwW9vCqRRRoqQoAuck93QAUUUUAfG37S37Xf7S37PHxmg%2BG2sp8M/Gt9rcEE3hGHTvC17aS%2BC7zUvEOmeHtIm1OV76YXUU7avOC0S2cjixuljDL5hi9x/ZV%2BL/wASPiMPH/w%2B%2BMR0SfxV8NPHjeGtZ1Xw1p01nYan5ml6dq1vcQ28088lvm11S3R42mlxJHJhiCMcLbf8E1fCTXXxDfxD%2B0v8TtZt/iTrx1zWLfUjoXmWepRXEM%2Bn3NtdRaWl0psHt7cWkbzSRRLCgZH5z6x8A/gLofwD8Patptl4v1zxJq3iLXpta8T%2BKPEr2xv9XvpI4ofOmFrBBAuyCC3gRIoo0WOCNQvBJAO6ooooAZc/afs0n2PZ52w%2BV5udu7HGcc4zXxB8Vv2uf20/hp8RNc%2BG1vbeA/GeveGL3w1b6t468EfBXX9Wj8OW%2BrNePe2EulWepT3dzNHDZWN0TFOn7u6haWBAYmk%2B3ruGS4tZbeG6kgeSNlWeIKXjJGAy7gVyOoyCPUGvnv4MfsBeIPgJ8Nrj4afDv9ur4xRR3WrPqc2s3ll4Tn1CW7leWS5nmmfQj9pkneXdJJOJHzGmwoBggHrPwE%2BIdl8Vvg74f%2BIVh8QNG8VJqeniR9f8P6TNYWl3ICVkKWs800tsVdWRoZJHeNlZWO5SB19cl8C/gv4S/Z9%2BF%2BnfCnwVc39xZWEt1cTX2q3Imur67urmW6urqZwqhpZrieaV9qqu6Q7VVcKOtoAKo%2BJ4fElz4b1C38G6nY2WryWUq6XeanYPdW0FwUIjklhjliaaNWwWRZIywBAdSdwvVm%2BMdBv/ABR4Wv8Aw7pfi3UtBuby1eKDWtHEBurFyOJohcRSxF1PIEkbocfMrDIoA%2BHvhv8At2fta/GD4p638EvhZpvw%2BTxnptrrt9J4z8V/C7WtDXVNM0i10WVLGXRLy%2BTUNPle78Q7EmnmePyoZLhIXWdAfsb4BfFrTfj58CfBXx10bTZbOz8a%2BEtN160s5n3PBFeWsdwsbEAZKiQAn1FeLav/AMEyPA%2Bta5ffEW7/AGlPimnxA1ZLy11r4k217pEOrX%2BmXVta202mFE00WcNsUsrRh5FtFKskCyrKHLMfoPwX4P8ADXw88HaT4A8GaTFp%2Bj6HpkGn6TYQ52W1tDGscUa55wqKqj6UAadFFFAHL/GnUfHGjfC3Wtb%2BHPiGx0vVrCzN1Dfah4PvfECJHGQ8oGnWM8FzeSNErqkUMgcuy4Vz8jfFvwl/4KI/H7xJ400PU/G9x4R8CeDNSnnXxB44vPgZ4imttYv4dfutIRLmVb6NPDM8lraWv7jVGklgeVY3zsCV9t/EzwZrvj3wlN4c8N/FLX/Bt5JLG8Wv%2BGYrF7uDawJVVv7a5gYMAVIeJuCcYOCPFbr/AIJzeFNQ8H3Hw21b9pD4m3fhjXNQmv8Ax5oE1xo4i8YXc9411cTX0q6aLiLzSywtHZy2sQhiSNUUbtwB9E0UUUAFFFFABRRRQAUUUUAFFFFABRRRQAUUUUAFFFFABRRRQAUUUUAFFFFABRRRQAUUUUAFFFFABRRRQAUUUUAFFFFABRRRQAUUUUAFFFFABRRRQAUUUUAFFFFABRRRQAUUUUAFFFFABRRRQAUUUUAFFFFABRRRQAUUUUAFFFFABRRRQAUUUUAFFFFABRRRQAUUUUAFFFFABRRRQAUUUUAFFFFABRRRQAUUUUAFFFFABRRRQAUUUUAFFFFABRRRQAUUUUAFFFFABRRRQAUUUUAFFFFABRRRQAUUUUAFFFFABRRRQAUUUUAFFFFABRRRQAUUUUAf/9k%3D\">"
            ]
          },
          "metadata": {
            "tags": []
          }
        }
      ]
    },
    {
      "cell_type": "markdown",
      "metadata": {
        "id": "8jmSoG_Cptc8",
        "colab_type": "text"
      },
      "source": [
        "# Submit a linear model"
      ]
    },
    {
      "cell_type": "code",
      "metadata": {
        "id": "bbKgzlIMptc9",
        "colab_type": "code",
        "colab": {}
      },
      "source": [
        "## GRADED PART, DO NOT CHANGE!\n",
        "# Testing shapes \n",
        "grader.set_answer(\"9XaAS\", grading_utils.get_tensors_shapes_string([W, b, input_X, input_y, logits, probas, classes]))\n",
        "# Validation loss\n",
        "grader.set_answer(\"vmogZ\", s.run(loss, {input_X: X_val_flat, input_y: y_val_oh}))\n",
        "# Validation accuracy\n",
        "grader.set_answer(\"RMv95\", accuracy_score(y_val, s.run(classes, {input_X: X_val_flat})))"
      ],
      "execution_count": 0,
      "outputs": []
    },
    {
      "cell_type": "code",
      "metadata": {
        "id": "GkIiyM28ptdA",
        "colab_type": "code",
        "colab": {}
      },
      "source": [
        "# you can make submission with answers so far to check yourself at this stage\n",
        "#grader.submit(COURSERA_EMAIL, COURSERA_TOKEN)"
      ],
      "execution_count": 0,
      "outputs": []
    },
    {
      "cell_type": "markdown",
      "metadata": {
        "id": "7Qm9q71lptdD",
        "colab_type": "text"
      },
      "source": [
        "# MLP with hidden layers"
      ]
    },
    {
      "cell_type": "markdown",
      "metadata": {
        "id": "v_3zLRB0ptdE",
        "colab_type": "text"
      },
      "source": [
        "Previously we've coded a dense layer with matrix multiplication by hand. \n",
        "But this is not convenient, you have to create a lot of variables and your code becomes a mess. \n",
        "In TensorFlow there's an easier way to make a dense layer:\n",
        "```python\n",
        "hidden1 = tf.layers.dense(inputs, 256, activation=tf.nn.sigmoid)\n",
        "```\n",
        "\n",
        "That will create all the necessary variables automatically.\n",
        "Here you can also choose an activation function (remember that we need it for a hidden layer!).\n",
        "\n",
        "Now define the MLP with 2 hidden layers and restart training with the cell above.\n",
        "\n",
        "You're aiming for ~0.97 validation accuracy here."
      ]
    },
    {
      "cell_type": "code",
      "metadata": {
        "id": "dr8HEPR9ptdF",
        "colab_type": "code",
        "outputId": "144aac8e-dd9b-4673-a0de-c613a60e6679",
        "colab": {
          "base_uri": "https://localhost:8080/",
          "height": 179
        }
      },
      "source": [
        "# write the code here to get a new `step` operation and then run the cell with training loop above.\n",
        "# name your variables in the same way (e.g. logits, probas, classes, etc) for safety.\n",
        "### YOUR CODE HERE ###\n",
        "hidden1 = tf.layers.dense(input_X, 256, activation=tf.nn.sigmoid)\n",
        "hidden2 = tf.layers.dense(hidden1, 256, activation=tf.nn.sigmoid)\n",
        "logits = tf.layers.dense(hidden2, 10,activation=None)\n",
        "probas = tf.nn.softmax(logits, name = 'Predictions') ### YOUR CODE HERE ### apply tf.nn.softmax to logits\n",
        "classes = tf.argmax(probas, 1)### YOUR CODE HERE ### apply tf.argmax to find a class index with highest probability\n",
        "\n",
        "# Loss should be a scalar number: average loss over all the objects with tf.reduce_mean().\n",
        "# Use tf.nn.softmax_cross_entropy_with_logits on top of one-hot encoded input_y and logits.\n",
        "# It is identical to calculating cross-entropy on top of probas, but is more numerically friendly (read the docs).\n",
        "loss = tf.reduce_mean(tf.nn.softmax_cross_entropy_with_logits(logits=logits, labels=input_y))### YOUR CODE HERE ### cross-entropy loss\n",
        "\n",
        "# Use a default tf.train.AdamOptimizer to get an SGD step\n",
        "step = tf.train.AdamOptimizer().minimize(loss) ### YOUR CODE HERE ### optimizer step that minimizes the loss"
      ],
      "execution_count": 16,
      "outputs": [
        {
          "output_type": "stream",
          "text": [
            "W0901 16:08:39.355544 139734450648960 deprecation.py:323] From <ipython-input-16-14161de79828>:1: dense (from tensorflow.python.layers.core) is deprecated and will be removed in a future version.\n",
            "Instructions for updating:\n",
            "Use keras.layers.dense instead.\n",
            "W0901 16:08:39.365650 139734450648960 deprecation.py:506] From /usr/local/lib/python3.6/dist-packages/tensorflow/python/ops/init_ops.py:1251: calling VarianceScaling.__init__ (from tensorflow.python.ops.init_ops) with dtype is deprecated and will be removed in a future version.\n",
            "Instructions for updating:\n",
            "Call initializer instance with the dtype argument instead of passing it to the constructor\n"
          ],
          "name": "stderr"
        }
      ]
    },
    {
      "cell_type": "code",
      "metadata": {
        "id": "Lg_7vW3KSA8F",
        "colab_type": "code",
        "outputId": "ba326909-0381-4226-9a43-3d818bc462f1",
        "colab": {
          "base_uri": "https://localhost:8080/",
          "height": 309
        }
      },
      "source": [
        "s.run(tf.global_variables_initializer())\n",
        "\n",
        "BATCH_SIZE = 512\n",
        "EPOCHS = 40\n",
        "\n",
        "# for logging the progress right here in Jupyter (for those who don't have TensorBoard)\n",
        "simpleTrainingCurves = matplotlib_utils.SimpleTrainingCurves(\"cross-entropy\", \"accuracy\")\n",
        "\n",
        "for epoch in range(EPOCHS):  # we finish an epoch when we've looked at all training samples\n",
        "    \n",
        "    batch_losses = []\n",
        "    for batch_start in range(0, X_train_flat.shape[0], BATCH_SIZE):  # data is already shuffled\n",
        "        _, batch_loss = s.run([step, loss], {input_X: X_train_flat[batch_start:batch_start+BATCH_SIZE], \n",
        "                                             input_y: y_train_oh[batch_start:batch_start+BATCH_SIZE]})\n",
        "        # collect batch losses, this is almost free as we need a forward pass for backprop anyway\n",
        "        batch_losses.append(batch_loss)\n",
        "\n",
        "    train_loss = np.mean(batch_losses)\n",
        "    val_loss = s.run(loss, {input_X: X_val_flat, input_y: y_val_oh})  # this part is usually small\n",
        "    train_accuracy = accuracy_score(y_train, s.run(classes, {input_X: X_train_flat}))  # this is slow and usually skipped\n",
        "    valid_accuracy = accuracy_score(y_val, s.run(classes, {input_X: X_val_flat}))  \n",
        "    simpleTrainingCurves.add(train_loss, val_loss, train_accuracy, valid_accuracy)"
      ],
      "execution_count": 17,
      "outputs": [
        {
          "output_type": "display_data",
          "data": {
            "text/html": [
              "<img src=\"data:image/jpeg;base64,/9j/4AAQSkZJRgABAQEASABIAAD/2wBDAAIBAQEBAQIBAQECAgICAgQDAgICAgUEBAMEBgUGBgYFBgYGBwkIBgcJBwYGCAsICQoKCgoKBggLDAsKDAkKCgr/2wBDAQICAgICAgUDAwUKBwYHCgoKCgoKCgoKCgoKCgoKCgoKCgoKCgoKCgoKCgoKCgoKCgoKCgoKCgoKCgoKCgoKCgr/wAARCAEgA2ADASIAAhEBAxEB/8QAHwAAAQUBAQEBAQEAAAAAAAAAAAECAwQFBgcICQoL/8QAtRAAAgEDAwIEAwUFBAQAAAF9AQIDAAQRBRIhMUEGE1FhByJxFDKBkaEII0KxwRVS0fAkM2JyggkKFhcYGRolJicoKSo0NTY3ODk6Q0RFRkdISUpTVFVWV1hZWmNkZWZnaGlqc3R1dnd4eXqDhIWGh4iJipKTlJWWl5iZmqKjpKWmp6ipqrKztLW2t7i5usLDxMXGx8jJytLT1NXW19jZ2uHi4%2BTl5ufo6erx8vP09fb3%2BPn6/8QAHwEAAwEBAQEBAQEBAQAAAAAAAAECAwQFBgcICQoL/8QAtREAAgECBAQDBAcFBAQAAQJ3AAECAxEEBSExBhJBUQdhcRMiMoEIFEKRobHBCSMzUvAVYnLRChYkNOEl8RcYGRomJygpKjU2Nzg5OkNERUZHSElKU1RVVldYWVpjZGVmZ2hpanN0dXZ3eHl6goOEhYaHiImKkpOUlZaXmJmaoqOkpaanqKmqsrO0tba3uLm6wsPExcbHyMnK0tPU1dbX2Nna4uPk5ebn6Onq8vP09fb3%2BPn6/9oADAMBAAIRAxEAPwD9/KKKKACiiigAooooAKKKKACiiigAooooAKKKKACiiigAooooAKKKKACiiigAooooAKKKKACiiigAooooAKKKKACiiigAooooAKKKKACiiigAooooAKKKKACiiigAooooAKKKKACiiigAooooAKKKKACiiigAooooAKKKKACiiigAooooAKKKKACiiigAooooAKKKKACiiigAooooAKKKKACiiigAooooAKKKKACiiigAooooAKKKKACiiigAooooAKKKKACiiigAooooAKKKKACiiigAooooAKKKKACiiigAooooAKKKKACiiigAooooAKKKKACiiigAooooAKKKKACiiigAooooAKKKKACvPfjt%2B1J8FP2b5NGsfil4g1Maj4ilnTQNB8OeF9R1zVNR8lVed4bHTbee5kjiVkMkixlI96biu5c%2BhV4N%2B0P8D/j5/wANJ%2BDv2tv2bLLwfrWueH/B2seFNX8KeOdcutLtLywv7mwuxcQXtraXj288U2noCpt3WVJSCUKK1ABpf/BTL9izWLvxPb2nxXv0h8FWsk/jLUrvwXrEFjoIS0iu9l5dy2iwWsrQzRskMjrJIWKorMrKL2n/APBQ/wDZK1HwBrXxFTx/q9vB4f1ay0vVdE1DwNrNrrkV5ebfscC6PNaLqEr3AYGER27eaAxTcFYjy2b9gH4y%2BMf2a/jn8NfGHinwppHin4o/FS38daHc6U1xeWFpeW0OiywQ3IkihkkiN3pRRwoyYHGDuJVaPi79i/8AaV%2BLmr/Ef45fG34S/CjWvFnjWx8KaPp/gKy%2BI2s2Wm6fY6Hcaldw3qa7b6al5DqDXOqTOksVoPJSKNFZiWcgHsviH9vv9mzwv4a8OeI9XvvG3meK0v5NE8P2vwm8SXGuSRWUscV3NJpMWntf28MLzQq8s0CIpmiy37xM%2Bmaz8RPBHhv4e3XxX8T%2BJbbSvDljo76rf6vqrfZYbSySIzPPMZdvlKsYLNvxtAOcYNfGHin9hH9s/WPgX4X8Nay3hfxV470a58RHRfGV/wDHbxNpGr%2BCLW%2BuUktLO11q1sJLzXIYkjhEy3qw/aTbReYCFGPUfjR/wTotfj1%2Bzb4n%2BHHxD%2BOfjW78d%2BMPhfH4Z17xS3jbWho818tpDE2oJoS3y2FuzzQLK3kRRSEPIBIrSM5AOkg/4KUfsZf8K58V/FbWPite6Jo3giysr7xQ/ifwdq%2Bk3NlZXkxhtb37LeWsVxJaSyK6pcxxtC3luQ%2BEYjj/AI3f8FZP2d/hn8ENU%2BMfgPRfFXiqbQfiD4X8L674Y/4QXXbHU7A6zqVrax3T2cmnNdeV5Fw88DeT5d48aW8MhknjB8r1T/gmJ8ZPHfwq8faR4i8DeG9G8Y%2BI9D0fR7DxDqv7RfjPxut3aWusW%2BoTRyf27AfsEZ8likUSzHe%2BGkxknv8A9qH9gz40/GD4g/F/4g%2BBfEPheOTxfB8LbzwlZ6tfXMSvf%2BE/EdzrUsN40dvJ5ENwGt4VljEzrl2MfyKrgHqFh/wUE/Zb1H4m2XwZh8T%2BJo/Fd5oun6xLoF38N9egudO0%2B9adILu/SSyU6dDut5VeS68pYiFEhQum6j4a/wCCmH7FPi3wZ4s%2BIWkfGC4TR/Bfgi68Zaxe6h4S1W0Fx4et0Z5tWsVntUbVLNVQ4nsxPGxZArEugbB0P9kP4ofEP4mfG74g/G9fD2gxfGj4O%2BHfCF1Y%2BE9duNRl0u4tE11Ltlnns7XzYwNViMT7FZikm6OPA3fN37Y37Kn7UOj/ALDHxS%2BJv7TF34AtIfhD%2BxT8QfBHhePwFqF5cNrzXukWxn1G6W5toBYqE0i3CWcbXAVppCZ22oKAPrPw9/wUl/Yy8TaHrHiPT/i1dQWehppU1/JqnhLVbJmtNSu1s7HUIUuLVGubCWdgovoQ9qoDO0qorMPT9E%2BLvw88R/FLX/gvofiH7T4k8LaXp%2Boa/YR2k22zgvmuBa7pinlF3%2ByzHy1cyKoRmVVkjLfJOofsz%2BIPFegeKfjb/wAFIvF/wz8J%2BBbf9nu5%2BHUlx4f8QTLay6beyQyXmq3k17BbpYOTBbCG2QzCAmT/AEiQsuOw/wCCPngP4u2f7I9r8f8A9pDUDf8AxJ%2BL15H4n8V6g9nJbtJCLSCy01fKl%2BeH/iX2lpI0TYKSzTZAYtkA%2BqqKKKACiiigAooooAKKKKACiiigAooooAKKKKACiiigAooooAKKKKACiiigAooooAKKKKACiiigAooooAKKKKACiiigAooooAK8R0j/AIKMfse6ld69Z6n8Urzw83hzw5c%2BINQk8a%2BEdV0GObSbd0jnv7WTUrWBb63R5IlaW2MqAyxjOXXPtN7FczWcsNndCCZ4mWKYx7/LYjhtp64POO9fmJq//BHL9uX4v6t4X1z43fHHQ31vw14P1Cz1DxRqHxW8TeJx4h1v7ZpV9a6idLvoobLSbaS50xfPsLIBRHJtWWQKgUA%2B2X/b/wD2YbX4aN8WNY8QeKtK0ttcg0axs9c%2BGWv2GqanfzIZIYLLTbixS9v2kQM6/Z4ZAyo7AkIxHReA/wBqz4H/ABH1%2By8J%2BHPEOqQ6vf8AhSfxJDpGteFdS0y7TTYbv7JLLLDeW8UkDrP8hhkVZe%2BzbzXk3xO%2BDn7bvxib4e/G3XPBvwq0P4h/Cjx1NrHh/wAM2vjjUr/Rdcs7jSbvTLmO4vn0qGaxmKXskkbpa3AjMQU%2BYJGxV%2BJPwG/bg1/4y%2BHf2mvA%2BjfCu08WX3ww1XwX4x0LUvFepSWGkLcX8N1a39lcJpwk1AxCN1kt5YrQSlxiWLHIB3Gk/wDBRv8AZA8R694F8LeFfiNqus6n8SfBuleLfBunaJ4H1m9nvND1F9lrqMiQWjNa2%2B7HmSTiNbcMpm8oMCdj4a/tufs3fFf4jXPwn8M%2BL9Ws9ft9LudThsvE/gzVtEW/sbeRI57uyl1G1gjv4I3liDy2zSIvmISQGUnyj9hT9hL4sfsw6/8ADjWfHniDw1dnwd%2Byl4R%2BGN%2B%2BkXM8rNq2lvM1zNF5kEe61bemxmKu235o0wK8a%2BGn/BKv9sbxP8UfC/ib9qb4w2eqRaf4A8V%2BF/GniaD4v%2BJNavPEUur2KW39p2umX0Men6EcqWNpaKUXKgTOI1WgD6l8J/8ABRf9kfxrosfirQfHeuf2Hcarpen6f4lvfh/rdrpWoy6lex2VlJaX09mlteQS3M0UYuIJHhBlQs4VgT6X4W%2BLvw88a/EDxT8LvC/iH7XrnguSzj8T2iWkwWxkuoPtEEZlZBG7tCVkKIzMiyRlgokTd8w%2BOPAnxF8K/wDBPbxp8CP%2BChnif4VeCPAWg/DSLQLb4meHfFt2GadI0trXUntLqzgTTZlmFvJDBHcXTGcoiOTtDdr/AMEr/h98WPDf7ImlfFX9oqwS3%2BJ3xYvpfHXxEhW3aL7Pf36xmG02N8yfZbGOys9pyQLXBoA%2BjaKKKACiiigAooooAKKKKACiiigAooooAKKKKACiiigAooooAKKKKACiiigAooooAKKKKACiiigAooooAKKKKACiiigAooooAKKKKACvF/j14/8A2i/%2BGi/AvwI%2BAvjPwV4fTX/BXiXXtX1Pxf4Lu9aJOnXeh28MMMdvqVj5Yb%2B1JWZmZ8%2BWgAXkn2ivC/iLrS2f/BSr4Q6LIoxe/BP4hsjd90ereDTj8mY/hSbS3LhCVR2j2b%2B7Vl7/AIQf/goX/wBHQfBn/wAMPq3/AM1FH/CD/wDBQv8A6Og%2BDP8A4YfVv/mor2aimQeM/wDCD/8ABQv/AKOg%2BDP/AIYfVv8A5qKP%2BEH/AOChf/R0HwZ/8MPq3/zUV7NRQB4z/wAIP/wUL/6Og%2BDP/hh9W/8Amoo/4Qf/AIKF/wDR0HwZ/wDDD6t/81FezUUAeM/8IP8A8FC/%2BjoPgz/4YfVv/moo/wCEH/4KF/8AR0HwZ/8ADD6t/wDNRXs1FAHjP/CD/wDBQv8A6Og%2BDP8A4YfVv/moo/4Qf/goX/0dB8Gf/DD6t/8ANRXs1FAHjP8Awg//AAUL/wCjoPgz/wCGH1b/AOaij/hB/wDgoX/0dB8Gf/DD6t/81FezUUAeM/8ACD/8FC/%2BjoPgz/4YfVv/AJqKP%2BEH/wCChf8A0dB8Gf8Aww%2Brf/NRXs1cZ8Q/E/ww8GT6p4y%2BMviTQtJ0DSdMs2m1TxNew29laNNPLEC0k5EaF38pASRklVHJxSlKMIuUnZI0o0a2IqxpUouUpNJJJttvRJJJttvZJNvomcZ/wg//AAUL/wCjoPgz/wCGH1b/AOaij/hB/wDgoX/0dB8Gf/DD6t/81FV/%2BGv/APgnB/0dF8Ef/C20f/47R/w1/wD8E4P%2Bjovgj/4W2j//AB2uX6/gP%2Bf0P/A4f/JHuf6pcWf9C7Ef%2BE9f/wCUFj/hB/8AgoX/ANHQfBn/AMMPq3/zUUf8IP8A8FC/%2BjoPgz/4YfVv/morpfhd8Q/2VPjj9u/4Ur45%2BH3jD%2By/K/tP/hFtTsdQ%2ByeZv8vzfIZvL3eXJt3Y3bGxnBrjvij%2B0l8BPhD%2B0v4a/Zo8W/CnVHvPEvg3UvEUWt6X4EvL6ytIbO6s7dknltrWRIgftW5pHZUiCKJCpmh39EKlOrHmg013TTX3ptfiePisJi8DXdDE05U5reM4yhJXV1eMoxkrrVXirrVaalz/AIQf/goX/wBHQfBn/wAMPq3/AM1FH/CD/wDBQv8A6Og%2BDP8A4YfVv/morAsP23v2HtU%2BEem/Hyx07XJPBOqwvcWfiofBnXvsP2NIILhr%2BSb%2BztsNj5VxG4vZCtuQsuJD5Muyz4w/az/ZO%2BGvirWfCnxBtdPS7svHcXhPSrDw54Q1LWb6/wBRfQIdc%2Bzi2tNPZjL9jkeUCEzoY0UmQSM8EdnOa3/CD/8ABQv/AKOg%2BDP/AIYfVv8A5qKP%2BEH/AOChf/R0HwZ/8MPq3/zUV1Hwy8a/s3/GPQNH8S/DW%2B8M6rb6/oUes6THFaxpcTWDnas5gdVlRd3yHeqlXBRgGBA8lsP2qtEvPj/D4Cf9m7RE8BXnxIufAFl44GqobuTXoNOkvZA2n/ZNq2e%2BCa0E/wBpMhuEA8gRsJaAOy/4Qf8A4KF/9HQfBn/ww%2Brf/NRR/wAIP/wUL/6Og%2BDP/hh9W/8Amorjf2m/2qtE%2BAPj3X9B0D9m7Q/EOhfD3wZp3i34p63PqqWUuj6Pe3d5bxyWduLSUX8yJp1/PJE8luFjgXDs0irXV%2BC/iVd61%2B114r/Zn8Yfs7%2BGdK07R/CVl4g8PeJLPWVu5tUt57me2ZZrQ2cYtGV4GIxNNuUgnYeKAJ/%2BEH/4KF/9HQfBn/ww%2Brf/ADUUf8IP/wAFC/8Ao6D4M/8Ahh9W/wDmorm/g1%2B0l4b1z4T/ABM%2BJH7R/wACPDXgOf4W%2BKrvR9esNG1Qa5HKIrKzu0eGT7FbPJLIt4kYgWJiZRtRpNy58n8Qf8FLPD3hT9nXwh8Z/Hv7M3gHwPqXiTxl4v8AD2qW3xG%2BIUGlaJolzoGp39hJBNqyafMrXVw1izQwLDh8SqJD5QZwD3z/AIQf/goX/wBHQfBn/wAMPq3/AM1FH/CD/wDBQv8A6Og%2BDP8A4YfVv/morzjxh%2B2VpfgvUvg9d63%2Bzp4LsLL4vLoCab4V1fxalt41t59RkgScR6H9gZbmOxFwkt3It0piihuJCv7sB4fg3%2B2t4d%2BK978XryL4IfDi5tPhTd%2BKraXwx4S8dJq3i%2B8k0bUrmyTztG/s6IWguxaSSRH7TIcyQqA28soB6b/wg/8AwUL/AOjoPgz/AOGH1b/5qKP%2BEH/4KF/9HQfBn/ww%2Brf/ADUV4p8Kf2/H%2BNv7PvxL%2BMHwl/Zq%2BFviu%2B%2BHml2eoofCvxPS/wDD%2BoRy2r3U1qdVTSg0N9bRR5mthbSbPOt/nPmHZ2/7SX7Q/jH4Pfsm2n7Wvw3/AGWfAPiTTF8FJruq6JrnjOXS7wzzQxPbWFmIdIu1upppJRApcwDzGjHRyVAO0/4Qf/goX/0dB8Gf/DD6t/8ANRR/wg//AAUL/wCjoPgz/wCGH1b/AOaiuR%2BJv7SUPwf/AGhPAHwQ8a/BL4Zu/j69tLOy0vSfHa3HiZHkidp7pNIbTUE9hbyI4luhcDbGjSFARsrmfAX/AAUE%2BCHjHw38TPi/P4F%2BHH/CB/Dnw7q2sTDRvGlvf%2BKpreykdVluNFS0UWcVysUsluzXTO6tDujRpGWMA9U/4Qf/AIKF/wDR0HwZ/wDDD6t/81FH/CD/APBQv/o6D4M/%2BGH1b/5qK8i179u3w/4T/Zzh%2BPXiL4W/A2SG98cW3h2PUtE%2BMcF94c0VpYmdpdZ1hNLCaaY3UQMqxXC%2BdNboJMS7lreN/wDgoDo3g79l3wX%2B1hL%2Bzx8OE0XxTBLs0LU/iAlrq2s3CXDxRW/h2D%2BzHXXXukTzrQF7VrhJoDtTzDsAPZv%2BEH/4KF/9HQfBn/ww%2Brf/ADUUf8IP/wAFC/8Ao6D4M/8Ahh9W/wDmorzMftx%2BA3/bm/4Y0j%2BBfhAzjxSdEaI%2BJYh4kCf2N/af9sf2MbP/AJA%2Bf9G%2B3faf9d8vl54qmf8Agoj8GIp/jLrVz8ALFfDPwz07Qbjwrr4vLZR4xfVb%2B/0uDylkiVLSFtQsGhjuHkdJY5EnG2MqWAPWP%2BEH/wCChf8A0dB8Gf8Aww%2Brf/NRVDwP44/as8HftWeHPgj8bviP8PfE2jeJvh74h1yGbwr8PL7Rbq0utNvtEt0VnuNXvkljdNUlJUIjBokIbGQb/wAEfHGmfGb4CXnxYbQfhmk%2B27Onaj8LfGq%2BItOYRLxJHfiztCZA4ZWQR/KU%2B82eDxx/ykL%2BF/8A2Rnx5/6dvCFAHs1FFFABXm37WX7SulfsjfBHVvj14j%2BF/ivxXpOgwyXOtWng%2BGze5s7OOKSaa7cXlzboYo0jOQrlySoVGJxXpNeM/wDBQT4T/Gr4%2Bfsf%2BPPgN8BNG8LXeveN/Dd7oXneL/EdzplpZQ3VtLE1z5lvZXbyOhZSIvLUMCf3i4GQDsPj18dPD/wB8HWnifV/DWsa9e6rrdpo/h/w54ejga%2B1a/uX2xW8P2iWGFTgPIzyyxxpHE7s6hSa8n8R/wDBTX4QaH4H07xnpvwp8f6zNJpOvap4n0HSNMsnv/Cllol59h1aa/SS7RCba63Q%2BVavcSzmNzbpOqlq2PjZ8Mf2l/jN4K8JeKB4O8C6P428B%2BMdM8T6JpI8aXl1pl/OkNxbXlnNd/2ZHLAht7qdY51t5DvKO0QClD41e/sB/tW%2BGfDWoa/8Odc%2BH8/i74geGvGukfECPV9WvY7DR5Nf1iTU4rqwdLR3vRY%2BfNB5MqW32obHMtsQVIB9qabqWn6zp1vq%2Bk3sVza3cCTW1xC4ZJY2AZXUjggggg%2B9fPHwm8Vft3/HXR9e8d%2BF/jf8JNA0u3%2BIXirQ9L0q/wDg/ql/cRWul69f6ZC0twniKBZZHjs1dmWKNdzkBQAK9mt/hH4Yi%2BD9n8E3v9Yj0iz0O30pLjTNcutPvRDDGsasl1aSRTQvhB88bqevPNePfsOeHdP8K/spXvg/TLm/ls7T40%2BOLFJNS1W4vbmWH/hPNWjIluLh3mndkyGkkdncklmJJNAHR/8ACD/8FC/%2BjoPgz/4YfVv/AJqKP%2BEH/wCChf8A0dB8Gf8Aww%2Brf/NRT9f/AGoP%2BCfvhTXb3wt4p/aI%2BDmm6npt3Ja6jp2oeLtKhntZ42KSRSRvKGR1YFWVgCCCCMiqn/DX/wDwTg/6Oi%2BCP/hbaP8A/Ha5XjsCnZ1Yf%2BBx/wDkj3ocK8U1IKcMvxDTSaaoV2mnqmmqDTTTTTTaaaabTTLH/CD/APBQv/o6D4M/%2BGH1b/5qKP8AhB/%2BChf/AEdB8Gf/AAw%2Brf8AzUU/QP2oP%2BCfvivXbLwt4W/aI%2BDmpanqV3Ha6dp2n%2BLdKmnup5GCRxRxpKWd2YhVVQSSQAMmr37VfxL%2BFX7KH7N/jX9pLxT8Ll1bT/BXh641W603SNEE1xcrEudiLHGxGTjLkbUXLuVVWYa0q9Cum6c1K3Zp/k2efjsrzPK5xhjcPUpOSulUhOm2trpThBtX0uk1fS99DO/4Qf8A4KF/9HQfBn/ww%2Brf/NRR/wAIP/wUL/6Og%2BDP/hh9W/8AmoqhpP7Wf7H%2BueN5fhrpfhrX5fENt4cXXtQ0X/hTWurdafYPHdvFLdRtp4a1aX7DcrFHMEkmeMRxq7uis7TP2nP2YPE0nh3/AIRXTLBDrPjqbwre2HiXwlqOj6jY30ejXWrmFrK5sBMkptbdZlW4W3jeGTzFlZjFHNqcJd/4Qf8A4KF/9HQfBn/ww%2Brf/NRR/wAIP/wUL/6Og%2BDP/hh9W/8Amoqh8FP2v/2F/wBoLRpvEfw28TaX/Z0Xh/T9dS/8ReEbvRYLnS75mW1vYJNRtoFubeR1KCWIuofCEhiBV39o34iN8K9f8H/DT4QfADw14u8Z%2BNr28TStL1rVV0ixgtbO1a4ubme6SzunQD9zEqrC5aS4jzsQO6gDv%2BEH/wCChf8A0dB8Gf8Aww%2Brf/NRR/wg/wDwUL/6Og%2BDP/hh9W/%2Baiue1/8Aak%2BFsH7Fvhr9r/wn8FLK8Hi8eHbfRvDuqGCz8i/1i/tNPggu7kRyLbxxXN4izSqsm1Y5CiyHarcVa/tuL4ivrL4WeCf2ZvAV58Sk8XeINA8RaNfeOVttC06fR7W3u7nZqg015J2aC8tHSM2kbfNN5nlCBzQB6t/wg/8AwUL/AOjoPgz/AOGH1b/5qKP%2BEH/4KF/9HQfBn/ww%2Brf/ADUV5d4t/bG1e7%2BD/wAJ/wBoz4F/steAfFPgn4uSeFoNBGreNZNO1kT6zNEpRbSLSLmCRbaCRriRvtK/Jbz4A2AtT0H/AIKHfCW8/aj8QfADxH8GfB9hY%2BHLzX4tYkg8Rx3HiHR7XSrczyarqOjCzU2em3CgfZ7kXEhl%2B0WvyDzjsAPXf%2BEH/wCChf8A0dB8Gf8Aww%2Brf/NRR/wg/wDwUL/6Og%2BDP/hh9W/%2BaisX9iv49%2BGf2u/CupeOf%2BFcfDGx0%2BIWrWVl4W8dW%2Bv6jZmZHkNtq0EVnFHpt5GnlboEluBuZwJMIGf2vwYNmhmBSdkN9dxRAnO1EuZFVfoFAA9hQB5d/wAIP/wUL/6Og%2BDP/hh9W/8Amoo/4Qf/AIKF/wDR0HwZ/wDDD6t/81FezUUAeM/8IP8A8FC/%2BjoPgz/4YfVv/moo/wCEH/4KF/8AR0HwZ/8ADD6t/wDNRXs1FAHjP/CD/wDBQv8A6Og%2BDP8A4YfVv/moo/4Qf/goX/0dB8Gf/DD6t/8ANRXs1FAHjP8Awg//AAUL/wCjoPgz/wCGH1b/AOaij/hB/wDgoX/0dB8Gf/DD6t/81FezUUAeM/8ACD/8FC/%2BjoPgz/4YfVv/AJqKP%2BEH/wCChf8A0dB8Gf8Aww%2Brf/NRXs1FAHjP/CD/APBQv/o6D4M/%2BGH1b/5qKP8AhB/%2BChf/AEdB8Gf/AAw%2Brf8AzUV7NRQB4z/wg/8AwUL/AOjoPgz/AOGH1b/5qKP%2BEH/4KF/9HQfBn/ww%2Brf/ADUV7NRQB4z/AMIP/wAFC/8Ao6D4M/8Ahh9W/wDmoo/4Qf8A4KF/9HQfBn/ww%2Brf/NRXs1VNV1/QtCi8/XNatLJMZ33dysY/NiKTaSuyoQnUlyxTb7LX8rnkn/CD/wDBQv8A6Og%2BDP8A4YfVv/moo/4Qf/goX/0dB8Gf/DD6t/8ANRXR%2BL/2uf2VPAERm8cftLeAdJC9tQ8X2UTH2AaUEn2HNeWeJP8AgsN/wTU8KyvFqf7WOhSlD8x02yvLwH6G3hcH8K462ZZdh/4taEfWUV/7cfS5fwTxnm6vgcsxFVd4UK0l96p2/E7D/hB/%2BChf/R0HwZ/8MPq3/wA1FH/CD/8ABQv/AKOg%2BDP/AIYfVv8A5qK8x/4fY/sD3/Pg/wAXeLfEIP3Dovw%2B1R9/03wJR/w95%2BGup/L4F/Y9/aJ8Tk/c/sP4UTOD%2BMkqcVzf27k/SvF%2Bl5f%2Bkxkez/xCnxIX8TKq0P8Ar4oUvv8Aa1aVvnY9O/4Qf/goX/0dB8Gf/DD6t/8ANRR/wg//AAUL/wCjoPgz/wCGH1b/AOaivMf%2BHlXxw1P5vDP/AAS2%2BO0qn7n9q6TbWRP1DynFB/bd/wCChfiD5PAf/BJPxC%2Bf%2BWviP4oaXpwX3KurE/QUf23l7%2BFyfpTqP/2xB/xDHi6P8WNCn/jxeDjb1vipHp3/AAg//BQv/o6D4M/%2BGH1b/wCairf7K3xG%2BNPjDWPih4E%2BOmv%2BF9W1TwD8QotDs9V8J%2BGrnSbe6tZdB0fU1Z7e4vbxlkWTUZULCXaVjQ7VOc%2BTD46/8FgdQ%2Be0/YQ%2BHWnhuQl/8T1lK%2BxMSYP4V0P/AATr1b4za5rfx51X9oLwlo%2BheL5fjNB/a%2BlaBftdWkGPCPhsRbJWALZhEbH0ZmHaujDY%2BnipuMYTWl7yhKK%2B99fI8fO%2BE8ZkOFVeticNUu%2BXlo4mlWmtG7uNO9o6Wcr2vZdT6ToooruPlwooooAKKKKACiiigAooooAKKKKACiiigAooooAKKKKACiiigDlvjb4IsfiN8KNd8G6lr%2BvaXBd2JL33hnX7rS76PYRIPKurSSOaEkoFLRurFSwyM15D%2Bzb4j0bxl/wSw%2BGfjn9oH4taxp1lefA/w/qvjLxpL4suLC9VP7Ktp7q7l1FJFnidsOzziRZPmY7gTmvbviD8Ovh98WvB198O/ip4E0bxN4f1SNY9S0LxBpcV7Z3aBg4WWGZWSQBlVgGB5UHqK47Sf2Mv2PtA%2BH1z8JNC/ZR%2BGtl4UvLJrO88M2ngXT49PntmmEzQvbLCI2jMqrIUK4LqGxkZoA5X/gn9p/xCj%2BEmt%2BI/FNx4tTw3r3i%2B51H4aaV491a7vtb07w68FukCXk1673JeWeO6u0juHaaGK8ihk2tEUXzT4rfErxHf/wDBYz4EeE9X%2BFPiDQbSD4a/Ee00/W9VudOe11xTL4ZmZ7Vba7lnRU8gbhcxQMd67Q2G2/THwo%2BCfwa%2BA/h2bwf8DvhJ4Y8GaTcXrXlxpfhTQbfTraW4ZERpmjt0RWkKRxqXIyQijOAK%2BXv2wtXOl/8ABY39jOAthb7wx8ULdj/24aM4H5oK5sXP2dHm84/jKK/U9zh7D/W8z9l/07rP/wABoVpf%2B2n2RRRRXSeGFFFFABRRRQAUUUUAFFFFABRRRQAVyni7wD4E%2BKF5rXgb4l%2BCtJ8RaJfaVYfbdH13TYru1uNlxcSJvilVkfa6K4yDhlBHIFdXXn3xo%2BOfws/Zr0HxJ8a/jX4p/sXwzoulaZ/aep/YZ7nyfOu5oI/3cCPI2ZZY1%2BVTjdk4AJGdaVKNKUqtuVJ3va1ut76W730GsU8C/rKqezcPe5k3Fxtrzcyacbb3TTW90Y//AAwP%2Bwr/ANGWfCX/AMNzpn/xij/hgf8AYV/6Ms%2BEv/hudM/%2BMV5J/wAPzf8Agll/0dF/5ZOuf/IVH/D83/gll/0dF/5ZOuf/ACFXh/XuFf8An5Q/8p/5Gn/EUsT/AND2f/hZV/8Amg%2Bh/hd8A/gV8Dvt3/Clfgt4S8H/ANqeV/af/CLeHLXT/tfl7/L83yI18zb5km3dnbvbGMmuO%2BN/7NXi34l/G7wz8aPBPxM07Q5dJ8G674V1vT9U8Nyagt/pupzadPIYXS7tzbXEb6dHtkYTIVlcGMnawk/Zc/bn/ZZ/bR/t3/hmj4o/8JL/AMI19l/tr/iSX1n9m%2B0eb5P/AB9QRb93kS/dzjbzjIzY%2BOX7Xnwq/Z21nVNJ%2BJ1tqtqml/DbWPG322G2jeK7sNMeBb2GH94Ge5T7TbERlQGFwm1idwX2MLPC1KClhnFw6ctuXfW1tN/xM5ZrLOn9clXddz%2B25uo5W0%2BOUpt2tbWTta2lrHgf7Sn/AASPb9oL4BeAvgNL8YvDhtPBvwcufAMkvi34aJrkCtLaWluNa0%2B2kvY47DUYxanZM32jakrKAOWPonhL9gX/AIRf44ad8Zn%2BLH2k2HxRi8Y/2cdC2%2BYU8Cx%2BE/svmeecZ2fa/M2n73k7P%2BWtaMX/AAUM%2BDNr%2B1doX7HPirRNQ0Pxf4kjA0iC/wBe0KV5Lj%2BzX1JreSzttRlv4CsEM/72W2SAvCVWVt8Xmec/AD/gp8fF/wAG/A/jD4k%2BC77V/F/i/wCE3w51%2B38HeCNCija/1jxLbahMbazmvNQCGNf7PuJCtwYVt4oCzXE%2B8iLoEe6/sx/AnxF%2Bzl8MtF%2BEn/Cd2Ws6TpFrdjzP7De3uJbia9muPM3/AGh1WNUl8vy9hJK7t4B2DhbD9hzW7P4/w%2BPX%2BMUD%2BArP4k3Pj%2By8Djw0Rdx69Pp0llJu1D7Ttaz3zzXYg%2BzCQXDg%2BeY1EVbH7GH7VOu/tJ%2BA7zxJ438D3%2Bg6kfHvizRrTSzoc6/Y7fSdXmsVjvJUaaCK52om797smcSNDuRTjifiv%2B2N8bPCPxt8ST%2BGNN8LH4d%2BAPiX4O8DeKrC%2B025fWNRvtek01PtdtcrcrDbxWw1rT3MTwTNMEuAHjITIBo/Hj9hXx78dde1LVb747aXplv4%2B8BaX4Q%2BMlja%2BCpHTX9Nsrq7uANPLX2dLeQajqELNJ9s/dToAN8Suem079nf48Wn7cN9%2B1Fc/G/wjJ4UvfCUHh1vBifDy6TUEtYZJ7iN/wC0jqpjMv2m4ZmP2PaYlEYVW/e1i/teftE/tAeA/iBB8Lv2cLXwiup6f8Ndd8b6zceMtNubqG6gsJLWKHTYRb3EBgkuHuJM3TGVYBCP3Exkwvldr/wUw%2BK3ib9qDw34H8L%2BHdHtfCHiDX/DFjZWWo%2BEdRkkubPVtGh1A3cmvx3A03T7qN5miTSp4murgQo0ZxdwkAHf/Dz9gLxfqum/Ebwt%2B1l8YNE8a6J49%2BIFp4zgtfAfh/WPB93pWq26WaxOl5b65PMVQ2FrIgQxssisxZgVVcLwH/wTC8R/A3w9okfwF/aNlh1nRfGHjrV0ufiPpeo%2BK7Ge18S6k95JA1vd6qswnt41giFytwBMxvJpYme%2BnzyfgT/gpb8XfjB8Cfil8afhDqXhnV9ds/hZ4p8UfCT4WL8MNdGoalJp29LQ/b2uVh1sNJ9njubfT4laCa7jgMpYBpO00/8AbD%2BL3iXwd4R8BfDr4s%2BCNe%2BIHjP4ry%2BEH1XU/hJrWgW/hbydDu9alF/od9qIvmmNtZN5Ya4gDi9t5ANilnANv/hhP4jW/wAKfht%2BzHpv7QOmJ8L/AIdweE1hs7jwS8niK7k0GW0nhYamL9YIBLLZRb9tkXVHlVHTcrI/4s/sL/EH9orxdrWrfHP49aYNNl8D%2BKfC3heLwH4Lk0bUNOtdcjSGaa4vJb%2B6%2B0yxRxoU8uO3QyjzWQkIE4b4jfte/tjaj%2Byf4c%2BPHwh8RfDPSvE9/wCLV8CT%2BEde8Cahqkep%2BJ18RSaFK9tcQ6vatBZiWKW4w8crpBE7s52nHTyftjfG/wD4X8ZI9M8K/wDCs/8Ahcp%2BGi2Dabc/219s/szz/wC1DdfafJ8n7b/ov2X7Pu8r9/5%2Bf3NAFiH9h/46nwX8Uri8/aI8Gf8ACcfEvwVpPhL%2B2bH4VTW2i6bpdgt6iMNMTVvMlumTUbpTN9qRAFtgItkGx%2Blh/ZG8eeJ/gZ8Jvgt8XvjBpGrR/DzxRpGq%2BIZdC8IS6fbeI4dK3y6dbiCW%2BuGtTHdxadcu5kmEjWTAJGJR5Xmfjj9sv9qv4KH4q%2BEfGMvw%2B8a6p4D8MeHdSn8R%2BFfC2o2GneHJ9T1B7aaLUYHvrqS4W0tANScxSwyG2U7o4RJFI3JXH/BUP4l6r4CktfAPjDwZ4jvNL%2BNE3gjVPiR4N%2BG%2BseI9Nv7ceG49divNO0HTr5768DfaIrVzBczJGYZrgkxDgA%2BivjN%2Bzr8X/jd8TNCufEfxp0C08AeH/GGk%2BJLHw9p/geVda%2B12DJNHEdVa/aNYXnQmRVs1doXeHzNrsx8kH/BJPwrrXhzV/hH43%2BJtlP8AD3/hCfGfhfwnoGieEVsb/TrLxJcpcXn2u8a5lW%2BaJo1EO2CAcB5hM4Div4r/AG6f2i9H%2BAXwT/aQtU8JCD4i2Hh1dX8H2ngfVNTge7vbu2iuT/wkVteCw0eJUulMX22Jw8kbRrJIzYX1fwp8d/ixon7YPxJ%2BEPxj8Q%2BDIvBPh74e6V4t0G/sdLuLO50%2B2uLvU7edb64mupIpgq2Ak3pFAFDMDuxmgDh5P%2BCfHxcvfEZ%2BM2oftHeG1%2BI8HjDR9bsL7T/hpJB4d2abpd9pkNvcaT/abSzkw6lcSGUXiMssVoyBFtlQy63%2BwF8Xrv8AZau/2P8AQv2kPD1n4T8UWOuxePbmf4bPLfzzaxqN5fXsulOupJDpiq17KlvHJDdiARw4L7Du5Hw//wAFEP2iPF9j4%2Bay%2BHvhzRrm68e%2BD9D%2BEsGsaddmS3sNeeJYb7VovPRpJFhZ7z7NH9nZQyWzMrhpqy/iH/wUb%2BPvgayg8FeKPEvww8Ja3ouqeMNN8R%2BN/Enh%2B/fQ9X1HR309rDTLG3S%2BSW3u9RttQ85I2uLh4zZ3Eccd0RuAB6drX/BPfWfEfxlufEmu/GuC48C3XxJfxzJ4cHhqRNb/ALTbSTphhGsreAraeWSQi2wmC/uhP5fy1zL/APBHD4DaUPiDpngzxx4pttG8X%2BBPDPh7QtC8Q%2BKtY1%2B10KTRL%2B4v7Sby9S1CZLmETPaBbYqgijt5kjdRdS1Ndf8ABR7xV8QvGPwHT4E%2BC9Mfw78QZ9Bn%2BIV9rSyyyaPHrOkz6hYadbmJ0X7Z5cXnys%2B4RQmDMZ%2B1xunR/si/tT/F34rfHDxh8NPjt4n0TQ7%2Bx8ReKoPDHgKT4T63ol/caTpuvzWFpqcWqX929rq8UlmtpNI1nAFVr6IlkBVXAOx%2BD3wA8R/BHwR8T/Enjzx7p/iLxN8QtdufEfiO90Tw82k6elwNKs9OSO2tHuLl4l8jT4GYvPI7ytI5YBlRW%2BOP%2BUhfwv8A%2ByM%2BPP8A07eEK9S8c/8AIk6x/wBgq4/9FtXlvjj/AJSF/C//ALIz48/9O3hCgD2aiiigAooooAKKKKACvBf2P/8Ak3rV/wDsvfjn/wBWBqte9V4L%2Bx//AMm9av8A9l78c/8AqwNVoA6zX/2Jv2MvFeu3vinxT%2ByP8MdS1PUruS61HUdQ8A6dNPdTyMXklkkeEs7sxLMzEkkkk5NVP%2BGB/wBhX/oyz4S/%2BG50z/4xXnfj/wD4LKf8E3Phf471v4aeOv2jvsOt%2BHdXudM1iy/4RDWJfs91bytFLHvjtGR9row3KxU4yCRzWR/w/N/4JZf9HRf%2BWTrn/wAhV4M8bwwptSnRvd3v7O9%2Bt9N73uaf8RNxND90s8nHl0t9bqq1tLW%2BsK1rWtZWtaytZezaB%2BxN%2Bxl4U12y8U%2BFv2R/hjpup6bdx3Wnajp/gHToZ7WeNg8csciQhkdWAZWUgggEHIrW/aa%2BCdl%2B0n%2Bzp47/AGe9Q1%2BXSYfG/hHUNDfVYIBK9n9qt3hEwQkByhcNtJAbbjIzmvGvAP8AwWU/4JufFDx3ovw08C/tHfbtb8RavbaZo9l/wiGsRfaLq4lWKKPfJaKibndRuZgozkkDmvcfjr8YfDn7Pvwe8R/G/wAZaZqN1o3hXSpdT1lNKhSSeKziG6eYK7oGWOMPKwznbG20M2FPoYGtltaEng5QaT15OW1/PlS1t3JlxJU4k/ezxrxPJpd1ZVeW%2BtryqVLX3smr726nkfiL9ib4heP9B%2BLsvj34%2B2sXiT4t/DvTfDN9rXhPwrNpsOmyWY1ELcxRSX08jI4vwGiMwOImxIPMGzhvgj/wSmi%2BEXiKHxND8SfCFht%2BLg8cvoPgL4Xx6BpEDDwjeeHDZ21ql5KYQ32oXbSs8jM6MpHzh09F%2BM//AAUQ%2BDvwW0vxdrmqeG9T1Cx8FeLbPw3rGojxBoOlWj39xpsWohIbjV9Ss4ZNkE8AYB9%2B%2BYKivskKcja/8FHdJ8U%2BPo7/AME3FpceAtc8GfCTXfCOqxaFJPeXX/CYeINW00rMj3cKxxiKzsyrAF4GkmdkucLBXcSdX8Df2KPEPwCj8CXfhH4uWVzf%2BBvgbpXw6t5dQ8Lu0N39jkgY3zRpdqy71hYCEOdhcHzG27W6z9o34BeOPip4g8H/ABM%2BD/xP07wj4z8E3t4%2BlaprXhp9XsZ7W8tWt7m2ntUurV3B/cyqyzIVkt4870Lo3mHg3/go0fiZ%2B0V4P8EeEPg/4msvAPiPwV4s1%2B08WapoSzt4hh0m406GOfS47K5mnMb/AGqVvKnt0nmDQNChBOfSf2pPjR8QPh7o3gXwt8HE0iHxR8SfG9v4d0LUPE%2Blz3FlpubK81Ce5ntY5reWbba2FwFiEsRMjICyjNAFPw7%2ByxrHgL9l21/ZW8GeKfC%2BoaHpngew0Kx/4TvwS2sR3k8e4XdzqEC3kEd3HcJtzAgh2OZG3urqied2f/BNeLw3%2Bzy/wX8I3vwke81bxlN4k8Rz%2BJvgfDqOjJdvAlvEdM0kX8UenG3ghtooC8lxtSD5xKzs56HSv2uvim/7BPjX9o9/h3Zax448C/8ACV6ZfaJo8NwLPUNT0PUr7TZZoYwZJ1t5ZLIziIGSVY32Zdxk8n8Ef2zPiP8AHrwf8TNH8FftNfCC6v8A4YahZXeofFLS/A17feGdR0efTzdM0dsmsqySwyJPG8i3s0Y8g5UOzRxAHpHhX9ijwn4Kvfgbonh/xXcf8In8CdAubXw/oF5aiWa91A6fHptrqMtxuA3xWcmooV8s%2BY9%2BX3J5e1%2BKh/4JxXerfENX%2BIHxjtNY8BWfjTxb4o0zw5H4UMGrtd%2BIbbUbe8t7vVPtbC5s449Uu1ihW2iZRHaBpHFsufMZ/wDgpN8fdF%2BF/wAJNN%2BKPiLwV4H8ZeM/hbd/EDxjrl18K9d1mw0fTPPhFtE2mWN8Z7QLFcq11dz3fkWzQENu85NnuXxM%2BOPx5%2BHH7Snw78NWfirwH4g8I/EnxI2naT4V03w/drrkFhHpktzcaub/AO2vBJBFNHGGX7Ii7bmFfO8x0WQAd%2ByL%2Bxh4h/Zv8TyeLPGXxV0vxHc2nw/0TwRoEeh%2BDxo0Vvo%2BlPdPbm5T7TP9puibpw0q%2BTEAuI4Itz7vZ/B//IJm/wCwrff%2BlctalZfg/wD5BM3/AGFb7/0rloA1KKKKACiiigAoqDUdS07R7KTU9Wv4LW2hXdNcXMoREHqWYgAfWvDviv8A8FPP2A/gv5kXjX9qfwpJcxHa9joV8dUuA390xWYlZW9iBXPiMXhcLHmr1IwXm0vzaPXynIM%2Bz%2Bt7HLMJVry7U6c6j%2BfJGSXzaPeKK%2BRx/wAFQvHvxN%2BT9k//AIJ8fF3x1G3/AB76xrenxeHtLuM9Cl1dk5HqSgxSjXv%2BC0fxWOdM8BfBX4UWMn3hrOqXeualD/u/Z8W7Ee9cP9s4Sf8AAjOp/hhJr/wJqEfxZ9V/xDXP8L/yNK2GwfdV8TRjNf8AcKnKvVv5OEX00eh9b1l%2BLfHHgrwBpTa7478YaXolin3rzV9Qjtoh9XkYD9a%2BXD%2BwH%2B2X8S/%2BTh/%2BCpfj6a3k/wBbp3w00Kz8NiMf3FniDuw9yMmtTwl/wRw/YK0PVV8S%2BNfhlqfjzWR9/WPH/iW81OWX/eR5BE3/AH7o%2Bt5rV/hYZR85zS/8lgpP8Q/sDgDL9cdnMqz/AJcLhqkv/KmJlQh81Tfo0aXxC/4K7f8ABOv4cXp0m%2B/ab0fWL0tths/Cltcau0zf3VazjkTP1YCuZP8AwVP8Q%2BO/3H7Of/BPz44%2BMmf/AFGo6h4YXRtNl9MXVy5x%2BKcV9JfDz4MfB/4RWQ034U/Cnw34Ztwu3ydA0O3s1x9IkXNdLR9Xzir8deMP8EL/AIzk/wD0kP7Y8N8D/uuU1sQ11xGK5U/WnhaUPu9q/U%2BSV%2BKv/BZj4j/vvCH7K3wf%2BHMUn3Y/Hvja51aWMep/s1QpPtQf2bP%2BCsHxH/d/Ej/goT4W8GWr/wCvs/h38OIp3cf3VuL1g8f%2B8Bmvraij%2ByYz/i16s/8At9xX3QUfzD/iINbDf8i/K8FQ7NYaNWS/7exNSu2/NxufJK/8EkPB/ij/AEn43ftk/HrxxPJzPDqfxEkt7Q%2ByQQIuxfYMau6T/wAEUv8Agmnp0v2y%2B/Z0/tS6Y5lu9Y8VapcvIfVt9zt/SvqmimsjydO7oRk/7y5n98nIifin4juLjTzWtTj2pSVGPpy0IUVb5HhvhH/gmf8A8E/vBEy3GhfsgeAmdfuvqPh%2BK9Kn1BuA%2BD716n4a%2BFXwv8GRJB4P%2BG%2BgaSkf%2BrTTdHggC/QIoxW/RXZRweDw/wDCpxj6RivySPm8w4k4jzd3x2NrVv8AHVqz/CVSS/AKKKK6TxQooooAK8Z/Zf8A%2BS3/ALR3/ZZrH/1CvC9ezV4z%2By//AMlv/aO/7LNY/wDqFeF6APZqKKKACiiigAooooAKKKKACiiigAooooAKKKKACiiigAooooAKKKKACiiigAr4T/4KMan/AGJ/wVn/AGINT3bc3Hjm1z/12i0WLH/j1fdlfnl/wV01M6L/AMFJP2HNU3YH/Cc6vbE%2B01/4ei/9mrzc3lyZfOXZx/8AS6Z9r4d0PrXGGHo/zxrr78Li/wDI/Q2iiivSPigooooAKKKKACiiigAooooAKKKKACsq0/5HbUP%2BwVZ/%2BjLmtWqWpeHtL1W4W8uVnSZU2CW2u5YWK5ztJjZSRnnB9aALtFZf/CH6T/z96r/4PLv/AOO0f8IfpP8Az96r/wCDy7/%2BO0AaleU/tQfsefCr9rWXwVL8S7/WbU%2BB/F9tr1l/Yt3HD/aAiO59Pu98b%2BbZTMsZlhG0v5MfzAAg%2Bhf8IfpP/P3qv/g8u/8A47R/wh%2Bk/wDP3qv/AIPLv/47QB4wP%2BCfHw4T9oSx%2BP0PxZ8dRpp3xEuPHNp4LjvbAaOuuT6RNpM1y3%2Bh/a5A1vPIRG9wyI%2BCgRcqcbw7/wAEu/gh4N8GaB4Y8HfEfxzpd/4T8G%2BDPD3hbxLbX9i1/pa%2BGY76KwvI/MtGge4ki1G6jnEsTwyJJtESDOfoD/hD9J/5%2B9V/8Hl3/wDHaP8AhD9J/wCfvVf/AAeXf/x2gDhf2c/2YdI/Zp8LJ4R8J/FTxbrFrJr%2Bua3q7%2BIp7KeXVb/Vb5r6eeZ47WMrsmkl8tIfLQLKVZXCptx/Hf7EPw48ffGw/GPUPHPiq0trzW9G1vxD4Ksbq1Gj67qukukmm31yr27XAlgeG1YCGeJHNnb%2BYknlivUv%2BEP0n/n71X/weXf/AMdo/wCEP0n/AJ%2B9V/8AB5d//HaAPKvjx%2BxP4d/aA%2Bx3viL42%2BPNH1WDSNa0S91zw5c6db3Wo6Hqk0ct1pM26ydFgAgt0jmiSO7jEAZbgO8ryUJ/%2BCe/wl/4WY3jTSfHPi3TfD8/ivRvE9/8OLC5sl0O71jSrWztrC8YNam7QxJp9gRFFcpCz2cbNGxLl/ZP%2BEP0n/n71X/weXf/AMdo/wCEP0n/AJ%2B9V/8AB5d//HaAPGvBP7AXgr4deI5PEng341ePLJtP0XV9K8BWiy6W0Hgm31K6huroacjWB8wmS3g2fbTdiNIxGgVGZWjf/gn54Nn0i51G8%2BOnxAn8dXHjiDxZH8UpJtKGtW2pw6c2lxtFEtgNPWIae81qYfshRknlZlMjmSvaf%2BEP0n/n71X/AMHl3/8AHaP%2BEP0n/n71X/weXf8A8doA838L/sX/AAn8KaX8LtEsdU12e0%2BE%2BsXmsaLBeXscg1LVbq1u7ebUL4%2BXmac/b7yXKlF824Z9vCBacv7D3w6k%2BPTfHJPH3itIG8UnxSPBC3Vp/Yq%2BIP7N/s3%2B1Qhtjced9m/5ZGc23m/v/J8795Xqn/CH6T/z96r/AODy7/8AjtH/AAh%2Bk/8AP3qv/g8u/wD47QB43%2Bz3%2Bw3f/s3/AA68QfDvwh%2B198UtTGvzXF5Jreu23hyXUbfUp5jLNqXnR6PH9puXY4JuhOm1VQIFVQIpf%2BCfng2PTtO1bQ/jp8QNM8c2Piy88R3HxQtZ9LfWdRv7qyWwnNxHNYSWDxtaRW8CxraKkaWsHlhDGDXtP/CH6T/z96r/AODy7/8AjtH/AAh%2Bk/8AP3qv/g8u/wD47QB4rf8A/BPjwRd/Dnw98DbX44fEG0%2BHeiaZZWeoeAoLvTWs9eFvcfaGlvLiSxa%2B3zyYM3kXMKuARtAZg2tcfsX6Tqv7SviL9orxZ8cfGOu2nirwqnhrXPhxrOnaDN4eutJT7UUs3j/swXbxiS9uZDuuSXMm1y8YEY9U/wCEP0n/AJ%2B9V/8AB5d//HaP%2BEP0n/n71X/weXf/AMdoA8Csv%2BCUf7GPhWfxrqHwi%2BGVh8Pr7xne6HfC/wDAWh6bpkmiXekzR3FlPZCO12KVuIo5nSZZYpGBDoyMyHoG/YesbX4Rt8IfDn7SvxK0aDVNT1S/8a63ptxpK6j4rm1CQvdNdzPp7C3J3FEaxW1aFNqxGMIgX13/AIQ/Sf8An71X/wAHl3/8do/4Q/Sf%2BfvVf/B5d/8Ax2gDxn4hf8Ex/wBhb4j%2BMPB/xA1X9mbwVa674K1vTdR0zWrPwjp32y4FhaG0tLW4uJLd5ZYIohEFTcCv2aHDARgV03hL9lqDR/jhB8evHPxv8a%2BNdU0ux1Cy8L2HiQ6ZHZ6DBeywvcJbpYWVs8pIt4IxJcvPIqIQGBeQv6B/wh%2Bk/wDP3qv/AIPLv/47R/wh%2Bk/8/eq/%2BDy7/wDjtACeOf8AkSdY/wCwXcf%2Bi2ry7xx/ykL%2BF/8A2Rnx5/6dvCFeonwZob4Wdr6ZMgmK41a5kRvZlaQqw9iCK8u8cf8AKQv4X/8AZGfHn/p28IUAezUUUUAFcd8ePjZ4a/Z%2B%2BHUvxE8TaRqeqbtSsdM0zRdEhjkvdU1C9uorS0tIFlkjj8ySeaNd0jpGgJd3RFZh2NeX/tb/AAb8Z/Gf4YWFj8NbzTIvE3hrxhoviXQI9bnkisrq40%2B/huTazyRRyPEk0aSQ%2BaschiMgkCSbNjAGbD%2B2x8Ml/Z31X9oXVvCfiXT10TX28P6r4PurO3bWINb/ALQTTo9M2RTvA00t1LDHG6zGBxPHIJfLbfWHe/8ABQXwZbaXZabb/A7x5c%2BN7vxzP4Sk%2BGUX9jrrFrqkOl/2u8cs0morp4X%2Bzmiug4uyGSaMLlyUGX4O/Zg%2BK6/An4i%2BB/i58M/AXifU/iNrmoeJtV0UeM7%2B309NRnuE8ixS6TT/AD4o4Le3tCuoJGJvtCNItvFhceRn/gl18QLbwKLjWvhv8NvHMmvfFu78aeNvhN8QvF%2Bp6poF%2BX0KHR7VZNWvrG7ur6e3W1hufNubVhJLLLhYtkLIAfYvwQ%2BMHg/9oH4PeGPjh8P2ujonizQ7bVdL%2B3W/lTCCeMSKHTJ2sAcHBIyOCRgny39j/wD5N61f/svXjn/1YGq10/wD/Z41fwH%2ByL4X/Zs%2BKvjfUdUu9L8L2%2Bmarq%2Bg67fWE2UUfJb3cMqXUaxgCNJPMWUogLHJNcz/AME9/B%2BiaL%2BzHqPgiE3tzYWXxa%2BIVrC2qapcXty6R%2BNNaCtJc3DvNNJwCZZHaRm%2BYsTzQB71RWV/wh%2Bk/wDP3qn/AIPLv/47S/8ACH6T/wA/eq/%2BDy7/APjtAGpVTXtC0fxRod74Z8RabFeafqNpJa31ncJujnhkUo8bDurKSCPQ1W/4Q/Sf%2BfvVf/B5d/8Ax2j/AIQ/Sf8An71X/wAHl3/8doA%2BfvBP/BMH4UfDT4R%2BA/hh8PPjV8R9K1D4fa3qeqaX45XU9PudbvJb9JoroXUlzZSQSbopvKV1hSWNIYhG6bSTY8Df8ExPgH8P/DXh7wroni3xhJbeGvDXw80Owa71K2eR7bwbqt3qmltI32cbpJZ7yVbhuA6KgjELAu3vP/CH6T/z96r/AODy7/8AjtH/AAh%2Bk/8AP3qv/g8u/wD47QB4h8Nv%2BCd3gX4U/ETS/iB4S%2BOvxEVfC/hvXdC8B6FcXmmyWHhaz1Wa2mmS0Q2O%2BUxPaQeSbp7jYqbDuT5a9I%2BOfwD0T47%2BDdL8Oav4013RNU0DWrXWPD3izQHtV1HTNQgDKtzEJ4Jbdi0ck0TpJC8bxzSKUweOn/4Q/Sf%2BfvVf/B5d/wDx2j/hD9J/5%2B9V/wDB5d//AB2gDi/ht%2BzbYfCL4YQ/Cv4e/FXxVYWqadq63Gok2E15dapqV015ca1I8toym9%2B0y3EwAUWxe5k3QOBGE5m5/YV8Aa78FfiD8HfHfxP8ZeI5viq23x/4u1S5sY9U1a38iK2Nofs1pFbQW5tYvs/lwwRjZLKwxLI8p9a/4Q/Sf%2BfvVf8AweXf/wAdo/4Q/Sf%2BfvVf/B5d/wDx2gDzb9ov9jrwb%2B0TfW2ry/EXxV4Ovo/DOoeG9QvvBs1lFJqOi3phNzp8v2q1nCxs0EZWWIRzxEN5cqb33ZXhD9hrRfAP7Sl1%2B0h4Q%2BP/AI9s2uNI0/Ro/BzxaLPpNnpNnCEi062abTXvbe3ZwZ5FjulaSVtzMQqKvr3/AAh%2Bk/8AP3qv/g8u/wD47R/wh%2Bk/8/eq/wDg8u//AI7QBqVleD/%2BQTN/2FL7/wBK5axPiHrXwm%2BEvhW48cfFH4hjw9o9oM3Gp6z4sntoE9AXkmAyew6ntXzYP%2BCk3jD42Tt4I/4Jrfsvaz8R4beRoZfHniDfo/hq2YE7is84Et2wbO5FCsc5BbNcWKzDB4OSjUl7z2ik5SfpFXfzsl5n02Q8HcRcR0p18HRtRh8daco0qMP8dao400/7qlKb6QZ9h14t%2B0N/wUO/Y4/Zd1D/AIR/4vfHHS7fWmfYnh3S1k1DUS56Kba2V5I89AXCg%2BteVN%2BxR%2B3f%2B0avm/tk/tz3Og6Rcf8AHz4F%2BCVidLtyp6xtqEwNzKhHylGXGM4PNe0fs5/sQ/srfsoWflfAr4MaRo94yFbjW3iNxqNxn73mXUxaVgTk7d23k4Arl%2BsZriv4NJU4/wA1TV/KEX/6VNeh739j8AZEr5lj5Y2qv%2BXeEXJTv/exVeCTX/XnDyv0keON/wAFLPjZ8Uh9n/ZQ/wCCcXxW8UeZxbax40hh8NabJn/lok1yzF0HXopOMcUn/Crv%2BCv3x4%2Bf4hftE/Dz4L6VN107wB4efWdS8vuklxeERo/%2B3F06gV9dUU/7Mr1v95xE5eUbU1/5J73/AJOT/rvleXaZLk%2BGovpOqp4up63xD9kn6Yd/kfJumf8ABHX9mnxJfx6/%2B0148%2BIvxk1RG3rcfELxrdSwRP8A9MoIGiRF9EO4AcV7l8Kf2Uv2ZfgZ5b/B/wCAPg/w5NGPlu9J8P28NwfdpgnmMfcsTXoFFb4fK8uwsualSipd7Xl/4E%2BaX4nkZtx1xlntH2GOzCrOn/z753Cml2VKn7Kkl5Knb8wooorvPlAooooAKKKKACiimXFxBaQPc3U6RRxqWkkkYKqgdSSegoAfRXlvjX9uD9jT4c3Ell44/ar%2BHmm3MX%2Bss7nxhZicf9shJv8A0rhX/wCCuH/BN1L1rA/tceF96nBYGcp%2BDiPafwNcVTMsupStOtBPzlH/AOSPOq5vlNCXLUxFNPznD/5I%2BjKK%2Bfz/AMFU/wDgnWIhMf2v/BeD2Gpc/ljNLp//AAVQ/wCCdmpz/Z7b9r/wUrZxm41TyV/76kAH61P9q5Xf%2BPD/AMDj/wDJE/21k17fWaf/AIMh/wDJHv8ARXhXiH/gpz/wT28M2Qv9S/bF8ASxsuQun%2BIYrt/%2B%2BIC7D6Yrg7v/AILbf8E6HuXsvCvxf1fxFcIcNDoHgjVZzn0BNsqn8DU1M4ymk7TxEF/29H9GyKufZHRdp4qmn/jj%2BjZ9Y0V8lD/gsX8Bbj59I/Z8%2BOWoIfuSWXwsumVx6jcwo/4fF/AWz%2BbxL%2Bz58ctGj/566p8LLpFx6/IzcVn/AG5lH/P5f%2BTf/ImX%2BsmRf9BEf/Jvz5LfifWteM/sv/8AJb/2jv8Ass1j/wCoV4XrzD/h89%2ByXd/J4c8GfFPWJehh0z4aXzOD6fMq810X/BOv4waT8e9b%2BPPxZ0Pwl4h0K01b4zQeTpfivSWsb%2BEReEfDcJMsDElNxjLrk8oyt3row2ZYDGTcKFRSe%2Bl9vut%2BJ1YTN8sx9R08NVU2lfS70%2B5L8fkfSdFFFdp6IUUUUAFFFFABRRRQAUUUUAFFFFABRRRQAUUUUAFFFFABRRRQBy3xt8EWPxG%2BFGu%2BDdS1/XtLgu7El77wzr91pd9HsIkHlXVpJHNCSUClo3VipYZGa%2BZn%2BL3xP03/AIIo/D/4rp8RdWh8Q6t8I/Bf9veM5r5pL%2B1ivo9Oh1HVGuJCW86OCe4uDMxJDJvJ4Jr6p%2BIPw6%2BH3xa8HX3w7%2BKngTRvE3h/VI1j1LQvEGlxXtndoGDhZYZlZJAGVWAYHlQeornvAX7Lv7M3wr8Ly%2BB/hh%2Bzr4E8N6LPps2nz6PoPhGys7WS0mYtNbtFFEqGJ2JLIRtYkkg0AeffsUXGraH41%2BNXwbg8Y69r3hvwJ8TLfTfC154l8Q3WrXltDN4f0i/ns3vbySW4uRHc3c7BpZHZBMIs4jVR8f8A/BY/xp4k1L9tj9ne61b4R%2BIdBs/BXiC9vbDxDqtzpz2msD%2B3fCyGS2W2u5Z0VNwz9oigPzrtDfNj9Hfhr8K/hh8GPCFv8Pvg98ONB8J6BaO7Wmh%2BGtHgsLOFnYu5SGBVRSzEsSBySSea%2BA/%2BC9X%2Bg6p4F8WdP7B8D65qG7%2B7t8VeCEz/AORK8nPdMmrvtFv7nF/ofoHhTr4k5VD%2BetGH/gyNWn/7kP0aooor1j8/CiiigAooooAKKKKACiiigAooooAKKKKACiiigAooooAKKKKACiiigAooooAKKKKACiiigAooooAKKKKACiiigAooooAK8Z8cf8pC/hf/ANkZ8ef%2BnbwhXs1eM%2BOP%2BUhfwv8A%2ByM%2BPP8A07eEKAPZqKKKACiiigAooooAK8Z/YP8A%2BSIa5/2Wb4j/APqa63Xs1eM/sH/8kQ1z/ss3xH/9TXW6APZqKKKACiiigAooooAKKKKACikd0jQySMFVRlmJwAK%2BUfi1/wAFItQ8ceOrz9nv/gnl8Ok%2BLHjm2bytV15Zinhnw4SSN95eghZWGCfKibLYYBty7DyYvG4bBQTqvV6JLWUn2jFat%2Bm3Vpanv8P8MZ1xPiJ08BTvGC5qk5NQpUo/z1asrQpx85O7ekIzk1F/Qnxl%2BOXwh/Z58D3HxI%2BNnxD0vw1otscPfancBA74JEca8tK5wcIgZjjgGvmIftpftj/tlv8A2Z/wT9%2BAv/CN%2BE5ztPxi%2BKtq9tayx/8APSwsB%2B9ucjlZGGzIw6rXlvjXw/8As5/s4fFzSvHn7e/xG1v9pL9oW%2BZT4d%2BHPhjSBfxaOWwwWy0tSIoEXg%2BdPtZ9nmIgYMa9hX9qv/gp98UgIvgv/wAE49O8JWbjFvrPxS8eQx49N9lajzkx9TXgVcxrYqq6c5yppbwppzqekpRTjTf91PmXWSPTxPE/hvwXWeGwMP7WxsNJTcKksLTl2hRioyrNfz4mpSg91QcWr3/h7/wSm%2BFupeKbf4rftl/EfX/jr4yhbfFdeNpANJsmPJW10xD5ESE/wNvXuAK%2Bo9O07TdF0%2BHS9JsYLS0tohHb21vEI44kUYCqq4CgDoBwK%2BTv%2BGeP%2BCtnxX%2Bb4qft3%2BC/h9bSf8fGmfC7wCLskf3VudQYSx/7wBNA/wCCPXwY8bHz/wBpj9oT4xfFZn5ns/F3xAuEsj6hILbyvLX/AGQxrqwvtcPFrB4NxvvKcoxb85O9Sb%2BbPkc%2B47404sqQli6dScYaQjUnTo0qa7U6NNONOPlCnHzctz234l/tl/sl/B3zI/if%2B0p4H0SaPO6zvvE1stwcdcQhzIx%2BimvG9R/4LR/sMXF/Jpfwy8QeLvH1xC2LiPwT4F1C7EX1Z4kUj3UkV6F8Nf8Agm5%2BwZ8I/LfwP%2Byb4Iimhx5V3qGiR306H1Et15jg%2B%2B6vZtM0vTNFsY9M0fToLS2hXbFb20Kxog9AqgAV18md1d504ekZTf3ycV%2BB4Hs%2BI63xVKVNeUZ1H98pQX4Hyif%2BCv3wuuBs0L9kL9onVJjxFb6f8J5meQ%2Bi7pVGfxpP%2BHiP7Vnis/8AFp/%2BCUfxYvA3%2BrPjDUrLQCfqJmfbX1tRR9TzOXxYpr/DTgvxbl%2BQfUM4n8eNa/w0qa/Fuf5HyT/wvz/gsB4s/wCRf/YC%2BH/hLd90%2BKfinHf7Pr9iQZ/Cl/sL/gt14q%2BbUfHn7OfhSJvurpOl6xfTIP8Aa88hCfpxX1rRR/Zc5fHiar/7eUf/AEmCD%2Bxqk/4mLrS/7fUf/SKa/M%2BSW/ZV/wCCqPjAfZ/Gv/BTrS9DtXP7%2BDwj8JrLzGHok0z7k/3gM0if8Em7LXj/AGn8Tv29/wBonX9TP/L0nxGNnFCe/lQxRbYwfTJr63oo/sXAS/iKU/8AFOcv/b0vwD/V7K5fxVKp/jqVJfhzpfgfJX/Dp6Ow%2Bfw1/wAFF/2o9PYfdjHxX82IfVGt%2Bfzo/wCHbXx/tv3Gmf8ABU/44JB/dur21nk/77MYP6V9a0Uf2Jli2g16TqL/ANyB/q7k6%2BGm16Tqr8qp8lf8O0/jfJ81x/wVL%2BPBbuY9XtkH5eVQf%2BCYvxUvP3Wsf8FQ/wBod4T1Wy8VwW7/APfawkivrWij%2BxMt/lf/AIHU/wDlgf6u5R/I/wDwZV/%2BWnyV/wAOjPBl583ib9uT9pfWWP3m1L4tyNn/AL4hWli/4Is/sV6rOknxOfx/45ijYMlp4u%2BIeoXEQYfxbY5I8/jx7V9aUUf2HlHWjF%2Bt3/6VKQf6t5D1w8X680v/AEqcvxueNeCP%2BCd/7Cfw7t44PCv7Ivw9jaL7lxd%2BFra6nH/bWdHk/wDHq7yP4HfBWKyXTYvg/wCFlt0HyQL4ftgi/RdmBXU0V208HhKUbQpxS8oxX5I9ClgMDQjy06UIryjFflFHFD9mz9nQSmcfALwVvJyX/wCEVtMn8fLpNQ/Zp/Zy1aH7NqvwA8E3MYGBHceFLN1/Ix121FV9Ww1vgj/4Cv8AIv6phLW9nH/wGP8A8ief%2BH/2TP2VvCd8dT8K/sz/AA%2B0y5ZtzXGn%2BDLGFyfXckQOa7yzsrPT7ZLOwtIoIYxhIoYwqqPQAcCpKKqnRo0lanFL0SX5JF0qFCgrU4KPokvySCiiitDUK8Z/Zf8A%2BS3/ALR3/ZZrH/1CvC9ezV4z%2By//AMlv/aO/7LNY/wDqFeF6APZqKKKACiiigAooooAKKKKACiiigAooooAKKKKACiiigAooooAKKKKACiiigAr8%2BP8AguzpH9ueEpbLZu2fAfxdcY/65eKPAsuf/HK/QeviH/grxo/9uf2jZbN2z9l74lXGP%2BuWpeEJc/8Ajledm8PaZTiI94T/APSZH2Xh1iPqniDk9f8AlxWHf/lal/mfZfgrWP8AhIfBuk6/u3fbtMguN3rvjVv61p1wf7K%2Bsf8ACQ/sw/DjX9277d4D0e43eu%2Byhb%2Btd5XZQn7ShCfdJ/ek/wBT5vNMP9TzTEYf%2BSpUj/4DOcf/AG0KKKK1OEKKKKACiiigAooooAKKKKACiiigAooooAKKKKACiiigAooooAKKKKACiiigAooooAKKKKACiiigAooooAKKKKACvGfHH/KQv4X/APZGfHn/AKdvCFezV4z44/5SF/C//sjPjz/07eEKAPZqKKKACvP/ANpf443PwB%2BGsXizRfCK%2BINa1XxDpeg%2BG9Dk1H7HHe6jqF7FaQLLP5chghVpfMlkEcjLFG5VJGCo3oFefftL/A66%2BP3w1i8J6L4vXw/rWleIdL17w3rkmnfbI7PUdPvYruBpbfzIzPCzReVLGJI2aKRwrxsVdQDz65/boutC/Ze8U/G7xb8KY7TxP4O8YnwjrfhK38RCS0j1h9SgsIMag8CYspDdWtwbloFaOCUs8QZGjrkPFn/BUHSfAfhLUdJ8beF/BGj%2BPtH%2BKEngXWNO1b4nra%2BGrC%2Bj0eLWmuZtalslZLYWNxACxtPM%2B0yrb%2BXnLjv/AIf/ALK3xG8EfCPxj4B1T4meD/EOqeOrrUtV8RX2vfDuSfT7vVb2ZjIZLE6jh7BbYQ2y2hl8zZDue5dmJrgfCH/BMKx%2BGvhnQtf%2BGXi/wVonxC0H4mXHja01az%2BGQi8OQ3c%2BinQ3tYNGgvY2t7ZdPESIqXfmCaEStI%2B%2BRHAPpb4c%2BI9T8YeANF8WazBpEV1qelwXU6aBrJ1GxDSIG/0e6MURuYecpL5ab1w21c4Hmf7B/wDyRDXP%2ByzfEf8A9TXW62Pgv%2Byv8Pfhh%2By/o/7LHjCxsPGWg2WltaarBrujwvaakZJGmlDWjBokhMjtsh%2BZY0CICdoNcz/wTp8MeGvBX7N194P8G%2BHrHSNI0v4t/EO00zS9MtEt7a0gj8Z60scUUSALGiqAoVQAAAAKAPdKKKKACiiigAooooAK4/46fH74P/s1fDu8%2BKvxv8eWPh/RLIfPdXknzSvgkRRIMvLIcHCICxweOK8N/wCChn/BUT4T/sPabF4H0WwPjH4nawqp4f8AA2mOXlDPxHLc7AWjjJI2oAZJTwgxudflv4P/APBLf9rr/goh8Q7X9pv/AIKqePtR0vS/9Zovw102XyJYYGIYRFVJWwjIChlG64fneyMMn5/H51UjXeDy%2Bn7Wt16Qh5zl0/wr3n5Hp4eOT4O1XMpyk940KTj7aa6OUpJww9J/8/at5SV/Y0KrtJct8b/%2BCjer/wDBQXx03wtt9O8b2/w9eUi0%2BEfw0tGufFXjFA2M6lcRnytLsifvxbzJtJJVgUkX6G%2BFX7O3/BRbx74Btfhh4G0zwP8AsnfDWOMrD4f8GwrrHiR42HzGS5ysMcjDGZlPnBslsmvrj4K/s%2B/BH9nPwovgj4GfC7RvC%2BmLjzINJsljadgMB5X%2B/M/%2B25ZveuxrHCZDiHN1sbXcpy35fd0/l5vi5f7sXBd7vUjiHPc94ow0MDXqLC4Cm7wwmGcoUk9uerUb9tiKzXxVakot7QjShaB5H%2Byv%2BxD%2Bz1%2Bx/o1xb/Cbwm8mtallte8X61P9r1fV5CdzPcXLjc2W%2BbYu1ASSFBJNeuUUV9DQoUMNSVOlFRitklZf1%2BL6tnkYbDYfB0VRoQUYrZJWX9d3q3u22FFFFam4UUUUAFFFFABRRRQAUUUUAFFFFABRRRQAUUUUAFFFFABRRRQAUUUUAFFFFABXjP7L/wDyW/8AaO/7LNY/%2BoV4Xr2avGf2X/8Akt/7R3/ZZrH/ANQrwvQB7NRRRQAUUUUAFFFFABRRRQAUUUUAFFFFABRRRQAUUUUAFFFFABRRRQB5F%2B318QvGnwo/Yo%2BKfxI%2BHmsyaZrOi%2BBtRurLV4Ywz6aVgbdeKGBUmBd0w3ArmPkEZFeReDvGV98CPDX7UXgzQvjP4sufCfw18NwatoXifXNYuvE%2Bo6Fcy6A13dRJNezSTXflhILxIJJG5vdqlY2jVfrW9srPUrOXTtRtIri3uImjngmjDpIjDDKyngggkEHgg1yPgD9nL9nr4UaRZ6B8LfgR4M8NWGntdNYWWgeF7SzhtjchRcGNIY1VDKEQSYA3hF3ZwKAPmv8A4Jgal8a9C%2BJfjr4VfG/Xr839v8P/AAX4gtdGb4oah4ytI1vl1WOS/TUtRCzwzXMlmwexRTbQraxSQyS/aJCtH9ujXfEnxA%2BNfifwBq3wh8Q6JaWn7KXxWttO17VLnTntNa8ybwyC9qttdyzoEIGftEUB%2Bddob5sfVXwn%2BBHwP%2BAulXehfAz4NeFPBdjf3P2m%2Bs/Cfh2206K4m2hfMkS3RA77QBuIJwAK8f8A2n9H/wCEh/aq8NaBt3fbv2dPiXb7fXffeE1/rWGKh7TC1Id4yX3xkv1PVyLEfU88wmI/kq0pf%2BA1acv/AG06X/gnVq/9ufsE/Bq%2B3ZK/DPRYSfUxWcUZ/VK9mr5w/wCCROsf25/wTb%2BEt7v3bPDbW%2Bf%2BuVzNFj/xyvo%2BufKp%2B0yuhLvCH/pMT1uPcP8AVOOs1ofy4rEL/wAr1f8AMKKKK7z5QKKKKACiiigAooooAKKKKACiiigAooooAKKKKACiiigAooooAKKKKACiiigAooooAKKKKACiiigAooooAKKKKACvGfHH/KQv4X/9kZ8ef%2BnbwhXs1eM%2BOP8AlIX8L/8AsjPjz/07eEKAPZqKKKACiiigAooooAK8Z/YP/wCSIa5/2Wb4j/8Aqa63Xs1eM/sH/wDJENc/7LN8R/8A1NdboA9mooooAKKK574sfFb4f/A74c6v8Wfin4mt9H0DQrNrnUtQuW%2BWNBwAAOWdiQqooLMzBQCSBUznCnByk7JatvoiKk4UoOc3ZJXbeiSW7ZH8X/jB8NfgJ8OdV%2BLXxd8W2uh%2BH9GtjNqGo3bHag6BVUAs7sSFVFBZmIABJAr4Bvv%2BCpP7XX/BQj4m3n7PX/BMz4SSeGtOtzs8QfFLxnbAtpcJJHmCABo4HO07FfzZHGSI02ll8T8UeJP2l/8AgvB%2B1PF4I8Mi/wDCXwl8JXazzBxldJgOQLifHyzapMu4Rx5K26k45Ej1%2BrX7P37PHwh/Ze%2BGFh8IPgl4NttG0XT04jiXMtzKQA080h%2BaWVsDLtknAHAAA%2BTpYvH8R4h/VpulhYuzktJ1Gt1Fv4Y9OZK/bXb2p5DTw2UwxubynTnXipUMPF8k3TkrxxGJnbnpQqJp0KEFGtVhatVnRpTpRqeWfsZ/8E1fgT%2ByFPN4/eS78bfEnVC0viH4leK2NxqN5O/MrRFy32dGJbIUl2BAeSTANfRFFFfTYXCYbBUVSoRUYrovzfVt9W22%2BrPCoYehhoclKKir306t7tvVtvq2231YUUUV0GwUUUUAFFFFABRRRQAUUUUAFFFFABRRRQAUUUUAFFFFABRRRQAUUUUAFFFFABRRRQAUUUUAFeM/sv8A/Jb/ANo7/ss1j/6hXhevZq8Z/Zf/AOS3/tHf9lmsf/UK8L0AezUUUUAFFFFABRRRQAUUUUAFFFFABRRRQAUUUUAFFFFABRRRQAUUUUAFFFFABXi3xBt4rv8A4KBfDO1nXckvwW8eo6%2BoOq%2BEAa9prxnxx/ykL%2BF//ZGfHn/p28IUDTad0eaf8EQ7iUf8E1PAWi3L5m0m91uymPumr3hA/JhX1jXyX/wRq/0H9l7xN4T6f2D8XPE2n7f7u29L4/8AIlfWleVkX/Ilw67QS%2B66/Q%2B%2B8Vkv%2BIl5xNfaxFSf/gxxqf8AuQKKKK9U%2BACiiigAooooAKKKKACiiigAooooAKKKKACiiigAooooAKKKKACiiigAooooAKKKKACiiigAooooAKKKKACiiigArxnxx/ykL%2BF//ZGfHn/p28IV7NXjPjj/AJSF/C//ALIz48/9O3hCgD2aiiigArz/APaX%2BONz8AfhrF4s0XwiviDWtV8Q6XoPhvQ5NR%2Bxx3uo6hexWkCyz%2BXIYIVaXzJZBHIyxRuVSRgqN6BXn37S/wADrr4/fDWLwnovi9fD%2BtaV4h0vXvDeuSad9sjs9R0%2B9iu4Glt/MjM8LNF5UsYkjZopHCvGxV1APPrn9ui60L9l7xT8bvFvwpjtPE/g7xifCOt%2BErfxEJLSPWH1KCwgxqDwJiykN1a3BuWgVo4JSzxBkaOsjV/%2BCia%2BFvgh8Q/FPiP4X6fc/ET4e%2BM5PB8/gLw54rN7banrp0231SGC3v3tYnMP2K6jnnla2VrdILotG32c7un%2BH/7K3xG8EfCPxj4B1T4meD/EOqeOrrUtV8RX2vfDuSfT7vVb2ZjIZLE6jh7BbYQ2y2hl8zZDue5dmJrz/QP%2BCRnwF/4VLqnhDxdePaeI9V1fU9WGtfDK41LwZp%2Bm3d5pttpmy00/Sr9NlqlnZWsf2eWaUPskZmLTOSAfRvwY%2BIf/AAt34PeE/ix/Y/8AZ/8Awk/hqw1b7B9o837N9pt0m8rftXft37d21c4zgdK8%2B/YP/wCSIa5/2Wb4j/8Aqa63XQfCb9mX4e/D39l7w5%2Byn4usYvGfh7RfC1rot/F4rR9Rj1RIo1VjMl5JOXRmXIjd3CDagO1Rjkf%2BCdPhjw14K/ZuvvB/g3w9Y6RpGl/Fv4h2mmaXplolvbWkEfjPWljiiiQBY0VQFCqAAAABQB7pRRRQBV1vWtH8N6Nd%2BIvEOqW9jYWFtJcX17dzCOK3hRSzyOzEBVVQSSeABX5BftS/Hj4yf8FmP2p9G/Zo/Z3e4s/h7p9211pss8LLE8EbbJfEF8vB8tclLW3OC7MGbbu2N6B/wVs/bb8QftDeJ5/2Mv2eI7jVfD9rr0OjeJm0yVhJ4s19mHk6BbshBMMTbZLqRSAoUIWRigl%2Byf8Agnl%2Bw74d/Yo%2BDY0e9mt9S8b%2BIRFeeOPEEUSqLi5CYS2hAACWsCny4owFUAEhV3ED4zHVavEmPeAoO2Hh/EkvtO/wJ9rrX0b2Sv8AQ8O4DBQwX%2BsuaU1Uw0JyhhaMleOKxFNrmq1Iv4sHhJcvMvhxOJUaGtKlX5u//Zl/Zq%2BFX7Jfwe0z4LfCHRBa6bp6b7i5lw1xqFywHm3U74/eSuRknoAAqgKqqO/oor6%2BlSpUKUadNJRSsktkkeTj8fjc0xtTGYyo6lWpJylKTvKUm7ttvq/8kkkkkUUUVocgUUUUAFFFFABRRRQAUUUUAFFFFABRRRQAUUUUAFFFFABRRRQAUUUUAFFFFABRRRQAUUUUAFFFFABXjP7L/wDyW/8AaO/7LNY/%2BoV4Xr2avGf2X/8Akt/7R3/ZZrH/ANQrwvQB7NRRRQAUUUUAFFFFABRRRQAUUUUAFFFFABRRRQAUUUUAFFFFABRRRQB49/wUHPjkfsOfFg/Df%2B0/7Y/4QLU/s/8AYm/7ds%2Bzv5v2by/n8/yvM8vZ8%2B/bt%2BbFfPv7Oniz4a6L4d/aK0P/AIJ3634Tj8MX2jiX4Nab4OuLYaZeeI4dBVr06ZHGfKkRJG07zvJBQXDTb/3plr7jooA%2BJP8Agj94p8BlfEPgH4d%2BG/hffxQeCfDOra944%2BGWjyQSXGqXIvkn0rWZ5ZppL3VrYwCWaeV0mb7dmWCAlfM9Uv8AUvivd/8ABTbwXZ%2BNvBfh7T9Ct/g944HhrUdK8Tz3l3fodW8JeY1zbSWUKWhGEwEmuA245K7Ru%2Bh68Z8cf8pC/hf/ANkZ8ef%2BnbwhQB5j/wAEnv8AiWwftEeE24/sv9p7xWsK%2BkLm2dP5mvrSvkv/AIJy/wDEq/aS/ap8J9PJ%2BMg1Db/19WaPn8dtfWleTkemWQj2c191SofoHij73HGJq/8APyOHn/4HhMI/8wooor1j8/CiiigAooooAKKKKACiiigAooooAKKKKACiiigAooooAKKKKACiiigAooooAKKKKACiiigAooooAKKKKACiiigArxnxx/ykL%2BF//ZGfHn/p28IV7NXjPjj/AJSF/C//ALIz48/9O3hCgD2aiiigAooooAKKKKACvGf2D/8AkiGuf9lm%2BI//AKmut17NXjP7B/8AyRDXP%2ByzfEf/ANTXW6APZq%2BVf%2BCqP7XWtfAn4VWvwU%2BEevQ2fxD%2BIcNzb6ZfvIQvh/S4Ymk1DWZivKR28Adg3Xd8yhvLYV9KePPG/hr4aeCNY%2BIvjPUks9I0HS59Q1S7fpDbwxtJI/4KpNfk3P4X%2BIn7ePxk0C48arPaeLf2kXS/urOOTL%2BC/hXYT%2BZHCrD/AFct/KinePlcrggecwr53iHH1cPhlhqH8SporbpNqP3ybUY9ryl9k6snyapxXxDh8jhUdKFRSqV6q/5cYWkufEVf8SgnCkutWpBI9y/4I4fsZ6PLZad%2B2P4o8Ly2WlW%2BmPp3wZ0S/jAmtdMfP2jWrgcg3t825y2TtjbapMZjVP0IqroWh6P4Y0Sz8NeHtNhs7DT7WO2sbS3TbHBDGoRI1A6KqgAD0FWq9LK8upZXgo0IdNW%2B76v9EuiSXr63EudwzzMVPD0lRw1KMaWHox%2BGjQp3VOmu7S96ct51Z1Kkm3PQooor0D58KKKKACiiigAooooAKKKKACiiigAooooAKKKKACiiigAooooAKKKKACiiigAooooAKKKKACiiigAooooAK8Z/Zf8A%2BS3/ALR3/ZZrH/1CvC9ezV4z%2By//AMlv/aO/7LNY/wDqFeF6APZqKKKACiiigAooooAKKKKACiiigAooooAKKKKACiiigAooooAKKKKACiiigArwv4j%2BIdK03/gpJ8INCvbkR3GpfBn4giyVj/rGj1Twe7KPfbub6K3pXulfAv8AwVO%2BJOo/BH/gpD%2Bx38ZYWddO0qfxZp/iCUH5ILDULjw9YySv/sqZ0P121zYzErCYZ1nsrX9HKKf3Xv8AI48fi44HCSry2ja/o5RTfyUr/I9G/Yw/4lP/AAUo/a68MH5V/tHwbqEQ/vefpEhYj8QBX1pXyX8Bv%2BJN/wAFf/j5pvT%2B2vh94W1DH97yUkgz%2BuK%2BtK4sm0ws49qlVf8AlST/AFP0zxJ9/PcNW/nweBl/5aUov8abCiiivWPz8KKKKACiiigAooooAKKKKACiiigAooooAKKKKACiiigAooooAKKKKACiiigAooooAKKKKACiiigAooooAKKKKACvGfHH/KQv4X/9kZ8ef%2BnbwhXs1eM%2BOP8AlIX8L/8AsjPjz/07eEKAPZqKKKACvMP2tvjJ4y%2BDHwwsL74a2emS%2BJfEnjDRfDWgSa3BJLZWtxqF/DbG6njikjeWOGOSSbylkjMpiEYePfvX0%2BuN%2BPHwS8NftA/DqX4d%2BJtY1PS9upWOp6XrWiTRx3ul6hZXUV3aXcDSxyR7454Y22yI8bgFHR0ZlIB4nf8A7Y/xn8M/sh/ET4ka74e8PXvjn4b%2BN5vC2t31hpt0mjALfW0X9stbedJOlrDZXcd9PAJmZBDNGJjgS1jfCn9sv4q/HX4M/EPxZ4D/AGj/AINWSfCTxpc6Z4q%2BKVz4Qvbvw1q2npo1jqovLS3TV42gRUv1ieQ3kybrWVl3K67fYfhz%2BywPhT8PdW8DeC/j144gutckvL3UvE0q6TLqE2rXV09xPqpL2Bh88lxGIvK%2BypFFGiQKFriPHX/BN3wb48%2BHdp4Fvf2ifiTa3TfEGPxp4o8RwPos134r1eKKOK3k1KG50yWzlihWC08qCO3jiQ2VsQv7paAPRfg/8fE1z9lHwn%2B0l%2B0HZWHw6fVPBWna34qtNfvxa2%2BhSz28cksU0txs8sI7lf3gVhjDAHIrk/8AgnT4n8NeNf2br7xh4N8Q2Or6Rqnxb%2BId3pmqaZdpcW13BJ4z1po5YpUJWRGUhgykgggg17J4U0bUfDvhqx0LV/Fmoa9dWlqkVxrWrR26XN66jBmlW2ihhDt1IjjRMnhQOK8p/YP/AOSIa5/2Wb4j/wDqa63QB45/wVz%2BIMXi/QvBf7EGneIjpo%2BJeqSX3jrU43wdK8J6Yv2vUbhmH3MrGFXPD7ZE71N/wSj%2BHdx47sfFf7e/izw5/Zt58TriOz8DaQ6Y/sPwlZfuNPtUHRN6xiRtvD7Y36k18m/GHxX4j/bW%2BMHibxl4O1CQXvx88aJ8Kvhdcx8tZ%2BCtLlE%2BuapF1zHNIBnvtaZa/WPwd4S8PeAPCOleBPCWmpZ6VounQWGmWkf3YLeGNY40HsFUD8K%2BQyz/AIVs6qYx6whbl/FR/wDJeafrUi%2Bx9Tkb/sXw/r5ptXzibhB9Y4DCztp2WJxd5P8AmhQS1RpUUUV9efLBRRRQAUUUUAFFFFABRRRQAUUUUAFFFFABRRRQAUUUUAFFFFABRRRQAUUUUAFFFFABRRRQAUUUUAFFFFABRRRQAV4z%2By//AMlv/aO/7LNY/wDqFeF69mrxn9l//kt/7R3/AGWax/8AUK8L0AezUUUUAFFFFABRRRQAUUUUAFFFFABRRRQAUUUUAFFFFABRRRQAUUUUAePf8FBz45H7DnxYPw3/ALT/ALY/4QLU/s/9ib/t2z7O/m/ZvL%2Bfz/K8zy9nz79u35sV4b%2ByN8Q/hP4Guvjt/wAMA6L4R8Q%2BD2htrz4R%2BC/COs2VlpWv6/b6LG9/baa%2B9bdY2dtOSeSM%2BXHPJM0hEnm19p0UAfE3/BI%2B08eeHfin%2B0V4X%2BIvwl8Z6Hrknj/R9U8Sav4wutIeXUdWufDmmPdNt07UbxY8v%2B9SMMYooJoIkbMbRx8//wAFOPhP8W/2jPidq/wr8U%2BA9As7KH9nrx7f%2BA7/AEfxPcXl9qFzaav4Qu08%2B3eyhWzfzIIlURzXG4SNkrj5vvmvGPHaq/8AwUI%2BGCOoKn4MePAQRwR/a3hCsMTQhisNOjPaSafzTX6nNjMNTxuEqYep8M4uL9Gmv1v8j5d%2BAXx7X/hs/wCCn7XXiyRW0H9oj4J2nhc6mpwln4ntJRM9vIen7xg8UfQs%2BRjCmv0Jr82/gx%2BzNd/F39kf47/8E79HumsfFnwT%2BK13qXwsulk2SaeJHOo6TKrH/V%2BYWuELdllYjmvsb9hX9pu2/a3/AGYvDfxhntha6zJA1j4r0wpsaw1a3PlXULIeU/eKXUHnY6HvXz%2BQYipF%2Bxq7zXOv8SfJVj8px5vSZ93Wry4s8OMrz9fx8LCOCxK7Sp%2B0%2Br1PJTgqtKT/AOflJdZWPXqKKK%2BnPjQooooAKKKKACiiigAooooAKKKKACiiigAooooAKKKKACiiigAooooAKKKKACiiigAooooAKKKKACiiigAooooAK8Z8cf8AKQv4X/8AZGfHn/p28IV7NXjPjj/lIX8L/wDsjPjz/wBO3hCgD2aiiigAooooAKKKKACvln4f/EX/AIVF/wAE8fjB8UFn8uTQPGHxbvrds4Jlj8V6%2B0YHuXCge5r6mr85P20PHh8E/wDBHD4p6fb3YhuvEnxw8a6LauTx%2B%2B%2BIWqmQf9%2BUlrhzTEfVMtrVv5YSfzs7fi0cGa1qmHyyvUpq8lCVkt3JpqKXm5Sil5tGL/wQo%2BF8/wATtWg/aA1aycaD8L/BFt4H8EQyxkBdQuP%2BJhrNwAejie5MIcZ3I5Hav01r5p/4I%2B%2BAovh5/wAE3/hZpotgk2o6HJq1w%2B35pWvLiW5DserHZKgyewA7V9LVxcOYVYTJqKe8oqT9ZJP8FypeSPv%2BOXDD5%2B8po6UcBCGDppbcmFiqLa/6%2BVI1qr7up5BRRRXtnx4UUUUAFFFFABRRRQAUUUUAFFFFABRRRQAUUUUAFFFFABRRRQAUUUUAFFFFABRRRQAUUUUAFFFFABRRRQAUUUUAFeM/sv8A/Jb/ANo7/ss1j/6hXhevZq8Z/Zf/AOS3/tHf9lmsf/UK8L0AezUUUUAFFFFABRRRQAUUUUAFFFFABRRRQAUUUUAFFFFABRRRQAUUUUAFFFFABXjPjj/lIX8L/wDsjPjz/wBO3hCvZq8Z8cf8pC/hf/2Rnx5/6dvCFAHjf7VOnfFD9hr9qrU/%2BCiXgHwfL4o%2BH/ijQrLSvjNoGmwk6hp0drlYNZgAOJlijIR0P3UUnOGLx8mnxPP7D/xV1/8Abd%2BD2mjxx%2BzR8Z7i313xRe%2BFt00/hPVGXZNqYgAy9vKeZx99HUghTGqSfek0MVxE1vcRK8bqVdHXIYHggg9RXxn4s/ZA/aV/Yp8Wa98Sv%2BCetro3iTwJ4guXvfFPwB8RSCC1aVhiaTSrg5W2Zx1hcCPthgI41%2BYzDAYjDVPbUL8vM56K8qc3u1HTnhP7cN/tR10W/DXEGI4Hx%2BIlPDfW8uxa5cTQu1Kzkp89Jr3lKM0qkGlKUKl2ozhUq039b%2BAfH/gr4p%2BDdO%2BIXw58UWWtaJq1stxpuqafOJIZ4z3Vh75BHUEEEAgitevy9%2BBvxGPgf4iatqf/AATd8cQeB/Es%2BoGbxr%2ByH8YF/s0SXhA8w6VJIV8iRhyqxnYQVLhFVYh9cfs5/wDBS34E/GrxMfhB8SLe%2B%2BF/xNtnEWofDzx2v2S6Mp6fZpXCx3aNyUKHcy/NsAIrqwGe4bEqMKzUZPRO/uSf92Ttr/clyzWzi7XPr8Rwnhs2y%2BeccJ4j6/go6y5V/tFBdY4mgrzhy7OrCM6Ltfmp35V9FUUUV7p8SFFFFABRRRQAUUUUAFFFFABRRRQAUUUUAFFFFABRRRQAUUUUAFFFFABRRRQAUUUUAFFFFABRRRQAUUUUAFeM%2BOP%2BUhfwv/7Iz48/9O3hCvZq8Z8cf8pC/hf/ANkZ8ef%2BnbwhQB7NRRRQAV5D%2B2v8SPH3w8%2BE%2BkWXwy8StoWseLPH/h3wxD4iS0hnfSYtQ1O3t57mOOdHiaYQvIIvMR4xK0ZdHUFG9ernfix8J/APxv8AAV78M/ibobaho9%2B8Ek0MV7NbSxywzJPBPDPA6SwTRTRRyxyxOskckaOjKyggA%2BdLD4y/tUT/ALIfxQsPBviDUfFXjv4ffEa78M2/ii10G1l1K%2B0uK%2BtWmv47OGJLee/g065lxEkQjmubUAQgSeVXnXws/aq/aE%2BOHjiP9lnw98bPHXh8Q/GbU9AX4meIPA2naf4lvdJtvCdhriI9heactrbXDXOorHmSxRja2ufKSSTzE%2Bq/C37KPwX8EfD26%2BF/hCz8SabpF7aTw3Qs/HmsR3Urz3Ul1Pdm6F39o%2B2yTyySPe%2BZ9pct80pAAGXffsN/s06h8M7D4UyeENYisNN8QS67Z6rZ%2BNdXg1pNUljlilvTq8d0uoPcSRTzRPK05Z4pGjYlDtoArfst/tE6z46/Yr8J/tCfFq2urrUpfDqy%2BIG8M%2BHrq9e8uInMEs9tZ2iSzusroZFijV2CuBzjNfmP/wAFPfi/oviD/gnn4I8HWkl9a2vi39oL4o6/bwalp09jc7LTxJr3lrLb3CJNC2%2B9j3RyIrq3DKCMV%2Bw/gXwP4R%2BGXgnSPhx4A8P22k6FoGmQado2l2abYrS1hjWOKJB2VUVVHsK/Er9su5g%2BMv7THgb9nSWH7RAfij4wsoxjKpe6p8UtWQx%2BzGCzJ%2BlfMcYVJQyCpCO83GC/7ekv8j1%2BGcHSzLjHKMFVV4VMXhub/BCrGvU%2B6nhpv5H7Mfs6eB/%2BFZfs%2B%2BBfhv5Pl/8ACP8Ag7TNNKYxtMFrHFj/AMdrsqKK%2BkpwjSpxhHZJL7kl%2Bhw43FVcdjKuJq/FUlKb9ZylJ/jJhRRRVnMFFFFABRRRQAUUUUAFFFFABRRRQAUUUUAFFFFABRRRQAUUUUAFFFFABRRRQAUUUUAFFFFABRRRQAUUUUAFFFFABXjP7L//ACW/9o7/ALLNY/8AqFeF69mrxn9l/wD5Lf8AtHf9lmsf/UK8L0AezUUUUAFFFFABRRRQAUUUUAFFFFABRRRQAUUUUAFFFFABRRRQAUUUUAePf8FBz45H7DnxYPw3/tP%2B2P8AhAtT%2Bz/2Jv8At2z7O/m/ZvL%2Bfz/K8zy9nz79u35sV4l%2Bxz4v/Y10DVfjjpHwf8V%2BBbD4C3iW02iW%2BhahbQ6FM8Oixtr0liImEZgjhazNw0PyJM05ciUy19nUUAfHf/BJvxH%2Bzb8S5PiT8av2T7/wJongfxNfaYfD/wANvAl9Z7dHtIYZkj1S%2Bs7Rtmn3uoZZzAyrIIbW3EoEyzIne3%2BpfFe7/wCCm3guz8beC/D2n6Fb/B7xwPDWo6V4nnvLu/Q6t4S8xrm2ksoUtCMJgJNcBtxyV2jd9D14z44/5SF/C/8A7Iz48/8ATt4QoA9mooooA8y/aN/Y3/Zm/az0UaP8fPhBpOvPFHstNTeIw31oOv7m6iKyxjPOA20nqDXyT8f/APgkt8f5vCp8I/DT41aF8V/CVqG/s3wL8edPe5udPTutnrVrtvLfj5VVSijA3EjNfoHRXl43Jsux93UhaT0bWjfrbSXpJS%2BRzUsM8JmMMxwVSeHxMHeNajOVKqmv78HFv0kpLpa2h%2BQNl%2B0F/wAFOv8AgnKRYav4F8dWnhWxb59C%2BIdm3inQbaEdfI1zTx9ogBHEcDxlUA%2BYtg19B/s7/wDBwn%2ByT8R44NI%2BPOhap8PdTZEM14D/AGrpeW4X/SLYGSMk9pIl255brX33Xjnxp/4J7/sT/tCyTXXxb/Zn8KaleXGfP1S300Wd7Jn1ubYxyn/vqvHjk2d5c/8AYMVeP8lRXXyad18vuPrK3F%2Ba5jG2d4Whjpf8/eV4TEvzlVw0XRqvu62E5m9ZTet%2B%2B%2BF/xl%2BEvxs8Pr4r%2BD/xL0LxPpzAf6ZoWqRXSKT/AAsY2O1vVTgjuK6WvgTxV/wb4fs16Z4gPjb9m746/Ej4Z62hJtLnSNbE8duevykhJ%2Bv/AE3rV0X9nL/gtn%2Bz1ti%2BF37Z3gD4s6TZxN5Wm/E3QprW5mwOB5sAeV2PrJcgeprup5lm9HTF4R%2BtOSmv/AW4y/M%2BbxeNwCfNRoV4%2BUlSq/dOlODfzpRfV22Puaivh69/4KI/8FH/AIJ2cCftJ/8ABKbX9RRcm61v4ZeI01SIqP4xawpO0Y7/ALyUfhVbw7/wcJ/sLz6i2h/Efw38RPBV/C2y7tvEPhYEwt3BFvLI/wCag%2B1X/rFk8Hy1qns32nGUP/SopfizmWLh7N1JU6iit5OlVUV5uSpyil5uUV2bPuqivm3wX/wV%2B/4Js%2BPAn9jftZeHbYv/AA61Dc6dg%2B/2qKMCvVvCP7U37Mfj/Z/wgv7RfgTWd/3BpXi6zuCfwjlNd9HMcvxH8KtCXpKL/UyoZrleK/g14S9Jxf8A7df8DvKKZBcQXUK3FtMkkbjKPGwIYeoI60%2Buw7wooooAKKKKACiiigAooooAKKKKACiiigAooooAKKKKACiiigAooooAKKKKACvGfHH/ACkL%2BF//AGRnx5/6dvCFezV4z44/5SF/C/8A7Iz48/8ATt4QoA9mooooAKKKKACiiigAr8Qf2YND1H4m/wDBYi90XUU861T9qnxfJpp258ldF1DWr%2BUE/wDXW9Qj3r9vq/KD/gmZ8Nrh/wDgrN41ubq2cJYeMPi14vR5FPyyXfjS70dQM%2BsdmWHqDmvnOI6LxCwsOjrQv%2BL/AEZ9dwJhnLiX6%2B9sJhsbX9JLCVKNN/8AgzFK3mfq/RRRX0Z8iFFFFABRRRQAUUUUAFFFFABRRRQAUUUUAFFFFABRRRQAUUUUAFFFFABRRRQAUUUUAFFFFABRRRQAUUUUAFFFFABRRRQAV4z%2By/8A8lv/AGjv%2ByzWP/qFeF69mrxn9l//AJLf%2B0d/2Wax/wDUK8L0AezUUUUAFFFFABRRRQAUUUUAFFFFABRRRQAUUUUAFFFFABRRRQAUUUUAFFFFABXjPjj/AJSF/C//ALIz48/9O3hCvZq8Z8cf8pC/hf8A9kZ8ef8Ap28IUAezUUUUAFFFFABRRRQAUUUUAFc78QvhF8KPi3p39j/FX4Y%2BHvE1ptK/Ztf0aC8jA9NsqsK6KipnCFSPLJJrs1dfjc2w%2BIxGErKtQnKE1tKLcZL0cXFr5NHyl8Sv%2BCKH/BOX4jSS3tt8C28M3soIN74S1q5sdoPpErmEf9%2B68F8af8G4Xwnht5Ifgz%2B0VqWloWLLF4u8GabrJPOdplVIJAO2Qciv0norxcRw1kOJd54eKfdLlf8A5Lb8j6X/AF24krLlxlSGKj2xNGhiU/V4ihVl/wCVD8l5/wDgh9%2B1N8KpGuPh34a%2BFmvwqctPo/jPxJoOpSn1UfaJLZD%2BGBTB%2Bzx%2B3F8Kz/xUfwg/a60KGHpP8Nf2i7LXbeQDuLRoBJj0VmzX610Vwf6oZdT/AIE5Q%2Baa/wDbX%2BJl/anB%2BK/37hvAyfelCvhJffhcTGF/%2B4VvI/JT/hobx94A48Zft3ftbfDLy/vv8UfglFfpH7lk37h745rrPBf7Y/xA8Q7P%2BEL/AODgL4faiG/1cfjX4LWmj49maXyz%2BJr9P65Xxp8Cfgh8SN//AAsT4N%2BFNf8AM/1n9teHra63fXzUbNH9gY6l/DxF/V1Y/wDpFVr8BfUvCHE/Hl2Nwz/6cZhKaXpHEUr/AHzPkLwd8RP%2BCkPirZ/wq/8A4KEfsueNd3%2BrxbOfM/8AASZv0rshd/8ABcnSxul0z9l3Vox0NtP4ggkYf8C%2BWuz8Yf8ABKf/AIJ0%2BON/9tfsh%2BDoN/X%2Bx7FtO/L7K0ePwrjT/wAEWP2KNGO74YHx/wCCCPuHwp8RdRh2fTzZZKP7Pzqn9pv/AA15r8J0pfmH%2BqnhZiP4Oc5lQ8qlKlVXzdKsn90RP%2BFof8Fn9N/4/f2XPgtqeOv9neNruHd9PNWj/ho3/grlp/8Ax%2Bf8E3/B%2Bo4/58PjBaw5%2Bnmx0v8Aw688eeHPm%2BGf/BTD9ojTcf6uHWvGUWqQp7BJYV49s0f8Mcf8FLfDXzeCf%2BCsN1dRL92z8TfCLTLrd9Zg4f8AIUezzaHxKv8AKpQn%2BcYh/wAQ84Zrf7rxal/19oYin/7r11%2BNhP8AhsL/AIKh2Rxqf/BIV5FHWSy%2BO2jPn6KYs0f8N1/t6Wn/ACF/%2BCSHjBMdfsfxF0u4/wDQQM0v/Cvf%2BC03hr/kCftD/ArxNt%2B7/wAJH4S1Cy3/AF%2ByMcfhR/wnn/Bazw5/yGfgL8BPEm3r/wAI94o1Kz3/AE%2B1A4/Gj22Nj8U8Qv8AuFTl/wCkh/xCzH1P914lwlT1r0oP7quEp/jIQ/8ABRD9qq1/5Cn/AASk%2BLKY6/ZNRsZ//QWFL/w8w%2BM9t/yEv%2BCW/wAfVx1%2By6FbzfylFH/DV/8AwVP0DjxD/wAEqrHVUX79xoPxp0xfyjlj3Gj/AIeH/tUaL/yOv/BKb4swY%2B//AGHqFjqX5eWy5o%2BuVI74qrH/ABYf/wC0D/iEXHsv4GYUKv8AgxOXT/D28H96Qn/D0zxdb/8AIQ/4JjftOLjr9m%2BHSTfyuBS/8PY4YuL7/gnB%2B1bB6s/wfJX8xc0f8PYbbS/l8Y/8E9P2nNJx9%2BeT4VmWEf8AA0nOfyo/4fNfso2H/I3eBvir4fx97%2B2fhpfJt%2BuxWo/tGC3zBL1pRX5qIf8AEHPF1/w6dSf%2BCnhan/pvFT/IP%2BHufgqP/j9/Yc/aYtvXz/hFIP5TGk/4fA/CGP8A4%2B/2Vf2grf8A67fCi4H8pDU1p/wW7/4JmzTC11H9oefTp%2B8GpeDdXiI%2BpNpj9a6HSv8Agrn/AME3dZx9j/a28NJnp9rW4g/9GxLVxzCM/hzKm/8At2n/APJo56/hJ4yYZXqYLFJeeBn%2Bcbo5j/h8Z%2Bz8n/Hz8BfjfD/11%2BFt0P5E0f8AD5b9mNf9f8K/jBF/10%2BGN6P6V6Zpf/BR79gTV8fZP2yvhqmen2rxhaQf%2BjJFrodN/bI/ZC1rH9j/ALVXw3u89Ps3jnT5M/8AfMxrojWxM/hx1N/9uw/%2BWnj1%2BB/EnC/xqVaPrgqq/wDbbfieJf8AD5r9lQHD%2BAPiwvs3wzvv/iaP%2BHzX7Kh%2B78P/AIsH6fDO%2B/8Aia%2Bi9P8Ajr8EdXx/ZXxj8K3Wen2fxDbPn8nNblh4o8M6rj%2By/EVhc56fZ7tHz%2BRreNPM5/DioP8A7hx/%2BWHk1sm4tw/8Wry%2BuHa/OSPlj/h8r%2BzM3%2Bo%2BE/xhl9BH8MLzn86P%2BHxXwEk/49f2ffjlP6eV8LLo5/NhX1rRWn1bN/8AoJj/AOCl/wDJnL9Tz7/oLj/4Jj/8sPkr/h778K3/AOPT9kf9oe49PJ%2BE85z%2Bcgo/4e4%2BEn/49P2Ev2nJ/TyfhDIc/nOK%2BtaKPqubf9BS/wDBUf8A5IPqWeP/AJjF/wCCYf8AyZ8lf8PZbV/%2BPX/gnD%2B1dN6GP4OnH63NVPgn%2B1dP%2B09/wUK8Fmb9mf4rfDoaJ8GfGW3/AIWf4S/so6h52reFf%2BPYea/meX5Xz9Nvmx9d3H2BXjPjj/lIX8L/APsjPjz/ANO3hCtaGGzCnVUquI5o9vZwjf5ptm%2BGwmaU6ylWxXPHrH2UI3%2Bak2u57NRRRXoHqBXkP7a/xI8ffDz4T6RZfDLxK2hax4s8f%2BHfDEPiJLSGd9Ji1DU7e3nuY450eJphC8gi8xHjErRl0dQUb16ud%2BLHwn8A/G/wFe/DP4m6G2oaPfvBJNDFezW0scsMyTwTwzwOksE0U0UcscsTrJHJGjoysoIAPmTW/wBpH9oDwl%2BxF8W7%2BD4jf2t45%2BH3xAu/CGg%2BK7vTLRLvW2a/tYrTZBHCtodReO9jtYx5SW73ioWjSNmRfLR%2B1V%2B2tf6HD8JbHxL8TLjxTbfGXVtG1Dw3pumeD1%2BIUOkQeHLbUoVmM6f8I62JruGZ5om2m1urSNXNyZUP15a/sXfs5Wnwpvfgl/wheoT%2BGNSt5Ev9OvfFWp3BuJpL175715ZbhpWvjdOZzfFvtXmBW83KLjKl/wCCfn7LMnhmDw2nhLxFDNb%2BIZ9cXxHa/ETXIdefUJrVbSWeTWEvRqEpe2jigYPOymKGKMjbGgUAs/syfHrUvFf7EPgP9oX4p6s%2Buajf%2BAtN1LxJd%2BEPDN9ctc3j28f2g29jDA10T5pceUsW9cEFBggfHX/BFfVIfiv%2B2b%2B0/wDF62s76Ky0nxvquj6P/ammT2VwIrrxNrl/IklvcIk0DqzJujkRXUnDKCCB%2Bhnw/wDAPg34VeBtH%2BGnw78O22kaDoGmw2Gj6XZptitbaJAkcajrgKAOck9SSa%2BQf%2BCMng59Mf8Aad8eXUW2bW/2tvHsMbY%2B9BbavOiH/vt5R%2BFedjabq4rDLopuX3Qlb8WfZ8MY2GByPOpP4qmHhSX/AHExVDm/8lptPyZ9rUUUV6J8YFFFFABRRRQAUUUUAFFFFABRRRQAUUUUAFFFFABRRRQAUUUUAFFFFABRRRQAUUUUAFFFFABRRRQAUUUUAFFFFABRRRQAV4z%2By/8A8lv/AGjv%2ByzWP/qFeF69mrxn9l//AJLf%2B0d/2Wax/wDUK8L0AezUUUUAFFFFABRRRQAUUUUAFFFFABRRRQAUUUUAFFFFABRRRQAUUUUAePf8FBz45H7DnxYPw3/tP%2B2P%2BEC1P7P/AGJv%2B3bPs7%2Bb9m8v5/P8rzPL2fPv27fmxXzZ8IvEvw8074Y/tPeGv%2BCcmv8AhqDw7qXhaZ/grYeBbq3WwuvEsXh3N4dJSE%2BW4SV9NMpgBVblpd%2BJTLX3pRQB8b/8Eyz%2Bz4fjH49/4YtOkf8ACp/%2BFb%2BCvM/4Rzb9h/4SrfrP9peZs4/tH7H/AGR9r3fvd3k%2BZ%2B8316Df6l8V7v8A4KbeC7Pxt4L8PafoVv8AB7xwPDWo6V4nnvLu/Q6t4S8xrm2ksoUtCMJgJNcBtxyV2jd9D184ftH6v8a9H/bw%2BE8/wO%2BH/hbxFqTfCPx2t3aeK/GFzosEcH9qeEiXSW30%2B9Z33bRsMajBJ35AUgH0fRXjP/Ccf8FC/wDo1/4M/wDh%2BNW/%2BZej/hOP%2BChf/Rr/AMGf/D8at/8AMvQB7NRXjP8AwnH/AAUL/wCjX/gz/wCH41b/AOZej/hOP%2BChf/Rr/wAGf/D8at/8y9AHs1FfOOk/tHft26x8Z9f%2BB1v%2Byh8JF1Tw74X0jXby5f466p5EkGo3OpW8KIR4Y3F1bS5ywKgAPHgsSwXqP%2BE4/wCChf8A0a/8Gf8Aw/Grf/MvQB7NRXjP/Ccf8FC/%2BjX/AIM/%2BH41b/5l6P8AhOP%2BChf/AEa/8Gf/AA/Grf8AzL0AezUV4z/wnH/BQv8A6Nf%2BDP8A4fjVv/mXrl/AP7R37dvxE8V%2BN/CGj/sofCSG48B%2BKItC1WS5%2BOuqBJ55NK0/Uw8W3wwSU8nUYVJYKd6OMYAZgD6Oorxn/hOP%2BChf/Rr/AMGf/D8at/8AMvR/wnH/AAUL/wCjX/gz/wCH41b/AOZegD2aivGf%2BE4/4KF/9Gv/AAZ/8Pxq3/zL0f8ACcf8FC/%2BjX/gz/4fjVv/AJl6APZqK%2BcfhF%2B0d%2B3b8ZfCl34v8OfsofCS2t7PxRrehSR3vx11RXM%2Bl6rdaZO42%2BGGGxprSRkOclGUkKcqOo/4Tj/goX/0a/8ABn/w/Grf/MvQB7NRXjP/AAnH/BQv/o1/4M/%2BH41b/wCZej/hOP8AgoX/ANGv/Bn/AMPxq3/zL0AezUV4z/wnH/BQv/o1/wCDP/h%2BNW/%2BZeuX%2BCP7R37dvx4%2BDHhD44%2BFf2UPhJa6X4z8L6frum22ofHXVFnhgu7aO4jSQJ4YZQ4WQBgrMMg4JHNAH0dRXjP/AAnH/BQv/o1/4M/%2BH41b/wCZej/hOP8AgoX/ANGv/Bn/AMPxq3/zL0AezUV4z/wnH/BQv/o1/wCDP/h%2BNW/%2BZeuX%2BN37R37dvwH%2BDHi/44%2BKv2UPhJdaX4M8L6hrupW2n/HXVGnmgtLaS4kSMP4YVS5WMhQzKMkZIHNAH0dRXjP/AAnH/BQv/o1/4M/%2BH41b/wCZej/hOP8AgoX/ANGv/Bn/AMPxq3/zL0Aew3dlZX8Jt7%2B0injPVJowwP4Gue1X4K/BvXs/258JfDN7u%2B99r0G3kz/30hrz/wD4Tj/goX/0a/8ABn/w/Grf/MvR/wAJx/wUL/6Nf%2BDP/h%2BNW/8AmXqJU6c/iSfqk/zR0UMXi8M70akof4ZSj/6TJG5qn7GH7HmuZ/tr9lD4a3mev2rwLp8mf%2B%2BoTXPal/wTd/YC1XP2r9jb4bpnr9m8I2sP/otFrnPi7%2B0d%2B3b8GvClp4v8R/sofCS5t7zxRomhRx2Xx11RnE%2Bqara6ZA53eGFGxZruNnOchFYgMcKeo/4Tj/goX/0a/wDBn/w/Grf/ADL1zywGAn8VGD/7dj/8iexQ4t4sw38HMcRH0r11%2BVa34HN6h/wSV/4Jw6nn7T%2ByP4WXP/PvHND/AOi5BWJf/wDBFT/gmHqWftH7K1iuf%2BffxHqkX/oF0K7/AP4Tj/goX/0a/wDBn/w/Grf/ADL0f8Jx/wAFC/8Ao1/4M/8Ah%2BNW/wDmXrCWTZPPfDU//AI/5HrUfErxGw/8POcWvTE1v/ljPMf%2BHH//AATat/8AkDfBPVdO9PsXjvWFx/31dGj/AIcs/sVQf8gl/iBYY6fY/iNqIx/31Ka9O/4Tj/goX/0a/wDBn/w/Grf/ADL1y/j79o79u34d%2BK/BHhDWP2UPhJNcePPFEuhaVJbfHXVCkE8elahqZeXd4YBCeTp0ygqGO90GMEsuf9hZL0w8F6RS/Kx1f8RX8TX8Wc4mX%2BKrKX/pSkc1/wAOcf2c4DnS/jR8Z7H0%2ByfFC7GPzzR/w6H%2BGcP/ACDf2wP2irP0%2By/FmYY/OI16b/wnH/BQv/o1/wCDP/h%2BNW/%2BZej/AITj/goX/wBGv/Bn/wAPxq3/AMy9H9hZR0or/wAmX5TQf8RV8RXvmVR%2BqpS/9Kw8jzE/8EmdNi/5B/8AwUR/aptPQQfGAgfrbGqfwU/ZUu/2Y/8AgoX4LW5/aY%2BKnxFXWvgz4z2D4m%2BKhqh0/wAnVvCufs58tPL8zzRv67vKj6Y59a/4Tj/goX/0a/8ABn/w/Grf/MvVDwP4H/as8Y/tWeHPjd8bvhx8PfDOjeGfh74h0OGHwr8Q77Wrq7utSvtEuEZkuNIsUijRNLlBYO7FpUAXGSNqGVZfhqqqUoWkvOf5ObX4Hn5px9xfneBng8divaU52unTw6vZpr3oYanNapbTXZ3V0/daKKK9A%2BPCiiigAooooAK8H/4J2eFdM8MfBXxdNpwbfqvx4%2BJV9ds2PmlbxnrC9uwVFH4V7xXyV%2ByV4s/bO0/4e%2BKLP4Y/AP4YavoSfGn4i/2fqOvfF3UdNu5l/wCEz1ksZLaLQLlIiG3AATPkAHIJ2hOKbTfQuNSpCEoJ6Stdd7O6%2B56n1rRXjP8AwnH/AAUL/wCjX/gz/wCH41b/AOZej/hOP%2BChf/Rr/wAGf/D8at/8y9Mg9morxn/hOP8AgoX/ANGv/Bn/AMPxq3/zL0f8Jx/wUL/6Nf8Agz/4fjVv/mXoA9mor5x%2BCP7R37dvx4%2BDHhD44%2BFf2UPhJa6X4z8L6frum22ofHXVFnhgu7aO4jSQJ4YZQ4WQBgrMMg4JHNdR/wAJx/wUL/6Nf%2BDP/h%2BNW/8AmXoA9morxn/hOP8AgoX/ANGv/Bn/AMPxq3/zL0f8Jx/wUL/6Nf8Agz/4fjVv/mXoA9mor5x%2BN37R37dvwH%2BDHi/44%2BKv2UPhJdaX4M8L6hrupW2n/HXVGnmgtLaS4kSMP4YVS5WMhQzKMkZIHNdR/wAJx/wUL/6Nf%2BDP/h%2BNW/8AmXoA9morxn/hOP8AgoX/ANGv/Bn/AMPxq3/zL0f8Jx/wUL/6Nf8Agz/4fjVv/mXoA9morxn/AITj/goX/wBGv/Bn/wAPxq3/AMy9cv8AF39o79u34NeFLTxf4j/ZQ%2BElzb3nijRNCjjsvjrqjOJ9U1W10yBzu8MKNizXcbOc5CKxAY4UgH0dRXjP/Ccf8FC/%2BjX/AIM/%2BH41b/5l6P8AhOP%2BChf/AEa/8Gf/AA/Grf8AzL0AezUV4z/wnH/BQv8A6Nf%2BDP8A4fjVv/mXo/4Tj/goX/0a/wDBn/w/Grf/ADL0AezUV84%2BPv2jv27fh34r8EeENY/ZQ%2BEk1x488US6FpUlt8ddUKQTx6VqGpl5d3hgEJ5OnTKCoY73QYwSy9R/wnH/AAUL/wCjX/gz/wCH41b/AOZegD2aivGf%2BE4/4KF/9Gv/AAZ/8Pxq3/zL0f8ACcf8FC/%2BjX/gz/4fjVv/AJl6APZqK8Z/4Tj/AIKF/wDRr/wZ/wDD8at/8y9cvq37R37duj/GfQPgdcfsofCRtU8ReF9X12zuU%2BOuqeRHBp1zptvMjk%2BGNwdm1SAqApBCSZKkKGAPo6ivGf8AhOP%2BChf/AEa/8Gf/AA/Grf8AzL0f8Jx/wUL/AOjX/gz/AOH41b/5l6APZqK8Z/4Tj/goX/0a/wDBn/w/Grf/ADL0f8Jx/wAFC/8Ao1/4M/8Ah%2BNW/wDmXoA9mor5x0n9o79u3WPjPr/wOt/2UPhIuqeHfC%2Bka7eXL/HXVPIkg1G51K3hRCPDG4uraXOWBUAB48FiWC9R/wAJx/wUL/6Nf%2BDP/h%2BNW/8AmXoA9morxn/hOP8AgoX/ANGv/Bn/AMPxq3/zL0f8Jx/wUL/6Nf8Agz/4fjVv/mXoA9morxn/AITj/goX/wBGv/Bn/wAPxq3/AMy9cv4B/aO/bt%2BInivxv4Q0f9lD4SQ3HgPxRFoWqyXPx11QJPPJpWn6mHi2%2BGCSnk6jCpLBTvRxjADMAfR1FeM/8Jx/wUL/AOjX/gz/AOH41b/5l6P%2BE4/4KF/9Gv8AwZ/8Pxq3/wAy9AHs1eM/sv8A/Jb/ANo7/ss1j/6hXhej/hOP%2BChf/Rr/AMGf/D8at/8AMvVv9lb4c/GnwfrHxQ8d/HTQPC%2Bk6p4%2B%2BIUWuWeleE/Etzq1va2sWg6Ppiq9xcWVmzSNJp0rlRFtCyINzHOAD1uiiigAooooAKKKKACiiigAooooAKKKKACiiigAooooAKKKKACiiigAooooAK%2BV/wBp79rT4ufDD4x%2BLNa8A%2BHfB8nhj4P%2BH/D9741OtaRcTarqlvq9/KlzBYXEdxGll5FtZx3GZIpxcyFIyIfL80/VFeM/Gf8AYh%2BHHxu%2BKR%2BJmueOfFWlxaja6Ra%2BL/DWjXVqmneKYNLvZL2xivllt5Jgsc00ufs8sBljkMUxljCoAD2aiiigAooooA%2BY/Dn7SvxMh/b/APFHwf8AiNrHh7wn4bXxBaaJ4Mi1H4Rayl14xgGgQajiDxG12unNLHd3OoAWgheTy7SYBQWaRfpyvK/Fn7LUHj/4yaR8U/Hvxv8AGur6V4e12PWtA8AXB0yLRrHUI7d4I5w0Nkl7Ls8ySRUmupIxI%2B7Z8iBfVKACiiigDxf/AIKC/F344fs/fsj%2BNPj18Ar3wpHrHgnQrvXLqDxhotzfW13aWttLM9uiW11bMkrsiKJC5VAWJR%2BBXn/jz9rT4ueC/jx4t1Pwp4d8IRfDzwh8Y/CPw%2B8ZWc2kXB1vVdV12DRUj1CG7S4WGOOD%2B3NJjMUlvK8iQz4lj2oK9h/ax/Zxsv2tPgRr37PutfFXxT4R0nxPZS2OuX/hBdO%2B13NlLE8U1tuv7S6jRHV%2BWRFkBUbXXnPFwfsA%2BDp/iLZ/EXxV8cfH2usdZ0nXPE2jahLpUVj4n1zTEjSx1a9jtrCJluIhBaYW2aCBjY2xeJjHkgHvdFFFABXi/wC2T8Xfjh8ErXwD4x%2BFl74U/sbUPiZ4c8PeL7HxBotzc3Vza6rrNjpoNnLDdQpbSRrcyyb5EnUlEXZyTXtFeVftXfstv%2B1V4b0LwvP8ffG/ga30LxJYa6jeC4dHZ7u9sbyC8s2lOpafeDbFcW8bhYwgblZN6naADzj9nn9pX4ma3%2B1V4t%2BCPxQ1fw94T06HxTrdv4J8JSfCLWdMudetoXSU39vrVxd/YNQdjJNLLFbQF%2BS7FcMT9OV5LpP7KIf4yaL8ZfiP%2B0B478azeF7u8u/CeheIRpMNho91c28lrJcRLYafbSyv9nmnhXz5JVRZ32gEgj1qgAooooA8P/bu%2BLnx4/Z%2B%2BDWr/HX4UeMfAtjp/hbRbm8vdF8WeGb2/ufEN7lFs9Ms5La9g%2BzzXEpFujeVdM0s8QWFj8ref/BH9r74z658S/BX9reDPCWkfDTxv8T/ABR8NvCvhrTtLmj1fRL/AECHVt889yLhreaCRvD%2BposMdvEY1a2PmSZYD0/9pX9kGD9pLx54I%2BIE37QPjvwhc%2BAbu5vdFsfDEWjT2cl7KgjW8mg1PTrxHnhj8xYZAFMYnlI%2BZsir4D/Ya%2BHvgP4y2/xdh%2BIvi7UoNO13U9e0TwhqVzZf2TpWt6jG8eoapAkVqk/nzie7LK8zwo19cmOKPzOAD2uiiigAr5f/AGufjx%2B0v8FviJp/hTSofAHjXR/HMOtW2i/DmLwffSawlraaHdXcl/cTi9eK6thdRW9tJCLWIH7fCgmMjIkn1BXh037E1xH%2B0f4r/aa0T9qv4l6dq/i3TYdOudLhg8Pz2mn2cMDRw21m1zpMtzbxLK73WxZtrzuXcODtoAZ%2Bwh%2B0H43%2BPfw9vLr4r%2BPtGvvF2nCzbX/Ddl8LtX8I3mgPPbLKILmy1e6nuHBbf5dwAkciodobaTXuleb/AAO/Zu074M%2BJ/EnxD1j4peKfHHirxXFY2%2BseJ/FzWC3L2lmJvstqkWn2trbRxRtc3LjbCGZriQszZGPSKACiiigD45/4KCftx/FT9jDxz/aeuaLoHjHwi%2Bjajrdv4Vl%2BHOp2Utumm6Nfakkn/CRTXT6ZPd/a9NGyxWBLoRzLKBthaRvXv2aPi78c9W%2BKnjf9nr9o658Kah4n8I6ToetR614K0i5sLG5sdUF5GkRgubm5dZYrjTrtS/m4kQxNsjJKit8df2EvBH7TmtXVr8f/AIt%2BNfFHgu5kuJF%2BGV5JpsOixSTWM1kzb7eyjvpAI7iZgkt06B33bfkQL0/7Pn7M2kfAO817xFd/FDxZ448R%2BJDZx6t4q8a3Fm99LbWkRitbUfY7a3hWKIPKwxHvZ55XdnZyaAPSqKKKACviP9qf9sr9rP4N/GrxB8KPB3hvw5411Ow0W413wwE%2BB/iCOTRQNR0y1Qwt9uceJpBY6pced/ZflPC0JWURiYR19uV4fr37Fup%2BJfHp%2BJ2tftc/FGbW9PgvIvBt4U0ADwqt1NDJP9kjGk7J2aOBbfderdMsTOFKu7OQDqv2WPiw/wAZPhHB4svfiZo3iq/h1G6stUvtG8GX3h0W1xFKytazabqFxPdWc8YwrxzOHz821QwFejVw3wD%2BAvh74AeGdT0bSvFOt%2BINR1/XrjW/EniTxHNA17qt/MERp5RbxQwJiOKGJUhijjVIkAUYJPc0AFFFFABRRRQAUUUUAFFFFAFHxR4hsPCXhrUfFeqhza6ZYzXdyIly3lxoXbA7nCmvnP8AYm/aT%2BNfj/xTo/gz42eHvBlmPHXwtsviN4Zh8GaVcWg0yO8uCbvT7szXEou5o3ubZ/tiCATtLMTBHtBf6Wu7S1v7WWxvbdJoZo2jmilUMrqRgqQeCCOMV5D%2BzN%2BxX4C/Zg1V9X0D4g%2BLfEstt4YsfDPh0eLL21mGgaFZvI9vptqbe3hLRqZPmlnM1xII4vMmfy1wAexUUUUAFcL%2B1B48%2BIvws/Zo%2BInxO%2BD/AIUXXvFvhzwLq%2BqeFtDaxmuhqOo29nLLbWxhgZZZhJKiJ5cbB23YUgkGu6rO8W6Jf%2BJfDGoeH9L8V6joVze2kkNvrWkLA11YuykCaIXEUsRdTyBJG6ZHzKwyCAeXfsU/Fqf4ofDO%2BstW%2BIXh/WdT8O6qunXmmaJ8MNT8HPoaC2gkis7jStUuZ7mFwjiRXby0eKWLYmBvf2KvPPgP%2BztpPwOvPEviO5%2BIniTxj4k8X6jDeeIvFPit7MXd0YbdLeCIR2NtbW0UUcaAKscKZLOzFmZmPodABRRRQB8uftUftY/FD9nD4veOLL4laN4S8RfC%2Bw/Z38X%2BPbbQrfRLhNVdtEGlrPbXFzJcvbzRTrfTgILZCoRMu%2BWFdv8Asz/F/wCPmqfFzxl%2Bzr%2B0s/hK88UeGPDHh7xLHqvgrSbmxspLLVn1K3W2MNzc3LmWG40i7BlEgWRHiby4zuWoPjH%2Bwr4d%2BOnx1b4y%2BPPjt45l02bwVqfhG%2B%2BHsMGi/wBiXejaktt9vtJC%2BmtekTtaQOzi6DqUIRkRmQ9J%2Bzv%2By7of7Pt9rXiOf4oeLfG/iHX7Wwsr/wAT%2BNrm0kvTYWKSLZ2Y%2ByW1vH5URnuHBKGR3uZXd3Zs0Aen0UUUAFfInxr/AGl/2tvBmu/tAeBLfwr4M8WXvgLw/wCFPEnw2sdJ%2BH%2Bp386x6jqupQhLy1ivHl1GeBdNjnU2wtyXJCr8qtX13Xhcv7FHiGL46eNvj/oX7aHxW0rVvG%2BkWOmXNjZWfhhrTTbayuLmezS2EuivJ%2B6N5dKDM8pdZyJPMKoVAOr/AGVPi3N8ZfhSPE2o/E7RvFOo2uq3Njq11o/gi/8ADZs7iJvmtZ9M1G4nurSdFK7kmYMQyttVWFek1wnwD%2BAegfAHQtZsdP8AFuueI9V8TeIJdc8T%2BJvEktu17qt/JDDB5sgtoYYIwsFvbwqkUUaKkKALnJPd0AFFFFAHxt%2B0t%2B13%2B0t%2Bzx8ZoPhtrKfDPxrfa3BBN4Rh07wte2kvgu81LxDpnh7SJtTle%2BmF1FO2rzgtEtnI4sbpYwy%2BYYvcf2Vfi/8AEj4jDx/8PvjEdEn8VfDTx43hrWdV8NadNZ2Gp%2BZpenatb3ENvNPPJb5tdUt0eNppcSRyYYgjHC23/BNXwk118Q38Q/tL/E7Wbf4k68dc1i31I6F5lnqUVxDPp9zbXUWlpdKbB7e3FpG80kUSwoGR%2Bc%2BsfAP4C6H8A/D2rabZeL9c8Sat4i16bWvE/ijxK9sb/V76SOKHzphawQQLsggt4ESKKNFjgjULwSQDuqKKKAGXP2n7NJ9j2edsPlebnbuxxnHOM18QfFb9rn9tP4afETXPhtb23gPxnr3hi98NW%2BreOvBHwV1/Vo/DlvqzXj3thLpVnqU93czRw2VjdExTp%2B7uoWlgQGJpPt67hkuLWW3hupIHkjZVniCl4yRgMu4FcjqMgj1Br57%2BDH7AXiD4CfDa4%2BGnw7/bq%2BMUUd1qz6nNrN5ZeE59Qlu5XlkuZ5pn0I/aZJ3l3SSTiR8xpsKAYIB6z8BPiHZfFb4O%2BH/iFYfEDRvFSanp4kfX/D%2BkzWFpdyAlZClrPNNLbFXVkaGSR3jZWVjuUgdfXJfAv4L%2BEv2ffhfp3wp8FXN/cWVhLdXE19qtyJrq%2Bu7q5lurq6mcKoaWa4nmlfaqrukO1VXCjraACqPieHxJc%2BG9Qt/Bup2Nlq8llKul3mp2D3VtBcFCI5JYY5YmmjVsFkWSMsAQHUncL1ZvjHQb/wAUeFr/AMO6X4t1LQbm8tXig1rRxAbqxcjiaIXEUsRdTyBJG6HHzKwyKAPh74b/ALdn7Wvxg%2BKet/BL4Wab8Pk8Z6ba67fSeM/Ffwu1rQ11TTNItdFlSxl0S8vk1DT5Xu/EOxJp5nj8qGS4SF1nQH7G%2BAXxa034%2BfAnwV8ddG02Wzs/GvhLTdetLOZ9zwRXlrHcLGxAGSokAJ9RXi2r/wDBMjwPrWuX3xFu/wBpT4pp8QNWS8tda%2BJNte6RDq1/pl1bWttNphRNNFnDbFLK0YeRbRSrJAsqyhyzH6D8F%2BD/AA18PPB2k%2BAPBmkxafo%2Bh6ZBp%2Bk2EOdltbQxrHFGuecKiqo%2BlAGnRRRQBy/xp1Hxxo3wt1rW/hz4hsdL1awszdQ32oeD73xAiRxkPKBp1jPBc3kjRK6pFDIHLsuFc/I3xb8Jf%2BCiPx%2B8SeNND1PxvceEfAngzUp518QeOLz4GeIprbWL%2BHX7rSES5lW%2BjTwzPJa2lr%2B41RpJYHlWN87AlfbfxM8Ga7498JTeHPDfxS1/wbeSSxvFr/hmKxe7g2sCVVb%2B2uYGDAFSHibgnGDgjxW6/wCCc3hTUPB9x8NtW/aQ%2BJt34Y1zUJr/AMeaBNcaOIvGF3PeNdXE19Kumi4i80ssLR2ctrEIYkjVFG7cAfRNFFFABRRRQAUUUUAFFFFABRRRQAUUUUAFFFFABRRRQAUUUUAFFFFABRRRQAUUUUAFFFFABRRRQAUUUUAFFFFABRRRQAUUUUAFFFFABRRRQAUUUUAFFFFABRRRQAUUUUAFFFFABRRRQAUUUUAFFFFABRRRQAUUUUAFFFFABRRRQAUUUUAFFFFABRRRQAUUUUAFFFFABRRRQAUUUUAFFFFABRRRQAUUUUAFFFFABRRRQAUUUUAFFFFABRRRQAUUUUAFFFFABRRRQAUUUUAFFFFABRRRQAUUUUAFFFFABRRRQAUUUUAFFFFABRRRQAUUUUAFFFFAH//Z\">"
            ]
          },
          "metadata": {
            "tags": []
          }
        }
      ]
    },
    {
      "cell_type": "markdown",
      "metadata": {
        "id": "kyHSrpupptdJ",
        "colab_type": "text"
      },
      "source": [
        "# Submit the MLP with 2 hidden layers\n",
        "Run these cells after training the MLP with 2 hidden layers"
      ]
    },
    {
      "cell_type": "code",
      "metadata": {
        "id": "CY7eUa5ZptdM",
        "colab_type": "code",
        "colab": {}
      },
      "source": [
        "## GRADED PART, DO NOT CHANGE!\n",
        "# Validation loss for MLP\n",
        "#grader.set_answer(\"i8bgs\", s.run(loss, {input_X: X_val_flat, input_y: y_val_oh}))\n",
        "# Validation accuracy for MLP\n",
        "#grader.set_answer(\"rE763\", accuracy_score(y_val, s.run(classes, {input_X: X_val_flat})))"
      ],
      "execution_count": 0,
      "outputs": []
    },
    {
      "cell_type": "code",
      "metadata": {
        "id": "5DhLZ-14ptdS",
        "colab_type": "code",
        "colab": {}
      },
      "source": [
        "# you can make submission with answers so far to check yourself at this stage\n",
        "#grader.submit(COURSERA_EMAIL, COURSERA_TOKEN)"
      ],
      "execution_count": 0,
      "outputs": []
    },
    {
      "cell_type": "code",
      "metadata": {
        "id": "Tccpyt-_ptdW",
        "colab_type": "code",
        "colab": {}
      },
      "source": [
        ""
      ],
      "execution_count": 0,
      "outputs": []
    }
  ]
}